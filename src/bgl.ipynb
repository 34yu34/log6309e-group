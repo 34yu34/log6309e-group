{
 "cells": [
  {
   "cell_type": "code",
   "execution_count": 1,
   "outputs": [
    {
     "name": "stderr",
     "output_type": "stream",
     "text": [
      "4713494it [00:21, 217815.56it/s]\n"
     ]
    },
    {
     "name": "stdout",
     "output_type": "stream",
     "text": [
      "====== Splitting summary ======\n",
      "Total number of test sessions: 53\n",
      "Total number of train sessions: 209\n",
      "Done 🎉\n"
     ]
    }
   ],
   "source": [
    "from src.logrep.converter import convert_bgl_to_pyz\n",
    "\n",
    "\n",
    "convert_bgl_to_pyz('../data/BGL/BGL.log_structured.csv', '../data/BGL/BGL.log.splitted')\n"
   ],
   "metadata": {
    "collapsed": false,
    "ExecuteTime": {
     "end_time": "2023-10-11T14:54:20.129777Z",
     "start_time": "2023-10-11T14:53:37.381971Z"
    }
   },
   "id": "b1ad1217eb72dd28"
  },
  {
   "cell_type": "code",
   "execution_count": 8,
   "outputs": [
    {
     "name": "stdout",
     "output_type": "stream",
     "text": [
      "# train sessions: 209 (84.69%)\n",
      "# test sessions: 53 (84.91%)\n",
      "Training set - Current:  0\n",
      "Test set - Current:  0\n",
      "Saving to ../data/BGL/text-tfidf-template-BGL.log.splitted.npz\n",
      "Done 🎉\n"
     ]
    }
   ],
   "source": [
    "from src.logrep.ttidfgenerator import generate\n",
    "\n",
    "generate('../data/BGL', 'BGL.log.splitted')"
   ],
   "metadata": {
    "collapsed": false,
    "ExecuteTime": {
     "end_time": "2023-10-11T14:57:41.614518Z",
     "start_time": "2023-10-11T14:57:02.666427Z"
    }
   },
   "id": "e20e811e6da2939a"
  },
  {
   "cell_type": "code",
   "execution_count": 9,
   "outputs": [],
   "source": [
    "import numpy as np\n",
    "loaded = np.load('../data/BGL/text-tfidf-template-BGL.log.splitted.npz', allow_pickle=True)\n",
    "train_x = loaded['x_train'][()]\n",
    "train_y = loaded['y_train']\n",
    "test_x = loaded['x_test'][()]\n",
    "test_y = loaded['y_test']"
   ],
   "metadata": {
    "collapsed": false,
    "ExecuteTime": {
     "end_time": "2023-10-11T14:57:41.641553Z",
     "start_time": "2023-10-11T14:57:41.613997Z"
    }
   },
   "id": "a17602a2b7da8145"
  },
  {
   "cell_type": "code",
   "execution_count": 10,
   "outputs": [
    {
     "name": "stdout",
     "output_type": "stream",
     "text": [
      "====== Model summary ======\n",
      "====== Evaluation summary ======\n",
      "Precision: 1.000, recall: 0.978, F1-measure: 0.989\n"
     ]
    },
    {
     "data": {
      "text/plain": "(1.0, 0.9777777777777777, 0.9887640449438202)"
     },
     "execution_count": 10,
     "metadata": {},
     "output_type": "execute_result"
    }
   ],
   "source": [
    "from src.models.traditional import DecisionTree\n",
    "\n",
    "decision_tree = DecisionTree()\n",
    "decision_tree.fit(train_x, train_y)\n",
    "decision_tree.evaluate(test_x, test_y)"
   ],
   "metadata": {
    "collapsed": false,
    "ExecuteTime": {
     "end_time": "2023-10-11T14:57:41.654917Z",
     "start_time": "2023-10-11T14:57:41.643257Z"
    }
   },
   "id": "9187d0ca05b236ad"
  },
  {
   "cell_type": "code",
   "execution_count": 6,
   "outputs": [
    {
     "name": "stdout",
     "output_type": "stream",
     "text": [
      "====== Model summary ======\n",
      "====== Evaluation summary ======\n",
      "Precision: 0.898, recall: 0.978, F1-measure: 0.936\n"
     ]
    },
    {
     "data": {
      "text/plain": "(0.8979591836734694, 0.9777777777777777, 0.9361702127659575)"
     },
     "execution_count": 6,
     "metadata": {},
     "output_type": "execute_result"
    }
   ],
   "source": [
    "from src.models.traditional import LR\n",
    "\n",
    "lr = LR(max_iter=100000)\n",
    "lr.fit(train_x, train_y)\n",
    "lr.evaluate(test_x, test_y)"
   ],
   "metadata": {
    "collapsed": false,
    "ExecuteTime": {
     "end_time": "2023-10-11T14:54:37.159401Z",
     "start_time": "2023-10-11T14:54:36.974200Z"
    }
   },
   "id": "38eb6ecad0a255ac"
  },
  {
   "cell_type": "code",
   "execution_count": 7,
   "outputs": [
    {
     "name": "stdout",
     "output_type": "stream",
     "text": [
      "Precision: 0.844, recall: 0.927, F1-measure: 0.884\n",
      "\n",
      "Precision: 0.844, recall: 0.927, F1-measure: 0.884\n",
      "\n",
      "Precision: 0.844, recall: 0.927, F1-measure: 0.884\n",
      "\n",
      "Precision: 0.844, recall: 0.927, F1-measure: 0.884\n",
      "\n",
      "Precision: 0.844, recall: 0.927, F1-measure: 0.884\n",
      "\n",
      "average:  0.8444444444444444 0.9268292682926831 0.8837209302325582\n"
     ]
    }
   ],
   "source": [
    "from src.models.traditional import SVM\n",
    "\n",
    "svm = SVM(train_x, train_y, test_x, test_y)\n",
    "svm.evaluate()\n"
   ],
   "metadata": {
    "collapsed": false,
    "ExecuteTime": {
     "end_time": "2023-10-11T14:54:37.941559Z",
     "start_time": "2023-10-11T14:54:37.852730Z"
    }
   },
   "id": "27401106e26b412b"
  },
  {
   "cell_type": "code",
   "execution_count": null,
   "outputs": [],
   "source": [],
   "metadata": {
    "collapsed": false
   },
   "id": "f89933ecc8775ea4"
  }
 ],
 "metadata": {
  "kernelspec": {
   "display_name": "Python 3",
   "language": "python",
   "name": "python3"
  },
  "language_info": {
   "codemirror_mode": {
    "name": "ipython",
    "version": 2
   },
   "file_extension": ".py",
   "mimetype": "text/x-python",
   "name": "python",
   "nbconvert_exporter": "python",
   "pygments_lexer": "ipython2",
   "version": "2.7.6"
  }
 },
 "nbformat": 4,
 "nbformat_minor": 5
}
