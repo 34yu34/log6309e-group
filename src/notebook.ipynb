{
 "cells": [
  {
   "cell_type": "code",
   "execution_count": 179,
   "outputs": [],
   "source": [
    "import pandas as pd\n",
    "input_file = '../data/BGL/BGL.log_structured.csv'\n",
    "df = pd.read_csv(input_file)\n",
    "\n",
    "df['Time'] = pd.to_datetime(df['Time'], format=\"%Y-%m-%d-%H.%M.%S.%f\")\n",
    "\n"
   ],
   "metadata": {
    "collapsed": false,
    "ExecuteTime": {
     "end_time": "2023-10-08T16:06:13.895237Z",
     "start_time": "2023-10-08T16:05:58.278846Z"
    }
   },
   "id": "initial_id"
  },
  {
   "cell_type": "code",
   "execution_count": 191,
   "outputs": [],
   "source": [
    "df['IsAnomaly'] = df['Label'] != '-'\n",
    "g = df.groupby([pd.Grouper(key='Time', freq='6H'), 'EventId'])\n",
    "h = df.groupby([pd.Grouper(key='Time', freq='6H')])"
   ],
   "metadata": {
    "collapsed": false,
    "ExecuteTime": {
     "end_time": "2023-10-08T16:13:53.651016Z",
     "start_time": "2023-10-08T16:13:52.659480Z"
    }
   },
   "id": "d88cbf3b1348928c"
  },
  {
   "cell_type": "code",
   "execution_count": 200,
   "outputs": [],
   "source": [
    "anomaly_df = h.apply(lambda x: x.loc[:, 'IsAnomaly'].any()).reset_index()\n",
    "count_df = g.apply(lambda x: x.shape[0]).reset_index()\n"
   ],
   "metadata": {
    "collapsed": false,
    "ExecuteTime": {
     "end_time": "2023-10-08T16:18:42.433244Z",
     "start_time": "2023-10-08T16:18:41.353988Z"
    }
   },
   "id": "5814ddfea1402a"
  },
  {
   "cell_type": "code",
   "execution_count": 206,
   "outputs": [],
   "source": [
    "count_df.rename({0:'count'}, axis=1, inplace=True)\n",
    "anomaly_df.rename({0:'is_anomaly'}, axis=1, inplace=True)\n",
    "merged = pd.merge(anomaly_df, count_df, how='outer', on='Time')"
   ],
   "metadata": {
    "collapsed": false,
    "ExecuteTime": {
     "end_time": "2023-10-08T16:20:17.477108Z",
     "start_time": "2023-10-08T16:20:17.470291Z"
    }
   },
   "id": "7836b96844a635a5"
  },
  {
   "cell_type": "code",
   "execution_count": 246,
   "outputs": [
    {
     "data": {
      "text/plain": "                     Time  is_anomaly   EventId   count\n0     2005-06-03 12:00:00       False  070de4aa  4286.0\n1     2005-06-03 12:00:00       False  147cfcff    19.0\n2     2005-06-03 12:00:00       False  3aa50e45  4863.0\n3     2005-06-03 12:00:00       False  4cecb415     5.0\n4     2005-06-03 12:00:00       False  5569cffc    10.0\n...                   ...         ...       ...     ...\n17556 2006-01-04 06:00:00        True  7a03d1e9    10.0\n17557 2006-01-04 06:00:00        True  8df7ac9e     5.0\n17558 2006-01-04 06:00:00        True  996c9c62     1.0\n17559 2006-01-04 06:00:00        True  d7623fbd     8.0\n17560 2006-01-04 06:00:00        True  f0c191b1    17.0\n\n[17561 rows x 4 columns]",
      "text/html": "<div>\n<style scoped>\n    .dataframe tbody tr th:only-of-type {\n        vertical-align: middle;\n    }\n\n    .dataframe tbody tr th {\n        vertical-align: top;\n    }\n\n    .dataframe thead th {\n        text-align: right;\n    }\n</style>\n<table border=\"1\" class=\"dataframe\">\n  <thead>\n    <tr style=\"text-align: right;\">\n      <th></th>\n      <th>Time</th>\n      <th>is_anomaly</th>\n      <th>EventId</th>\n      <th>count</th>\n    </tr>\n  </thead>\n  <tbody>\n    <tr>\n      <th>0</th>\n      <td>2005-06-03 12:00:00</td>\n      <td>False</td>\n      <td>070de4aa</td>\n      <td>4286.0</td>\n    </tr>\n    <tr>\n      <th>1</th>\n      <td>2005-06-03 12:00:00</td>\n      <td>False</td>\n      <td>147cfcff</td>\n      <td>19.0</td>\n    </tr>\n    <tr>\n      <th>2</th>\n      <td>2005-06-03 12:00:00</td>\n      <td>False</td>\n      <td>3aa50e45</td>\n      <td>4863.0</td>\n    </tr>\n    <tr>\n      <th>3</th>\n      <td>2005-06-03 12:00:00</td>\n      <td>False</td>\n      <td>4cecb415</td>\n      <td>5.0</td>\n    </tr>\n    <tr>\n      <th>4</th>\n      <td>2005-06-03 12:00:00</td>\n      <td>False</td>\n      <td>5569cffc</td>\n      <td>10.0</td>\n    </tr>\n    <tr>\n      <th>...</th>\n      <td>...</td>\n      <td>...</td>\n      <td>...</td>\n      <td>...</td>\n    </tr>\n    <tr>\n      <th>17556</th>\n      <td>2006-01-04 06:00:00</td>\n      <td>True</td>\n      <td>7a03d1e9</td>\n      <td>10.0</td>\n    </tr>\n    <tr>\n      <th>17557</th>\n      <td>2006-01-04 06:00:00</td>\n      <td>True</td>\n      <td>8df7ac9e</td>\n      <td>5.0</td>\n    </tr>\n    <tr>\n      <th>17558</th>\n      <td>2006-01-04 06:00:00</td>\n      <td>True</td>\n      <td>996c9c62</td>\n      <td>1.0</td>\n    </tr>\n    <tr>\n      <th>17559</th>\n      <td>2006-01-04 06:00:00</td>\n      <td>True</td>\n      <td>d7623fbd</td>\n      <td>8.0</td>\n    </tr>\n    <tr>\n      <th>17560</th>\n      <td>2006-01-04 06:00:00</td>\n      <td>True</td>\n      <td>f0c191b1</td>\n      <td>17.0</td>\n    </tr>\n  </tbody>\n</table>\n<p>17561 rows × 4 columns</p>\n</div>"
     },
     "execution_count": 246,
     "metadata": {},
     "output_type": "execute_result"
    }
   ],
   "source": [
    "merged"
   ],
   "metadata": {
    "collapsed": false,
    "ExecuteTime": {
     "end_time": "2023-10-08T16:36:21.001014Z",
     "start_time": "2023-10-08T16:36:20.994307Z"
    }
   },
   "id": "caffe2b7dfd06c46"
  },
  {
   "cell_type": "code",
   "execution_count": 247,
   "outputs": [],
   "source": [
    "event_count_vector = merged.pivot(index=[\"Time\", 'is_anomaly'],\n",
    "                                    columns=\"EventId\").fillna(0)"
   ],
   "metadata": {
    "collapsed": false,
    "ExecuteTime": {
     "end_time": "2023-10-08T16:36:25.000068Z",
     "start_time": "2023-10-08T16:36:24.994303Z"
    }
   },
   "id": "933dac1676682adb"
  },
  {
   "cell_type": "code",
   "execution_count": 248,
   "outputs": [
    {
     "data": {
      "text/plain": "                               count                                      \\\nEventId                          NaN 0045c3a8 01c4e373 02430fd4 0256fb0b   \nTime                is_anomaly                                             \n2005-06-03 12:00:00 False        0.0      0.0      0.0      0.0      0.0   \n2005-06-03 18:00:00 False        0.0      0.0      0.0      0.0      0.0   \n2005-06-04 00:00:00 True         0.0      0.0      0.0      0.0      0.0   \n2005-06-04 06:00:00 False        0.0      0.0      0.0      0.0      0.0   \n2005-06-04 12:00:00 False        0.0      0.0      0.0      0.0      0.0   \n...                              ...      ...      ...      ...      ...   \n2006-01-03 06:00:00 True         0.0      0.0      0.0      0.0      0.0   \n2006-01-03 12:00:00 True         0.0      0.0      0.0      0.0      0.0   \n2006-01-03 18:00:00 False        0.0      0.0      0.0      0.0      0.0   \n2006-01-04 00:00:00 False        0.0      0.0      0.0      0.0      0.0   \n2006-01-04 06:00:00 True         0.0      0.0      0.0      0.0      0.0   \n\n                                                                             \\\nEventId                        0315e48d 0328c31b 045f554d 04639923 04f5a2ae   \nTime                is_anomaly                                                \n2005-06-03 12:00:00 False           0.0      0.0      0.0      0.0      0.0   \n2005-06-03 18:00:00 False           0.0      0.0      0.0      0.0      0.0   \n2005-06-04 00:00:00 True            0.0      0.0      0.0      0.0      0.0   \n2005-06-04 06:00:00 False           0.0      0.0      0.0      0.0      0.0   \n2005-06-04 12:00:00 False           0.0      0.0      0.0      0.0      0.0   \n...                                 ...      ...      ...      ...      ...   \n2006-01-03 06:00:00 True            0.0      0.0      0.0      0.0      0.0   \n2006-01-03 12:00:00 True            0.0      0.0      0.0      0.0      0.0   \n2006-01-03 18:00:00 False           0.0      0.0      0.0      0.0      0.0   \n2006-01-04 00:00:00 False           0.0      0.0      0.0      0.0      0.0   \n2006-01-04 06:00:00 True            0.0      0.0      0.0      0.0      0.0   \n\n                                ...                                      \\\nEventId                         ... f7c382bd f80a5ed5 f97e57f1 f9df8a24   \nTime                is_anomaly  ...                                       \n2005-06-03 12:00:00 False       ...      0.0      0.0      0.0      0.0   \n2005-06-03 18:00:00 False       ...      0.0      0.0      0.0      0.0   \n2005-06-04 00:00:00 True        ...      0.0      0.0      0.0      0.0   \n2005-06-04 06:00:00 False       ...      0.0      0.0      0.0      0.0   \n2005-06-04 12:00:00 False       ...      0.0      0.0      0.0      0.0   \n...                             ...      ...      ...      ...      ...   \n2006-01-03 06:00:00 True        ...      0.0      0.0      0.0      3.0   \n2006-01-03 12:00:00 True        ...      0.0      0.0      0.0      1.0   \n2006-01-03 18:00:00 False       ...      0.0      0.0      0.0      0.0   \n2006-01-04 00:00:00 False       ...      0.0      0.0      0.0      0.0   \n2006-01-04 06:00:00 True        ...      0.0      0.0      0.0      0.0   \n\n                                                                             \\\nEventId                        fac52822 fb1560b4 fb225cd2 fe297487 feaae979   \nTime                is_anomaly                                                \n2005-06-03 12:00:00 False           0.0      0.0      0.0      0.0      0.0   \n2005-06-03 18:00:00 False           0.0      0.0      0.0      0.0      0.0   \n2005-06-04 00:00:00 True            0.0      0.0      0.0      0.0      0.0   \n2005-06-04 06:00:00 False           0.0      0.0      0.0      0.0      0.0   \n2005-06-04 12:00:00 False           0.0      0.0      0.0      0.0      0.0   \n...                                 ...      ...      ...      ...      ...   \n2006-01-03 06:00:00 True            0.0      0.0      0.0      0.0      0.0   \n2006-01-03 12:00:00 True            0.0      0.0      0.0      0.0      0.0   \n2006-01-03 18:00:00 False           0.0      0.0      0.0      0.0      0.0   \n2006-01-04 00:00:00 False           0.0      0.0      0.0      0.0      0.0   \n2006-01-04 06:00:00 True            0.0      0.0      0.0      0.0      0.0   \n\n                                         \nEventId                        ff52c40c  \nTime                is_anomaly           \n2005-06-03 12:00:00 False           0.0  \n2005-06-03 18:00:00 False           0.0  \n2005-06-04 00:00:00 True            0.0  \n2005-06-04 06:00:00 False           0.0  \n2005-06-04 12:00:00 False           0.0  \n...                                 ...  \n2006-01-03 06:00:00 True            0.0  \n2006-01-03 12:00:00 True            0.0  \n2006-01-03 18:00:00 False           0.0  \n2006-01-04 00:00:00 False           0.0  \n2006-01-04 06:00:00 True            0.0  \n\n[860 rows x 388 columns]",
      "text/html": "<div>\n<style scoped>\n    .dataframe tbody tr th:only-of-type {\n        vertical-align: middle;\n    }\n\n    .dataframe tbody tr th {\n        vertical-align: top;\n    }\n\n    .dataframe thead tr th {\n        text-align: left;\n    }\n\n    .dataframe thead tr:last-of-type th {\n        text-align: right;\n    }\n</style>\n<table border=\"1\" class=\"dataframe\">\n  <thead>\n    <tr>\n      <th></th>\n      <th></th>\n      <th colspan=\"21\" halign=\"left\">count</th>\n    </tr>\n    <tr>\n      <th></th>\n      <th>EventId</th>\n      <th>NaN</th>\n      <th>0045c3a8</th>\n      <th>01c4e373</th>\n      <th>02430fd4</th>\n      <th>0256fb0b</th>\n      <th>0315e48d</th>\n      <th>0328c31b</th>\n      <th>045f554d</th>\n      <th>04639923</th>\n      <th>04f5a2ae</th>\n      <th>...</th>\n      <th>f7c382bd</th>\n      <th>f80a5ed5</th>\n      <th>f97e57f1</th>\n      <th>f9df8a24</th>\n      <th>fac52822</th>\n      <th>fb1560b4</th>\n      <th>fb225cd2</th>\n      <th>fe297487</th>\n      <th>feaae979</th>\n      <th>ff52c40c</th>\n    </tr>\n    <tr>\n      <th>Time</th>\n      <th>is_anomaly</th>\n      <th></th>\n      <th></th>\n      <th></th>\n      <th></th>\n      <th></th>\n      <th></th>\n      <th></th>\n      <th></th>\n      <th></th>\n      <th></th>\n      <th></th>\n      <th></th>\n      <th></th>\n      <th></th>\n      <th></th>\n      <th></th>\n      <th></th>\n      <th></th>\n      <th></th>\n      <th></th>\n      <th></th>\n    </tr>\n  </thead>\n  <tbody>\n    <tr>\n      <th>2005-06-03 12:00:00</th>\n      <th>False</th>\n      <td>0.0</td>\n      <td>0.0</td>\n      <td>0.0</td>\n      <td>0.0</td>\n      <td>0.0</td>\n      <td>0.0</td>\n      <td>0.0</td>\n      <td>0.0</td>\n      <td>0.0</td>\n      <td>0.0</td>\n      <td>...</td>\n      <td>0.0</td>\n      <td>0.0</td>\n      <td>0.0</td>\n      <td>0.0</td>\n      <td>0.0</td>\n      <td>0.0</td>\n      <td>0.0</td>\n      <td>0.0</td>\n      <td>0.0</td>\n      <td>0.0</td>\n    </tr>\n    <tr>\n      <th>2005-06-03 18:00:00</th>\n      <th>False</th>\n      <td>0.0</td>\n      <td>0.0</td>\n      <td>0.0</td>\n      <td>0.0</td>\n      <td>0.0</td>\n      <td>0.0</td>\n      <td>0.0</td>\n      <td>0.0</td>\n      <td>0.0</td>\n      <td>0.0</td>\n      <td>...</td>\n      <td>0.0</td>\n      <td>0.0</td>\n      <td>0.0</td>\n      <td>0.0</td>\n      <td>0.0</td>\n      <td>0.0</td>\n      <td>0.0</td>\n      <td>0.0</td>\n      <td>0.0</td>\n      <td>0.0</td>\n    </tr>\n    <tr>\n      <th>2005-06-04 00:00:00</th>\n      <th>True</th>\n      <td>0.0</td>\n      <td>0.0</td>\n      <td>0.0</td>\n      <td>0.0</td>\n      <td>0.0</td>\n      <td>0.0</td>\n      <td>0.0</td>\n      <td>0.0</td>\n      <td>0.0</td>\n      <td>0.0</td>\n      <td>...</td>\n      <td>0.0</td>\n      <td>0.0</td>\n      <td>0.0</td>\n      <td>0.0</td>\n      <td>0.0</td>\n      <td>0.0</td>\n      <td>0.0</td>\n      <td>0.0</td>\n      <td>0.0</td>\n      <td>0.0</td>\n    </tr>\n    <tr>\n      <th>2005-06-04 06:00:00</th>\n      <th>False</th>\n      <td>0.0</td>\n      <td>0.0</td>\n      <td>0.0</td>\n      <td>0.0</td>\n      <td>0.0</td>\n      <td>0.0</td>\n      <td>0.0</td>\n      <td>0.0</td>\n      <td>0.0</td>\n      <td>0.0</td>\n      <td>...</td>\n      <td>0.0</td>\n      <td>0.0</td>\n      <td>0.0</td>\n      <td>0.0</td>\n      <td>0.0</td>\n      <td>0.0</td>\n      <td>0.0</td>\n      <td>0.0</td>\n      <td>0.0</td>\n      <td>0.0</td>\n    </tr>\n    <tr>\n      <th>2005-06-04 12:00:00</th>\n      <th>False</th>\n      <td>0.0</td>\n      <td>0.0</td>\n      <td>0.0</td>\n      <td>0.0</td>\n      <td>0.0</td>\n      <td>0.0</td>\n      <td>0.0</td>\n      <td>0.0</td>\n      <td>0.0</td>\n      <td>0.0</td>\n      <td>...</td>\n      <td>0.0</td>\n      <td>0.0</td>\n      <td>0.0</td>\n      <td>0.0</td>\n      <td>0.0</td>\n      <td>0.0</td>\n      <td>0.0</td>\n      <td>0.0</td>\n      <td>0.0</td>\n      <td>0.0</td>\n    </tr>\n    <tr>\n      <th>...</th>\n      <th>...</th>\n      <td>...</td>\n      <td>...</td>\n      <td>...</td>\n      <td>...</td>\n      <td>...</td>\n      <td>...</td>\n      <td>...</td>\n      <td>...</td>\n      <td>...</td>\n      <td>...</td>\n      <td>...</td>\n      <td>...</td>\n      <td>...</td>\n      <td>...</td>\n      <td>...</td>\n      <td>...</td>\n      <td>...</td>\n      <td>...</td>\n      <td>...</td>\n      <td>...</td>\n      <td>...</td>\n    </tr>\n    <tr>\n      <th>2006-01-03 06:00:00</th>\n      <th>True</th>\n      <td>0.0</td>\n      <td>0.0</td>\n      <td>0.0</td>\n      <td>0.0</td>\n      <td>0.0</td>\n      <td>0.0</td>\n      <td>0.0</td>\n      <td>0.0</td>\n      <td>0.0</td>\n      <td>0.0</td>\n      <td>...</td>\n      <td>0.0</td>\n      <td>0.0</td>\n      <td>0.0</td>\n      <td>3.0</td>\n      <td>0.0</td>\n      <td>0.0</td>\n      <td>0.0</td>\n      <td>0.0</td>\n      <td>0.0</td>\n      <td>0.0</td>\n    </tr>\n    <tr>\n      <th>2006-01-03 12:00:00</th>\n      <th>True</th>\n      <td>0.0</td>\n      <td>0.0</td>\n      <td>0.0</td>\n      <td>0.0</td>\n      <td>0.0</td>\n      <td>0.0</td>\n      <td>0.0</td>\n      <td>0.0</td>\n      <td>0.0</td>\n      <td>0.0</td>\n      <td>...</td>\n      <td>0.0</td>\n      <td>0.0</td>\n      <td>0.0</td>\n      <td>1.0</td>\n      <td>0.0</td>\n      <td>0.0</td>\n      <td>0.0</td>\n      <td>0.0</td>\n      <td>0.0</td>\n      <td>0.0</td>\n    </tr>\n    <tr>\n      <th>2006-01-03 18:00:00</th>\n      <th>False</th>\n      <td>0.0</td>\n      <td>0.0</td>\n      <td>0.0</td>\n      <td>0.0</td>\n      <td>0.0</td>\n      <td>0.0</td>\n      <td>0.0</td>\n      <td>0.0</td>\n      <td>0.0</td>\n      <td>0.0</td>\n      <td>...</td>\n      <td>0.0</td>\n      <td>0.0</td>\n      <td>0.0</td>\n      <td>0.0</td>\n      <td>0.0</td>\n      <td>0.0</td>\n      <td>0.0</td>\n      <td>0.0</td>\n      <td>0.0</td>\n      <td>0.0</td>\n    </tr>\n    <tr>\n      <th>2006-01-04 00:00:00</th>\n      <th>False</th>\n      <td>0.0</td>\n      <td>0.0</td>\n      <td>0.0</td>\n      <td>0.0</td>\n      <td>0.0</td>\n      <td>0.0</td>\n      <td>0.0</td>\n      <td>0.0</td>\n      <td>0.0</td>\n      <td>0.0</td>\n      <td>...</td>\n      <td>0.0</td>\n      <td>0.0</td>\n      <td>0.0</td>\n      <td>0.0</td>\n      <td>0.0</td>\n      <td>0.0</td>\n      <td>0.0</td>\n      <td>0.0</td>\n      <td>0.0</td>\n      <td>0.0</td>\n    </tr>\n    <tr>\n      <th>2006-01-04 06:00:00</th>\n      <th>True</th>\n      <td>0.0</td>\n      <td>0.0</td>\n      <td>0.0</td>\n      <td>0.0</td>\n      <td>0.0</td>\n      <td>0.0</td>\n      <td>0.0</td>\n      <td>0.0</td>\n      <td>0.0</td>\n      <td>0.0</td>\n      <td>...</td>\n      <td>0.0</td>\n      <td>0.0</td>\n      <td>0.0</td>\n      <td>0.0</td>\n      <td>0.0</td>\n      <td>0.0</td>\n      <td>0.0</td>\n      <td>0.0</td>\n      <td>0.0</td>\n      <td>0.0</td>\n    </tr>\n  </tbody>\n</table>\n<p>860 rows × 388 columns</p>\n</div>"
     },
     "execution_count": 248,
     "metadata": {},
     "output_type": "execute_result"
    }
   ],
   "source": [
    "event_count_vector"
   ],
   "metadata": {
    "collapsed": false,
    "ExecuteTime": {
     "end_time": "2023-10-08T16:36:30.341601Z",
     "start_time": "2023-10-08T16:36:30.336403Z"
    }
   },
   "id": "b6b9d57a370ee60f"
  },
  {
   "cell_type": "code",
   "execution_count": 43,
   "outputs": [],
   "source": [
    "from sklearn.model_selection import train_test_split\n",
    "\n",
    "train, test = train_test_split(event_count_vector, test_size=0.2)\n"
   ],
   "metadata": {
    "collapsed": false,
    "ExecuteTime": {
     "end_time": "2023-10-08T14:33:08.087103Z",
     "start_time": "2023-10-08T14:33:04.589194Z"
    }
   },
   "id": "caf23759abfd3506"
  },
  {
   "cell_type": "code",
   "execution_count": 44,
   "outputs": [
    {
     "data": {
      "text/plain": "                       index                                               \\\nEventId             0045c3a8 01c4e373 02430fd4 0256fb0b 0315e48d 0328c31b   \nTime                                                                        \n2005-10-22 00:00:00      0.0      0.0  10783.0      0.0      0.0  10784.0   \n2005-10-15 00:00:00      0.0      0.0      0.0      0.0      0.0      0.0   \n2005-07-05 12:00:00      0.0      0.0   2264.0      0.0      0.0   2265.0   \n2005-10-18 18:00:00      0.0      0.0      0.0      0.0      0.0      0.0   \n2005-07-12 18:00:00      0.0      0.0      0.0      0.0      0.0      0.0   \n...                      ...      ...      ...      ...      ...      ...   \n2005-10-11 00:00:00      0.0      0.0      0.0      0.0      0.0      0.0   \n2005-07-22 18:00:00      0.0      0.0      0.0      0.0      0.0      0.0   \n2005-07-11 00:00:00      0.0      0.0      0.0      0.0      0.0      0.0   \n2005-11-15 18:00:00      0.0      0.0      0.0      0.0      0.0      0.0   \n2005-09-21 06:00:00      0.0      0.0   7974.0      0.0      0.0   7975.0   \n\n                                                         ...        0  \\\nEventId             045f554d 04639923 04f5a2ae 0509d32d  ... f7c382bd   \nTime                                                     ...            \n2005-10-22 00:00:00  10785.0      0.0      0.0      0.0  ...      1.0   \n2005-10-15 00:00:00      0.0      0.0      0.0      0.0  ...      0.0   \n2005-07-05 12:00:00   2266.0      0.0      0.0      0.0  ...      0.0   \n2005-10-18 18:00:00      0.0      0.0      0.0      0.0  ...      0.0   \n2005-07-12 18:00:00      0.0      0.0      0.0      0.0  ...      0.0   \n...                      ...      ...      ...      ...  ...      ...   \n2005-10-11 00:00:00      0.0      0.0      0.0      0.0  ...      0.0   \n2005-07-22 18:00:00      0.0      0.0      0.0      0.0  ...      0.0   \n2005-07-11 00:00:00      0.0      0.0      0.0      0.0  ...      0.0   \n2005-11-15 18:00:00      0.0      0.0      0.0      0.0  ...      0.0   \n2005-09-21 06:00:00   7976.0      0.0      0.0      0.0  ...      1.0   \n\n                                                                           \\\nEventId             f80a5ed5 f97e57f1 f9df8a24 fac52822 fb1560b4 fb225cd2   \nTime                                                                        \n2005-10-22 00:00:00      0.0      0.0      0.0      0.0      1.0      0.0   \n2005-10-15 00:00:00      0.0      0.0      0.0      0.0      0.0      0.0   \n2005-07-05 12:00:00      0.0      1.0      0.0      0.0      1.0      0.0   \n2005-10-18 18:00:00      0.0      0.0      0.0      0.0      0.0      0.0   \n2005-07-12 18:00:00      0.0      0.0      0.0      0.0      0.0      0.0   \n...                      ...      ...      ...      ...      ...      ...   \n2005-10-11 00:00:00      0.0      0.0      0.0      0.0      0.0      0.0   \n2005-07-22 18:00:00      0.0      0.0      0.0      0.0      0.0      0.0   \n2005-07-11 00:00:00      0.0      0.0      0.0      0.0      0.0      0.0   \n2005-11-15 18:00:00      0.0      0.0      1.0      0.0      0.0      0.0   \n2005-09-21 06:00:00      0.0      0.0      0.0      0.0      1.0      0.0   \n\n                                                \nEventId             fe297487 feaae979 ff52c40c  \nTime                                            \n2005-10-22 00:00:00      0.0      0.0      0.0  \n2005-10-15 00:00:00      0.0      0.0      0.0  \n2005-07-05 12:00:00      0.0      0.0      0.0  \n2005-10-18 18:00:00      0.0      0.0      0.0  \n2005-07-12 18:00:00      0.0      0.0      0.0  \n...                      ...      ...      ...  \n2005-10-11 00:00:00      0.0      0.0      0.0  \n2005-07-22 18:00:00      0.0      0.0      0.0  \n2005-07-11 00:00:00      0.0      0.0      0.0  \n2005-11-15 18:00:00      0.0      0.0      0.0  \n2005-09-21 06:00:00      0.0      0.0      0.0  \n\n[656 rows x 774 columns]",
      "text/html": "<div>\n<style scoped>\n    .dataframe tbody tr th:only-of-type {\n        vertical-align: middle;\n    }\n\n    .dataframe tbody tr th {\n        vertical-align: top;\n    }\n\n    .dataframe thead tr th {\n        text-align: left;\n    }\n\n    .dataframe thead tr:last-of-type th {\n        text-align: right;\n    }\n</style>\n<table border=\"1\" class=\"dataframe\">\n  <thead>\n    <tr>\n      <th></th>\n      <th colspan=\"10\" halign=\"left\">index</th>\n      <th>...</th>\n      <th colspan=\"10\" halign=\"left\">0</th>\n    </tr>\n    <tr>\n      <th>EventId</th>\n      <th>0045c3a8</th>\n      <th>01c4e373</th>\n      <th>02430fd4</th>\n      <th>0256fb0b</th>\n      <th>0315e48d</th>\n      <th>0328c31b</th>\n      <th>045f554d</th>\n      <th>04639923</th>\n      <th>04f5a2ae</th>\n      <th>0509d32d</th>\n      <th>...</th>\n      <th>f7c382bd</th>\n      <th>f80a5ed5</th>\n      <th>f97e57f1</th>\n      <th>f9df8a24</th>\n      <th>fac52822</th>\n      <th>fb1560b4</th>\n      <th>fb225cd2</th>\n      <th>fe297487</th>\n      <th>feaae979</th>\n      <th>ff52c40c</th>\n    </tr>\n    <tr>\n      <th>Time</th>\n      <th></th>\n      <th></th>\n      <th></th>\n      <th></th>\n      <th></th>\n      <th></th>\n      <th></th>\n      <th></th>\n      <th></th>\n      <th></th>\n      <th></th>\n      <th></th>\n      <th></th>\n      <th></th>\n      <th></th>\n      <th></th>\n      <th></th>\n      <th></th>\n      <th></th>\n      <th></th>\n      <th></th>\n    </tr>\n  </thead>\n  <tbody>\n    <tr>\n      <th>2005-10-22 00:00:00</th>\n      <td>0.0</td>\n      <td>0.0</td>\n      <td>10783.0</td>\n      <td>0.0</td>\n      <td>0.0</td>\n      <td>10784.0</td>\n      <td>10785.0</td>\n      <td>0.0</td>\n      <td>0.0</td>\n      <td>0.0</td>\n      <td>...</td>\n      <td>1.0</td>\n      <td>0.0</td>\n      <td>0.0</td>\n      <td>0.0</td>\n      <td>0.0</td>\n      <td>1.0</td>\n      <td>0.0</td>\n      <td>0.0</td>\n      <td>0.0</td>\n      <td>0.0</td>\n    </tr>\n    <tr>\n      <th>2005-10-15 00:00:00</th>\n      <td>0.0</td>\n      <td>0.0</td>\n      <td>0.0</td>\n      <td>0.0</td>\n      <td>0.0</td>\n      <td>0.0</td>\n      <td>0.0</td>\n      <td>0.0</td>\n      <td>0.0</td>\n      <td>0.0</td>\n      <td>...</td>\n      <td>0.0</td>\n      <td>0.0</td>\n      <td>0.0</td>\n      <td>0.0</td>\n      <td>0.0</td>\n      <td>0.0</td>\n      <td>0.0</td>\n      <td>0.0</td>\n      <td>0.0</td>\n      <td>0.0</td>\n    </tr>\n    <tr>\n      <th>2005-07-05 12:00:00</th>\n      <td>0.0</td>\n      <td>0.0</td>\n      <td>2264.0</td>\n      <td>0.0</td>\n      <td>0.0</td>\n      <td>2265.0</td>\n      <td>2266.0</td>\n      <td>0.0</td>\n      <td>0.0</td>\n      <td>0.0</td>\n      <td>...</td>\n      <td>0.0</td>\n      <td>0.0</td>\n      <td>1.0</td>\n      <td>0.0</td>\n      <td>0.0</td>\n      <td>1.0</td>\n      <td>0.0</td>\n      <td>0.0</td>\n      <td>0.0</td>\n      <td>0.0</td>\n    </tr>\n    <tr>\n      <th>2005-10-18 18:00:00</th>\n      <td>0.0</td>\n      <td>0.0</td>\n      <td>0.0</td>\n      <td>0.0</td>\n      <td>0.0</td>\n      <td>0.0</td>\n      <td>0.0</td>\n      <td>0.0</td>\n      <td>0.0</td>\n      <td>0.0</td>\n      <td>...</td>\n      <td>0.0</td>\n      <td>0.0</td>\n      <td>0.0</td>\n      <td>0.0</td>\n      <td>0.0</td>\n      <td>0.0</td>\n      <td>0.0</td>\n      <td>0.0</td>\n      <td>0.0</td>\n      <td>0.0</td>\n    </tr>\n    <tr>\n      <th>2005-07-12 18:00:00</th>\n      <td>0.0</td>\n      <td>0.0</td>\n      <td>0.0</td>\n      <td>0.0</td>\n      <td>0.0</td>\n      <td>0.0</td>\n      <td>0.0</td>\n      <td>0.0</td>\n      <td>0.0</td>\n      <td>0.0</td>\n      <td>...</td>\n      <td>0.0</td>\n      <td>0.0</td>\n      <td>0.0</td>\n      <td>0.0</td>\n      <td>0.0</td>\n      <td>0.0</td>\n      <td>0.0</td>\n      <td>0.0</td>\n      <td>0.0</td>\n      <td>0.0</td>\n    </tr>\n    <tr>\n      <th>...</th>\n      <td>...</td>\n      <td>...</td>\n      <td>...</td>\n      <td>...</td>\n      <td>...</td>\n      <td>...</td>\n      <td>...</td>\n      <td>...</td>\n      <td>...</td>\n      <td>...</td>\n      <td>...</td>\n      <td>...</td>\n      <td>...</td>\n      <td>...</td>\n      <td>...</td>\n      <td>...</td>\n      <td>...</td>\n      <td>...</td>\n      <td>...</td>\n      <td>...</td>\n      <td>...</td>\n    </tr>\n    <tr>\n      <th>2005-10-11 00:00:00</th>\n      <td>0.0</td>\n      <td>0.0</td>\n      <td>0.0</td>\n      <td>0.0</td>\n      <td>0.0</td>\n      <td>0.0</td>\n      <td>0.0</td>\n      <td>0.0</td>\n      <td>0.0</td>\n      <td>0.0</td>\n      <td>...</td>\n      <td>0.0</td>\n      <td>0.0</td>\n      <td>0.0</td>\n      <td>0.0</td>\n      <td>0.0</td>\n      <td>0.0</td>\n      <td>0.0</td>\n      <td>0.0</td>\n      <td>0.0</td>\n      <td>0.0</td>\n    </tr>\n    <tr>\n      <th>2005-07-22 18:00:00</th>\n      <td>0.0</td>\n      <td>0.0</td>\n      <td>0.0</td>\n      <td>0.0</td>\n      <td>0.0</td>\n      <td>0.0</td>\n      <td>0.0</td>\n      <td>0.0</td>\n      <td>0.0</td>\n      <td>0.0</td>\n      <td>...</td>\n      <td>0.0</td>\n      <td>0.0</td>\n      <td>0.0</td>\n      <td>0.0</td>\n      <td>0.0</td>\n      <td>0.0</td>\n      <td>0.0</td>\n      <td>0.0</td>\n      <td>0.0</td>\n      <td>0.0</td>\n    </tr>\n    <tr>\n      <th>2005-07-11 00:00:00</th>\n      <td>0.0</td>\n      <td>0.0</td>\n      <td>0.0</td>\n      <td>0.0</td>\n      <td>0.0</td>\n      <td>0.0</td>\n      <td>0.0</td>\n      <td>0.0</td>\n      <td>0.0</td>\n      <td>0.0</td>\n      <td>...</td>\n      <td>0.0</td>\n      <td>0.0</td>\n      <td>0.0</td>\n      <td>0.0</td>\n      <td>0.0</td>\n      <td>0.0</td>\n      <td>0.0</td>\n      <td>0.0</td>\n      <td>0.0</td>\n      <td>0.0</td>\n    </tr>\n    <tr>\n      <th>2005-11-15 18:00:00</th>\n      <td>0.0</td>\n      <td>0.0</td>\n      <td>0.0</td>\n      <td>0.0</td>\n      <td>0.0</td>\n      <td>0.0</td>\n      <td>0.0</td>\n      <td>0.0</td>\n      <td>0.0</td>\n      <td>0.0</td>\n      <td>...</td>\n      <td>0.0</td>\n      <td>0.0</td>\n      <td>0.0</td>\n      <td>1.0</td>\n      <td>0.0</td>\n      <td>0.0</td>\n      <td>0.0</td>\n      <td>0.0</td>\n      <td>0.0</td>\n      <td>0.0</td>\n    </tr>\n    <tr>\n      <th>2005-09-21 06:00:00</th>\n      <td>0.0</td>\n      <td>0.0</td>\n      <td>7974.0</td>\n      <td>0.0</td>\n      <td>0.0</td>\n      <td>7975.0</td>\n      <td>7976.0</td>\n      <td>0.0</td>\n      <td>0.0</td>\n      <td>0.0</td>\n      <td>...</td>\n      <td>1.0</td>\n      <td>0.0</td>\n      <td>0.0</td>\n      <td>0.0</td>\n      <td>0.0</td>\n      <td>1.0</td>\n      <td>0.0</td>\n      <td>0.0</td>\n      <td>0.0</td>\n      <td>0.0</td>\n    </tr>\n  </tbody>\n</table>\n<p>656 rows × 774 columns</p>\n</div>"
     },
     "execution_count": 44,
     "metadata": {},
     "output_type": "execute_result"
    }
   ],
   "source": [
    "train   "
   ],
   "metadata": {
    "collapsed": false,
    "ExecuteTime": {
     "end_time": "2023-10-08T14:33:13.822772Z",
     "start_time": "2023-10-08T14:33:13.807588Z"
    }
   },
   "id": "8f2e4bea91bdb26c"
  }
 ],
 "metadata": {
  "kernelspec": {
   "display_name": "Python 3",
   "language": "python",
   "name": "python3"
  },
  "language_info": {
   "codemirror_mode": {
    "name": "ipython",
    "version": 2
   },
   "file_extension": ".py",
   "mimetype": "text/x-python",
   "name": "python",
   "nbconvert_exporter": "python",
   "pygments_lexer": "ipython2",
   "version": "2.7.6"
  }
 },
 "nbformat": 4,
 "nbformat_minor": 5
}
