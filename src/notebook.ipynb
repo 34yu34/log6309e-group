{
 "cells": [
  {
   "cell_type": "code",
   "execution_count": 60,
   "outputs": [],
   "source": [
    "import pandas as pd\n",
    "input_file = '../data/BGL/BGL.log_structured.csv'\n",
    "df = pd.read_csv(input_file)\n",
    "\n",
    "df['Time'] = pd.to_datetime(df['Time'], format=\"%Y-%m-%d-%H.%M.%S.%f\")\n",
    "\n"
   ],
   "metadata": {
    "collapsed": false,
    "ExecuteTime": {
     "end_time": "2023-10-08T14:55:26.835487Z",
     "start_time": "2023-10-08T14:55:10.855978Z"
    }
   },
   "id": "initial_id"
  },
  {
   "cell_type": "code",
   "execution_count": 152,
   "outputs": [],
   "source": [
    "def is_anomaly(s):\n",
    "        return len(list(filter(lambda x: x != '-', s))) > 0"
   ],
   "metadata": {
    "collapsed": false,
    "ExecuteTime": {
     "end_time": "2023-10-08T15:47:00.162906Z",
     "start_time": "2023-10-08T15:47:00.025384Z"
    }
   },
   "id": "f41ad47389e713e8"
  },
  {
   "cell_type": "code",
   "execution_count": 154,
   "outputs": [
    {
     "ename": "KeyError",
     "evalue": "'Label'",
     "output_type": "error",
     "traceback": [
      "\u001B[0;31m---------------------------------------------------------------------------\u001B[0m",
      "\u001B[0;31mKeyError\u001B[0m                                  Traceback (most recent call last)",
      "File \u001B[0;32m~/Documents/school/devops/group-assignment/venv/lib/python3.9/site-packages/pandas/core/indexes/base.py:3790\u001B[0m, in \u001B[0;36mIndex.get_loc\u001B[0;34m(self, key)\u001B[0m\n\u001B[1;32m   3789\u001B[0m \u001B[38;5;28;01mtry\u001B[39;00m:\n\u001B[0;32m-> 3790\u001B[0m     \u001B[38;5;28;01mreturn\u001B[39;00m \u001B[38;5;28;43mself\u001B[39;49m\u001B[38;5;241;43m.\u001B[39;49m\u001B[43m_engine\u001B[49m\u001B[38;5;241;43m.\u001B[39;49m\u001B[43mget_loc\u001B[49m\u001B[43m(\u001B[49m\u001B[43mcasted_key\u001B[49m\u001B[43m)\u001B[49m\n\u001B[1;32m   3791\u001B[0m \u001B[38;5;28;01mexcept\u001B[39;00m \u001B[38;5;167;01mKeyError\u001B[39;00m \u001B[38;5;28;01mas\u001B[39;00m err:\n",
      "File \u001B[0;32mindex.pyx:152\u001B[0m, in \u001B[0;36mpandas._libs.index.IndexEngine.get_loc\u001B[0;34m()\u001B[0m\n",
      "File \u001B[0;32mindex.pyx:160\u001B[0m, in \u001B[0;36mpandas._libs.index.IndexEngine.get_loc\u001B[0;34m()\u001B[0m\n",
      "File \u001B[0;32mpandas/_libs/index_class_helper.pxi:70\u001B[0m, in \u001B[0;36mpandas._libs.index.Int64Engine._check_type\u001B[0;34m()\u001B[0m\n",
      "\u001B[0;31mKeyError\u001B[0m: 'Label'",
      "\nThe above exception was the direct cause of the following exception:\n",
      "\u001B[0;31mKeyError\u001B[0m                                  Traceback (most recent call last)",
      "Cell \u001B[0;32mIn[154], line 4\u001B[0m\n\u001B[1;32m      1\u001B[0m g \u001B[38;5;241m=\u001B[39m df\u001B[38;5;241m.\u001B[39mgroupby([pd\u001B[38;5;241m.\u001B[39mGrouper(key\u001B[38;5;241m=\u001B[39m\u001B[38;5;124m'\u001B[39m\u001B[38;5;124mTime\u001B[39m\u001B[38;5;124m'\u001B[39m, freq\u001B[38;5;241m=\u001B[39m\u001B[38;5;124m'\u001B[39m\u001B[38;5;124m6H\u001B[39m\u001B[38;5;124m'\u001B[39m), \u001B[38;5;124m'\u001B[39m\u001B[38;5;124mEventId\u001B[39m\u001B[38;5;124m'\u001B[39m])\n\u001B[1;32m      3\u001B[0m g\u001B[38;5;241m.\u001B[39mfirst()\n\u001B[0;32m----> 4\u001B[0m \u001B[43mg\u001B[49m\u001B[38;5;241;43m.\u001B[39;49m\u001B[43magg\u001B[49m\u001B[43m(\u001B[49m\u001B[38;5;28;43;01mlambda\u001B[39;49;00m\u001B[43m \u001B[49m\u001B[43mx\u001B[49m\u001B[43m:\u001B[49m\u001B[43m \u001B[49m\u001B[43mis_anomaly\u001B[49m\u001B[43m(\u001B[49m\u001B[43mx\u001B[49m\u001B[43m[\u001B[49m\u001B[38;5;124;43m'\u001B[39;49m\u001B[38;5;124;43mLabel\u001B[39;49m\u001B[38;5;124;43m'\u001B[39;49m\u001B[43m]\u001B[49m\u001B[43m)\u001B[49m\u001B[43m)\u001B[49m\n",
      "File \u001B[0;32m~/Documents/school/devops/group-assignment/venv/lib/python3.9/site-packages/pandas/core/groupby/generic.py:1476\u001B[0m, in \u001B[0;36mDataFrameGroupBy.aggregate\u001B[0;34m(self, func, engine, engine_kwargs, *args, **kwargs)\u001B[0m\n\u001B[1;32m   1473\u001B[0m \u001B[38;5;66;03m# grouper specific aggregations\u001B[39;00m\n\u001B[1;32m   1474\u001B[0m \u001B[38;5;28;01mif\u001B[39;00m \u001B[38;5;28mself\u001B[39m\u001B[38;5;241m.\u001B[39mgrouper\u001B[38;5;241m.\u001B[39mnkeys \u001B[38;5;241m>\u001B[39m \u001B[38;5;241m1\u001B[39m:\n\u001B[1;32m   1475\u001B[0m     \u001B[38;5;66;03m# test_groupby_as_index_series_scalar gets here with 'not self.as_index'\u001B[39;00m\n\u001B[0;32m-> 1476\u001B[0m     \u001B[38;5;28;01mreturn\u001B[39;00m \u001B[38;5;28;43mself\u001B[39;49m\u001B[38;5;241;43m.\u001B[39;49m\u001B[43m_python_agg_general\u001B[49m\u001B[43m(\u001B[49m\u001B[43mfunc\u001B[49m\u001B[43m,\u001B[49m\u001B[43m \u001B[49m\u001B[38;5;241;43m*\u001B[39;49m\u001B[43margs\u001B[49m\u001B[43m,\u001B[49m\u001B[43m \u001B[49m\u001B[38;5;241;43m*\u001B[39;49m\u001B[38;5;241;43m*\u001B[39;49m\u001B[43mkwargs\u001B[49m\u001B[43m)\u001B[49m\n\u001B[1;32m   1477\u001B[0m \u001B[38;5;28;01melif\u001B[39;00m args \u001B[38;5;129;01mor\u001B[39;00m kwargs:\n\u001B[1;32m   1478\u001B[0m     \u001B[38;5;66;03m# test_pass_args_kwargs gets here (with and without as_index)\u001B[39;00m\n\u001B[1;32m   1479\u001B[0m     \u001B[38;5;66;03m# can't return early\u001B[39;00m\n\u001B[1;32m   1480\u001B[0m     result \u001B[38;5;241m=\u001B[39m \u001B[38;5;28mself\u001B[39m\u001B[38;5;241m.\u001B[39m_aggregate_frame(func, \u001B[38;5;241m*\u001B[39margs, \u001B[38;5;241m*\u001B[39m\u001B[38;5;241m*\u001B[39mkwargs)\n",
      "File \u001B[0;32m~/Documents/school/devops/group-assignment/venv/lib/python3.9/site-packages/pandas/core/groupby/generic.py:1542\u001B[0m, in \u001B[0;36mDataFrameGroupBy._python_agg_general\u001B[0;34m(self, func, *args, **kwargs)\u001B[0m\n\u001B[1;32m   1540\u001B[0m output: \u001B[38;5;28mdict\u001B[39m[\u001B[38;5;28mint\u001B[39m, ArrayLike] \u001B[38;5;241m=\u001B[39m {}\n\u001B[1;32m   1541\u001B[0m \u001B[38;5;28;01mfor\u001B[39;00m idx, (name, ser) \u001B[38;5;129;01min\u001B[39;00m \u001B[38;5;28menumerate\u001B[39m(obj\u001B[38;5;241m.\u001B[39mitems()):\n\u001B[0;32m-> 1542\u001B[0m     result \u001B[38;5;241m=\u001B[39m \u001B[38;5;28;43mself\u001B[39;49m\u001B[38;5;241;43m.\u001B[39;49m\u001B[43mgrouper\u001B[49m\u001B[38;5;241;43m.\u001B[39;49m\u001B[43magg_series\u001B[49m\u001B[43m(\u001B[49m\u001B[43mser\u001B[49m\u001B[43m,\u001B[49m\u001B[43m \u001B[49m\u001B[43mf\u001B[49m\u001B[43m)\u001B[49m\n\u001B[1;32m   1543\u001B[0m     output[idx] \u001B[38;5;241m=\u001B[39m result\n\u001B[1;32m   1545\u001B[0m res \u001B[38;5;241m=\u001B[39m \u001B[38;5;28mself\u001B[39m\u001B[38;5;241m.\u001B[39mobj\u001B[38;5;241m.\u001B[39m_constructor(output)\n",
      "File \u001B[0;32m~/Documents/school/devops/group-assignment/venv/lib/python3.9/site-packages/pandas/core/groupby/ops.py:850\u001B[0m, in \u001B[0;36mBaseGrouper.agg_series\u001B[0;34m(self, obj, func, preserve_dtype)\u001B[0m\n\u001B[1;32m    843\u001B[0m \u001B[38;5;28;01mif\u001B[39;00m \u001B[38;5;28mlen\u001B[39m(obj) \u001B[38;5;241m>\u001B[39m \u001B[38;5;241m0\u001B[39m \u001B[38;5;129;01mand\u001B[39;00m \u001B[38;5;129;01mnot\u001B[39;00m \u001B[38;5;28misinstance\u001B[39m(obj\u001B[38;5;241m.\u001B[39m_values, np\u001B[38;5;241m.\u001B[39mndarray):\n\u001B[1;32m    844\u001B[0m     \u001B[38;5;66;03m# we can preserve a little bit more aggressively with EA dtype\u001B[39;00m\n\u001B[1;32m    845\u001B[0m     \u001B[38;5;66;03m#  because maybe_cast_pointwise_result will do a try/except\u001B[39;00m\n\u001B[1;32m    846\u001B[0m     \u001B[38;5;66;03m#  with _from_sequence.  NB we are assuming here that _from_sequence\u001B[39;00m\n\u001B[1;32m    847\u001B[0m     \u001B[38;5;66;03m#  is sufficiently strict that it casts appropriately.\u001B[39;00m\n\u001B[1;32m    848\u001B[0m     preserve_dtype \u001B[38;5;241m=\u001B[39m \u001B[38;5;28;01mTrue\u001B[39;00m\n\u001B[0;32m--> 850\u001B[0m result \u001B[38;5;241m=\u001B[39m \u001B[38;5;28;43mself\u001B[39;49m\u001B[38;5;241;43m.\u001B[39;49m\u001B[43m_aggregate_series_pure_python\u001B[49m\u001B[43m(\u001B[49m\u001B[43mobj\u001B[49m\u001B[43m,\u001B[49m\u001B[43m \u001B[49m\u001B[43mfunc\u001B[49m\u001B[43m)\u001B[49m\n\u001B[1;32m    852\u001B[0m npvalues \u001B[38;5;241m=\u001B[39m lib\u001B[38;5;241m.\u001B[39mmaybe_convert_objects(result, try_float\u001B[38;5;241m=\u001B[39m\u001B[38;5;28;01mFalse\u001B[39;00m)\n\u001B[1;32m    853\u001B[0m \u001B[38;5;28;01mif\u001B[39;00m preserve_dtype:\n",
      "File \u001B[0;32m~/Documents/school/devops/group-assignment/venv/lib/python3.9/site-packages/pandas/core/groupby/ops.py:871\u001B[0m, in \u001B[0;36mBaseGrouper._aggregate_series_pure_python\u001B[0;34m(self, obj, func)\u001B[0m\n\u001B[1;32m    868\u001B[0m splitter \u001B[38;5;241m=\u001B[39m \u001B[38;5;28mself\u001B[39m\u001B[38;5;241m.\u001B[39m_get_splitter(obj, axis\u001B[38;5;241m=\u001B[39m\u001B[38;5;241m0\u001B[39m)\n\u001B[1;32m    870\u001B[0m \u001B[38;5;28;01mfor\u001B[39;00m i, group \u001B[38;5;129;01min\u001B[39;00m \u001B[38;5;28menumerate\u001B[39m(splitter):\n\u001B[0;32m--> 871\u001B[0m     res \u001B[38;5;241m=\u001B[39m \u001B[43mfunc\u001B[49m\u001B[43m(\u001B[49m\u001B[43mgroup\u001B[49m\u001B[43m)\u001B[49m\n\u001B[1;32m    872\u001B[0m     res \u001B[38;5;241m=\u001B[39m extract_result(res)\n\u001B[1;32m    874\u001B[0m     \u001B[38;5;28;01mif\u001B[39;00m \u001B[38;5;129;01mnot\u001B[39;00m initialized:\n\u001B[1;32m    875\u001B[0m         \u001B[38;5;66;03m# We only do this validation on the first iteration\u001B[39;00m\n",
      "File \u001B[0;32m~/Documents/school/devops/group-assignment/venv/lib/python3.9/site-packages/pandas/core/groupby/generic.py:1525\u001B[0m, in \u001B[0;36mDataFrameGroupBy._python_agg_general.<locals>.<lambda>\u001B[0;34m(x)\u001B[0m\n\u001B[1;32m   1523\u001B[0m     alias \u001B[38;5;241m=\u001B[39m com\u001B[38;5;241m.\u001B[39m_builtin_table_alias[func]\n\u001B[1;32m   1524\u001B[0m     warn_alias_replacement(\u001B[38;5;28mself\u001B[39m, orig_func, alias)\n\u001B[0;32m-> 1525\u001B[0m f \u001B[38;5;241m=\u001B[39m \u001B[38;5;28;01mlambda\u001B[39;00m x: \u001B[43mfunc\u001B[49m\u001B[43m(\u001B[49m\u001B[43mx\u001B[49m\u001B[43m,\u001B[49m\u001B[43m \u001B[49m\u001B[38;5;241;43m*\u001B[39;49m\u001B[43margs\u001B[49m\u001B[43m,\u001B[49m\u001B[43m \u001B[49m\u001B[38;5;241;43m*\u001B[39;49m\u001B[38;5;241;43m*\u001B[39;49m\u001B[43mkwargs\u001B[49m\u001B[43m)\u001B[49m\n\u001B[1;32m   1527\u001B[0m \u001B[38;5;28;01mif\u001B[39;00m \u001B[38;5;28mself\u001B[39m\u001B[38;5;241m.\u001B[39mngroups \u001B[38;5;241m==\u001B[39m \u001B[38;5;241m0\u001B[39m:\n\u001B[1;32m   1528\u001B[0m     \u001B[38;5;66;03m# e.g. test_evaluate_with_empty_groups different path gets different\u001B[39;00m\n\u001B[1;32m   1529\u001B[0m     \u001B[38;5;66;03m#  result dtype in empty case.\u001B[39;00m\n\u001B[1;32m   1530\u001B[0m     \u001B[38;5;28;01mreturn\u001B[39;00m \u001B[38;5;28mself\u001B[39m\u001B[38;5;241m.\u001B[39m_python_apply_general(f, \u001B[38;5;28mself\u001B[39m\u001B[38;5;241m.\u001B[39m_selected_obj, is_agg\u001B[38;5;241m=\u001B[39m\u001B[38;5;28;01mTrue\u001B[39;00m)\n",
      "Cell \u001B[0;32mIn[154], line 4\u001B[0m, in \u001B[0;36m<lambda>\u001B[0;34m(x)\u001B[0m\n\u001B[1;32m      1\u001B[0m g \u001B[38;5;241m=\u001B[39m df\u001B[38;5;241m.\u001B[39mgroupby([pd\u001B[38;5;241m.\u001B[39mGrouper(key\u001B[38;5;241m=\u001B[39m\u001B[38;5;124m'\u001B[39m\u001B[38;5;124mTime\u001B[39m\u001B[38;5;124m'\u001B[39m, freq\u001B[38;5;241m=\u001B[39m\u001B[38;5;124m'\u001B[39m\u001B[38;5;124m6H\u001B[39m\u001B[38;5;124m'\u001B[39m), \u001B[38;5;124m'\u001B[39m\u001B[38;5;124mEventId\u001B[39m\u001B[38;5;124m'\u001B[39m])\n\u001B[1;32m      3\u001B[0m g\u001B[38;5;241m.\u001B[39mfirst()\n\u001B[0;32m----> 4\u001B[0m g\u001B[38;5;241m.\u001B[39magg(\u001B[38;5;28;01mlambda\u001B[39;00m x: is_anomaly(\u001B[43mx\u001B[49m\u001B[43m[\u001B[49m\u001B[38;5;124;43m'\u001B[39;49m\u001B[38;5;124;43mLabel\u001B[39;49m\u001B[38;5;124;43m'\u001B[39;49m\u001B[43m]\u001B[49m))\n",
      "File \u001B[0;32m~/Documents/school/devops/group-assignment/venv/lib/python3.9/site-packages/pandas/core/series.py:1040\u001B[0m, in \u001B[0;36mSeries.__getitem__\u001B[0;34m(self, key)\u001B[0m\n\u001B[1;32m   1037\u001B[0m     \u001B[38;5;28;01mreturn\u001B[39;00m \u001B[38;5;28mself\u001B[39m\u001B[38;5;241m.\u001B[39m_values[key]\n\u001B[1;32m   1039\u001B[0m \u001B[38;5;28;01melif\u001B[39;00m key_is_scalar:\n\u001B[0;32m-> 1040\u001B[0m     \u001B[38;5;28;01mreturn\u001B[39;00m \u001B[38;5;28;43mself\u001B[39;49m\u001B[38;5;241;43m.\u001B[39;49m\u001B[43m_get_value\u001B[49m\u001B[43m(\u001B[49m\u001B[43mkey\u001B[49m\u001B[43m)\u001B[49m\n\u001B[1;32m   1042\u001B[0m \u001B[38;5;66;03m# Convert generator to list before going through hashable part\u001B[39;00m\n\u001B[1;32m   1043\u001B[0m \u001B[38;5;66;03m# (We will iterate through the generator there to check for slices)\u001B[39;00m\n\u001B[1;32m   1044\u001B[0m \u001B[38;5;28;01mif\u001B[39;00m is_iterator(key):\n",
      "File \u001B[0;32m~/Documents/school/devops/group-assignment/venv/lib/python3.9/site-packages/pandas/core/series.py:1156\u001B[0m, in \u001B[0;36mSeries._get_value\u001B[0;34m(self, label, takeable)\u001B[0m\n\u001B[1;32m   1153\u001B[0m     \u001B[38;5;28;01mreturn\u001B[39;00m \u001B[38;5;28mself\u001B[39m\u001B[38;5;241m.\u001B[39m_values[label]\n\u001B[1;32m   1155\u001B[0m \u001B[38;5;66;03m# Similar to Index.get_value, but we do not fall back to positional\u001B[39;00m\n\u001B[0;32m-> 1156\u001B[0m loc \u001B[38;5;241m=\u001B[39m \u001B[38;5;28;43mself\u001B[39;49m\u001B[38;5;241;43m.\u001B[39;49m\u001B[43mindex\u001B[49m\u001B[38;5;241;43m.\u001B[39;49m\u001B[43mget_loc\u001B[49m\u001B[43m(\u001B[49m\u001B[43mlabel\u001B[49m\u001B[43m)\u001B[49m\n\u001B[1;32m   1158\u001B[0m \u001B[38;5;28;01mif\u001B[39;00m is_integer(loc):\n\u001B[1;32m   1159\u001B[0m     \u001B[38;5;28;01mreturn\u001B[39;00m \u001B[38;5;28mself\u001B[39m\u001B[38;5;241m.\u001B[39m_values[loc]\n",
      "File \u001B[0;32m~/Documents/school/devops/group-assignment/venv/lib/python3.9/site-packages/pandas/core/indexes/base.py:3797\u001B[0m, in \u001B[0;36mIndex.get_loc\u001B[0;34m(self, key)\u001B[0m\n\u001B[1;32m   3792\u001B[0m     \u001B[38;5;28;01mif\u001B[39;00m \u001B[38;5;28misinstance\u001B[39m(casted_key, \u001B[38;5;28mslice\u001B[39m) \u001B[38;5;129;01mor\u001B[39;00m (\n\u001B[1;32m   3793\u001B[0m         \u001B[38;5;28misinstance\u001B[39m(casted_key, abc\u001B[38;5;241m.\u001B[39mIterable)\n\u001B[1;32m   3794\u001B[0m         \u001B[38;5;129;01mand\u001B[39;00m \u001B[38;5;28many\u001B[39m(\u001B[38;5;28misinstance\u001B[39m(x, \u001B[38;5;28mslice\u001B[39m) \u001B[38;5;28;01mfor\u001B[39;00m x \u001B[38;5;129;01min\u001B[39;00m casted_key)\n\u001B[1;32m   3795\u001B[0m     ):\n\u001B[1;32m   3796\u001B[0m         \u001B[38;5;28;01mraise\u001B[39;00m InvalidIndexError(key)\n\u001B[0;32m-> 3797\u001B[0m     \u001B[38;5;28;01mraise\u001B[39;00m \u001B[38;5;167;01mKeyError\u001B[39;00m(key) \u001B[38;5;28;01mfrom\u001B[39;00m \u001B[38;5;21;01merr\u001B[39;00m\n\u001B[1;32m   3798\u001B[0m \u001B[38;5;28;01mexcept\u001B[39;00m \u001B[38;5;167;01mTypeError\u001B[39;00m:\n\u001B[1;32m   3799\u001B[0m     \u001B[38;5;66;03m# If we have a listlike key, _check_indexing_error will raise\u001B[39;00m\n\u001B[1;32m   3800\u001B[0m     \u001B[38;5;66;03m#  InvalidIndexError. Otherwise we fall through and re-raise\u001B[39;00m\n\u001B[1;32m   3801\u001B[0m     \u001B[38;5;66;03m#  the TypeError.\u001B[39;00m\n\u001B[1;32m   3802\u001B[0m     \u001B[38;5;28mself\u001B[39m\u001B[38;5;241m.\u001B[39m_check_indexing_error(key)\n",
      "\u001B[0;31mKeyError\u001B[0m: 'Label'"
     ]
    }
   ],
   "source": [
    "g = df.groupby([pd.Grouper(key='Time', freq='6H'), 'EventId'])\n",
    "\n",
    "g.first()\n"
   ],
   "metadata": {
    "collapsed": false,
    "ExecuteTime": {
     "end_time": "2023-10-08T15:48:08.906126Z",
     "start_time": "2023-10-08T15:48:07.519350Z"
    }
   },
   "id": "d88cbf3b1348928c"
  },
  {
   "cell_type": "code",
   "execution_count": 143,
   "outputs": [],
   "source": [
    "\n",
    "def count_events(df):\n",
    "        return df['EventId'].value_counts()\n",
    "anomalies = []\n",
    "event_counts = []\n",
    "for group in g:\n",
    "        anomaly = is_anomaly(group[1]['Label'])\n",
    "        group[1]['anomaly'] = anomaly\n",
    "        anomalies.append(anomaly)\n",
    "        event_counts.append(count_events(group[1]).to_dict())"
   ],
   "metadata": {
    "collapsed": false,
    "ExecuteTime": {
     "end_time": "2023-10-08T15:38:26.874180Z",
     "start_time": "2023-10-08T15:38:23.184592Z"
    }
   },
   "id": "5814ddfea1402a"
  },
  {
   "cell_type": "code",
   "execution_count": 147,
   "outputs": [
    {
     "data": {
      "text/plain": "          LineId     Label   Timestamp        Date                 Node  \\\n0              1         -  1117838570  2005.06.03  R02-M1-N0-C:J12-U11   \n1              2         -  1117838570  2005.06.03  R02-M1-N0-C:J12-U11   \n2              3         -  1117838570  2005.06.03  R02-M1-N0-C:J12-U11   \n3              4         -  1117838570  2005.06.03  R02-M1-N0-C:J12-U11   \n4              5         -  1117838570  2005.06.03  R02-M1-N0-C:J12-U11   \n...          ...       ...         ...         ...                  ...   \n4713485  4713486  KERNSOCK  1136390405  2006.01.04  R50-M1-NC-I:J18-U11   \n4713486  4713487  KERNSOCK  1136390405  2006.01.04  R31-M1-NC-I:J18-U11   \n4713487  4713488  KERNSOCK  1136390405  2006.01.04  R20-M1-NC-I:J18-U11   \n4713488  4713489  KERNSOCK  1136390405  2006.01.04  R00-M0-NC-I:J18-U11   \n4713489  4713490  KERNSOCK  1136390405  2006.01.04  R36-M0-NC-I:J18-U11   \n\n                              Time           NodeRepeat Type Component  Level  \\\n0       2005-06-03 15:42:50.363779  R02-M1-N0-C:J12-U11  RAS    KERNEL   INFO   \n1       2005-06-03 15:42:50.527847  R02-M1-N0-C:J12-U11  RAS    KERNEL   INFO   \n2       2005-06-03 15:42:50.675872  R02-M1-N0-C:J12-U11  RAS    KERNEL   INFO   \n3       2005-06-03 15:42:50.823719  R02-M1-N0-C:J12-U11  RAS    KERNEL   INFO   \n4       2005-06-03 15:42:50.982731  R02-M1-N0-C:J12-U11  RAS    KERNEL   INFO   \n...                            ...                  ...  ...       ...    ...   \n4713485 2006-01-04 08:00:05.142912  R50-M1-NC-I:J18-U11  RAS    KERNEL  FATAL   \n4713486 2006-01-04 08:00:05.143845  R31-M1-NC-I:J18-U11  RAS    KERNEL  FATAL   \n4713487 2006-01-04 08:00:05.144930  R20-M1-NC-I:J18-U11  RAS    KERNEL  FATAL   \n4713488 2006-01-04 08:00:05.167045  R00-M0-NC-I:J18-U11  RAS    KERNEL  FATAL   \n4713489 2006-01-04 08:00:05.185942  R36-M0-NC-I:J18-U11  RAS    KERNEL  FATAL   \n\n                                               Content   EventId  \\\n0             instruction cache parity error corrected  3aa50e45   \n1             instruction cache parity error corrected  3aa50e45   \n2             instruction cache parity error corrected  3aa50e45   \n3             instruction cache parity error corrected  3aa50e45   \n4             instruction cache parity error corrected  3aa50e45   \n...                                                ...       ...   \n4713485  idoproxy communication failure: socket closed  d7623fbd   \n4713486  idoproxy communication failure: socket closed  d7623fbd   \n4713487  idoproxy communication failure: socket closed  d7623fbd   \n4713488  idoproxy communication failure: socket closed  d7623fbd   \n4713489  idoproxy communication failure: socket closed  d7623fbd   \n\n                                         EventTemplate ParameterList  \n0             instruction cache parity error corrected            []  \n1             instruction cache parity error corrected            []  \n2             instruction cache parity error corrected            []  \n3             instruction cache parity error corrected            []  \n4             instruction cache parity error corrected            []  \n...                                                ...           ...  \n4713485  idoproxy communication failure: socket closed            []  \n4713486  idoproxy communication failure: socket closed            []  \n4713487  idoproxy communication failure: socket closed            []  \n4713488  idoproxy communication failure: socket closed            []  \n4713489  idoproxy communication failure: socket closed            []  \n\n[50706 rows x 14 columns]",
      "text/html": "<div>\n<style scoped>\n    .dataframe tbody tr th:only-of-type {\n        vertical-align: middle;\n    }\n\n    .dataframe tbody tr th {\n        vertical-align: top;\n    }\n\n    .dataframe thead th {\n        text-align: right;\n    }\n</style>\n<table border=\"1\" class=\"dataframe\">\n  <thead>\n    <tr style=\"text-align: right;\">\n      <th></th>\n      <th>LineId</th>\n      <th>Label</th>\n      <th>Timestamp</th>\n      <th>Date</th>\n      <th>Node</th>\n      <th>Time</th>\n      <th>NodeRepeat</th>\n      <th>Type</th>\n      <th>Component</th>\n      <th>Level</th>\n      <th>Content</th>\n      <th>EventId</th>\n      <th>EventTemplate</th>\n      <th>ParameterList</th>\n    </tr>\n  </thead>\n  <tbody>\n    <tr>\n      <th>0</th>\n      <td>1</td>\n      <td>-</td>\n      <td>1117838570</td>\n      <td>2005.06.03</td>\n      <td>R02-M1-N0-C:J12-U11</td>\n      <td>2005-06-03 15:42:50.363779</td>\n      <td>R02-M1-N0-C:J12-U11</td>\n      <td>RAS</td>\n      <td>KERNEL</td>\n      <td>INFO</td>\n      <td>instruction cache parity error corrected</td>\n      <td>3aa50e45</td>\n      <td>instruction cache parity error corrected</td>\n      <td>[]</td>\n    </tr>\n    <tr>\n      <th>1</th>\n      <td>2</td>\n      <td>-</td>\n      <td>1117838570</td>\n      <td>2005.06.03</td>\n      <td>R02-M1-N0-C:J12-U11</td>\n      <td>2005-06-03 15:42:50.527847</td>\n      <td>R02-M1-N0-C:J12-U11</td>\n      <td>RAS</td>\n      <td>KERNEL</td>\n      <td>INFO</td>\n      <td>instruction cache parity error corrected</td>\n      <td>3aa50e45</td>\n      <td>instruction cache parity error corrected</td>\n      <td>[]</td>\n    </tr>\n    <tr>\n      <th>2</th>\n      <td>3</td>\n      <td>-</td>\n      <td>1117838570</td>\n      <td>2005.06.03</td>\n      <td>R02-M1-N0-C:J12-U11</td>\n      <td>2005-06-03 15:42:50.675872</td>\n      <td>R02-M1-N0-C:J12-U11</td>\n      <td>RAS</td>\n      <td>KERNEL</td>\n      <td>INFO</td>\n      <td>instruction cache parity error corrected</td>\n      <td>3aa50e45</td>\n      <td>instruction cache parity error corrected</td>\n      <td>[]</td>\n    </tr>\n    <tr>\n      <th>3</th>\n      <td>4</td>\n      <td>-</td>\n      <td>1117838570</td>\n      <td>2005.06.03</td>\n      <td>R02-M1-N0-C:J12-U11</td>\n      <td>2005-06-03 15:42:50.823719</td>\n      <td>R02-M1-N0-C:J12-U11</td>\n      <td>RAS</td>\n      <td>KERNEL</td>\n      <td>INFO</td>\n      <td>instruction cache parity error corrected</td>\n      <td>3aa50e45</td>\n      <td>instruction cache parity error corrected</td>\n      <td>[]</td>\n    </tr>\n    <tr>\n      <th>4</th>\n      <td>5</td>\n      <td>-</td>\n      <td>1117838570</td>\n      <td>2005.06.03</td>\n      <td>R02-M1-N0-C:J12-U11</td>\n      <td>2005-06-03 15:42:50.982731</td>\n      <td>R02-M1-N0-C:J12-U11</td>\n      <td>RAS</td>\n      <td>KERNEL</td>\n      <td>INFO</td>\n      <td>instruction cache parity error corrected</td>\n      <td>3aa50e45</td>\n      <td>instruction cache parity error corrected</td>\n      <td>[]</td>\n    </tr>\n    <tr>\n      <th>...</th>\n      <td>...</td>\n      <td>...</td>\n      <td>...</td>\n      <td>...</td>\n      <td>...</td>\n      <td>...</td>\n      <td>...</td>\n      <td>...</td>\n      <td>...</td>\n      <td>...</td>\n      <td>...</td>\n      <td>...</td>\n      <td>...</td>\n      <td>...</td>\n    </tr>\n    <tr>\n      <th>4713485</th>\n      <td>4713486</td>\n      <td>KERNSOCK</td>\n      <td>1136390405</td>\n      <td>2006.01.04</td>\n      <td>R50-M1-NC-I:J18-U11</td>\n      <td>2006-01-04 08:00:05.142912</td>\n      <td>R50-M1-NC-I:J18-U11</td>\n      <td>RAS</td>\n      <td>KERNEL</td>\n      <td>FATAL</td>\n      <td>idoproxy communication failure: socket closed</td>\n      <td>d7623fbd</td>\n      <td>idoproxy communication failure: socket closed</td>\n      <td>[]</td>\n    </tr>\n    <tr>\n      <th>4713486</th>\n      <td>4713487</td>\n      <td>KERNSOCK</td>\n      <td>1136390405</td>\n      <td>2006.01.04</td>\n      <td>R31-M1-NC-I:J18-U11</td>\n      <td>2006-01-04 08:00:05.143845</td>\n      <td>R31-M1-NC-I:J18-U11</td>\n      <td>RAS</td>\n      <td>KERNEL</td>\n      <td>FATAL</td>\n      <td>idoproxy communication failure: socket closed</td>\n      <td>d7623fbd</td>\n      <td>idoproxy communication failure: socket closed</td>\n      <td>[]</td>\n    </tr>\n    <tr>\n      <th>4713487</th>\n      <td>4713488</td>\n      <td>KERNSOCK</td>\n      <td>1136390405</td>\n      <td>2006.01.04</td>\n      <td>R20-M1-NC-I:J18-U11</td>\n      <td>2006-01-04 08:00:05.144930</td>\n      <td>R20-M1-NC-I:J18-U11</td>\n      <td>RAS</td>\n      <td>KERNEL</td>\n      <td>FATAL</td>\n      <td>idoproxy communication failure: socket closed</td>\n      <td>d7623fbd</td>\n      <td>idoproxy communication failure: socket closed</td>\n      <td>[]</td>\n    </tr>\n    <tr>\n      <th>4713488</th>\n      <td>4713489</td>\n      <td>KERNSOCK</td>\n      <td>1136390405</td>\n      <td>2006.01.04</td>\n      <td>R00-M0-NC-I:J18-U11</td>\n      <td>2006-01-04 08:00:05.167045</td>\n      <td>R00-M0-NC-I:J18-U11</td>\n      <td>RAS</td>\n      <td>KERNEL</td>\n      <td>FATAL</td>\n      <td>idoproxy communication failure: socket closed</td>\n      <td>d7623fbd</td>\n      <td>idoproxy communication failure: socket closed</td>\n      <td>[]</td>\n    </tr>\n    <tr>\n      <th>4713489</th>\n      <td>4713490</td>\n      <td>KERNSOCK</td>\n      <td>1136390405</td>\n      <td>2006.01.04</td>\n      <td>R36-M0-NC-I:J18-U11</td>\n      <td>2006-01-04 08:00:05.185942</td>\n      <td>R36-M0-NC-I:J18-U11</td>\n      <td>RAS</td>\n      <td>KERNEL</td>\n      <td>FATAL</td>\n      <td>idoproxy communication failure: socket closed</td>\n      <td>d7623fbd</td>\n      <td>idoproxy communication failure: socket closed</td>\n      <td>[]</td>\n    </tr>\n  </tbody>\n</table>\n<p>50706 rows × 14 columns</p>\n</div>"
     },
     "execution_count": 147,
     "metadata": {},
     "output_type": "execute_result"
    }
   ],
   "source": [
    "g.head()\n"
   ],
   "metadata": {
    "collapsed": false,
    "ExecuteTime": {
     "end_time": "2023-10-08T15:38:55.190558Z",
     "start_time": "2023-10-08T15:38:55.113011Z"
    }
   },
   "id": "bdf50669215ba077"
  },
  {
   "cell_type": "code",
   "execution_count": 148,
   "outputs": [
    {
     "ename": "AttributeError",
     "evalue": "'DataFrameGroupBy' object has no attribute 'anomaly'",
     "output_type": "error",
     "traceback": [
      "\u001B[0;31m---------------------------------------------------------------------------\u001B[0m",
      "\u001B[0;31mAttributeError\u001B[0m                            Traceback (most recent call last)",
      "Cell \u001B[0;32mIn[148], line 1\u001B[0m\n\u001B[0;32m----> 1\u001B[0m g \u001B[38;5;241m=\u001B[39m \u001B[43mg\u001B[49m\u001B[38;5;241;43m.\u001B[39;49m\u001B[43manomaly\u001B[49m\u001B[38;5;241m.\u001B[39magg(\u001B[38;5;28;01mlambda\u001B[39;00m x: is_anomaly(x))\n\u001B[1;32m      2\u001B[0m \u001B[38;5;66;03m# g = g.apply(lambda x: x.shape[0]).reset_index()\u001B[39;00m\n\u001B[1;32m      4\u001B[0m g\u001B[38;5;241m.\u001B[39mhead()\n",
      "File \u001B[0;32m~/Documents/school/devops/group-assignment/venv/lib/python3.9/site-packages/pandas/core/groupby/groupby.py:1308\u001B[0m, in \u001B[0;36mGroupBy.__getattr__\u001B[0;34m(self, attr)\u001B[0m\n\u001B[1;32m   1305\u001B[0m \u001B[38;5;28;01mif\u001B[39;00m attr \u001B[38;5;129;01min\u001B[39;00m \u001B[38;5;28mself\u001B[39m\u001B[38;5;241m.\u001B[39mobj:\n\u001B[1;32m   1306\u001B[0m     \u001B[38;5;28;01mreturn\u001B[39;00m \u001B[38;5;28mself\u001B[39m[attr]\n\u001B[0;32m-> 1308\u001B[0m \u001B[38;5;28;01mraise\u001B[39;00m \u001B[38;5;167;01mAttributeError\u001B[39;00m(\n\u001B[1;32m   1309\u001B[0m     \u001B[38;5;124mf\u001B[39m\u001B[38;5;124m\"\u001B[39m\u001B[38;5;124m'\u001B[39m\u001B[38;5;132;01m{\u001B[39;00m\u001B[38;5;28mtype\u001B[39m(\u001B[38;5;28mself\u001B[39m)\u001B[38;5;241m.\u001B[39m\u001B[38;5;18m__name__\u001B[39m\u001B[38;5;132;01m}\u001B[39;00m\u001B[38;5;124m'\u001B[39m\u001B[38;5;124m object has no attribute \u001B[39m\u001B[38;5;124m'\u001B[39m\u001B[38;5;132;01m{\u001B[39;00mattr\u001B[38;5;132;01m}\u001B[39;00m\u001B[38;5;124m'\u001B[39m\u001B[38;5;124m\"\u001B[39m\n\u001B[1;32m   1310\u001B[0m )\n",
      "\u001B[0;31mAttributeError\u001B[0m: 'DataFrameGroupBy' object has no attribute 'anomaly'"
     ]
    }
   ],
   "source": [
    "\n",
    "g = g.apply(lambda x: x.shape[0]).reset_index()\n",
    "\n",
    "g.head()\n",
    "# g['anomaly'] = anomalies"
   ],
   "metadata": {
    "collapsed": false,
    "ExecuteTime": {
     "end_time": "2023-10-08T15:42:59.232348Z",
     "start_time": "2023-10-08T15:42:59.219274Z"
    }
   },
   "id": "b6b9d57a370ee60f"
  },
  {
   "cell_type": "code",
   "execution_count": 133,
   "outputs": [
    {
     "data": {
      "text/plain": "                     Time   EventId     0\n0     2005-06-03 12:00:00  070de4aa  4286\n1     2005-06-03 12:00:00  147cfcff    19\n2     2005-06-03 12:00:00  3aa50e45  4863\n3     2005-06-03 12:00:00  4cecb415     5\n4     2005-06-03 12:00:00  5569cffc    10\n...                   ...       ...   ...\n17516 2006-01-04 06:00:00  7a03d1e9    10\n17517 2006-01-04 06:00:00  8df7ac9e     5\n17518 2006-01-04 06:00:00  996c9c62     1\n17519 2006-01-04 06:00:00  d7623fbd     8\n17520 2006-01-04 06:00:00  f0c191b1    17\n\n[17521 rows x 3 columns]",
      "text/html": "<div>\n<style scoped>\n    .dataframe tbody tr th:only-of-type {\n        vertical-align: middle;\n    }\n\n    .dataframe tbody tr th {\n        vertical-align: top;\n    }\n\n    .dataframe thead th {\n        text-align: right;\n    }\n</style>\n<table border=\"1\" class=\"dataframe\">\n  <thead>\n    <tr style=\"text-align: right;\">\n      <th></th>\n      <th>Time</th>\n      <th>EventId</th>\n      <th>0</th>\n    </tr>\n  </thead>\n  <tbody>\n    <tr>\n      <th>0</th>\n      <td>2005-06-03 12:00:00</td>\n      <td>070de4aa</td>\n      <td>4286</td>\n    </tr>\n    <tr>\n      <th>1</th>\n      <td>2005-06-03 12:00:00</td>\n      <td>147cfcff</td>\n      <td>19</td>\n    </tr>\n    <tr>\n      <th>2</th>\n      <td>2005-06-03 12:00:00</td>\n      <td>3aa50e45</td>\n      <td>4863</td>\n    </tr>\n    <tr>\n      <th>3</th>\n      <td>2005-06-03 12:00:00</td>\n      <td>4cecb415</td>\n      <td>5</td>\n    </tr>\n    <tr>\n      <th>4</th>\n      <td>2005-06-03 12:00:00</td>\n      <td>5569cffc</td>\n      <td>10</td>\n    </tr>\n    <tr>\n      <th>...</th>\n      <td>...</td>\n      <td>...</td>\n      <td>...</td>\n    </tr>\n    <tr>\n      <th>17516</th>\n      <td>2006-01-04 06:00:00</td>\n      <td>7a03d1e9</td>\n      <td>10</td>\n    </tr>\n    <tr>\n      <th>17517</th>\n      <td>2006-01-04 06:00:00</td>\n      <td>8df7ac9e</td>\n      <td>5</td>\n    </tr>\n    <tr>\n      <th>17518</th>\n      <td>2006-01-04 06:00:00</td>\n      <td>996c9c62</td>\n      <td>1</td>\n    </tr>\n    <tr>\n      <th>17519</th>\n      <td>2006-01-04 06:00:00</td>\n      <td>d7623fbd</td>\n      <td>8</td>\n    </tr>\n    <tr>\n      <th>17520</th>\n      <td>2006-01-04 06:00:00</td>\n      <td>f0c191b1</td>\n      <td>17</td>\n    </tr>\n  </tbody>\n</table>\n<p>17521 rows × 3 columns</p>\n</div>"
     },
     "execution_count": 133,
     "metadata": {},
     "output_type": "execute_result"
    }
   ],
   "source": [
    "g"
   ],
   "metadata": {
    "collapsed": false,
    "ExecuteTime": {
     "end_time": "2023-10-08T15:33:44.421574Z",
     "start_time": "2023-10-08T15:33:44.414433Z"
    }
   },
   "id": "a47caeee75b99557"
  },
  {
   "cell_type": "code",
   "execution_count": 134,
   "outputs": [],
   "source": [
    "event_count_vector = g.pivot(index=\"Time\",\n",
    "        columns=\"EventId\").fillna(0)"
   ],
   "metadata": {
    "collapsed": false,
    "ExecuteTime": {
     "end_time": "2023-10-08T15:33:48.502200Z",
     "start_time": "2023-10-08T15:33:48.496089Z"
    }
   },
   "id": "3289959ebf3a344e"
  },
  {
   "cell_type": "code",
   "execution_count": 135,
   "outputs": [
    {
     "data": {
      "text/plain": "                           0                                               \\\nEventId             0045c3a8 01c4e373 02430fd4 0256fb0b 0315e48d 0328c31b   \nTime                                                                        \n2005-06-03 12:00:00      0.0      0.0      0.0      0.0      0.0      0.0   \n2005-06-03 18:00:00      0.0      0.0      0.0      0.0      0.0      0.0   \n2005-06-04 00:00:00      0.0      0.0      0.0      0.0      0.0      0.0   \n2005-06-04 06:00:00      0.0      0.0      0.0      0.0      0.0      0.0   \n2005-06-04 12:00:00      0.0      0.0      0.0      0.0      0.0      0.0   \n...                      ...      ...      ...      ...      ...      ...   \n2006-01-03 06:00:00      0.0      0.0      0.0      0.0      0.0      0.0   \n2006-01-03 12:00:00      0.0      0.0      0.0      0.0      0.0      0.0   \n2006-01-03 18:00:00      0.0      0.0      0.0      0.0      0.0      0.0   \n2006-01-04 00:00:00      0.0      0.0      0.0      0.0      0.0      0.0   \n2006-01-04 06:00:00      0.0      0.0      0.0      0.0      0.0      0.0   \n\n                                                         ...           \\\nEventId             045f554d 04639923 04f5a2ae 0509d32d  ... f7c382bd   \nTime                                                     ...            \n2005-06-03 12:00:00      0.0      0.0      0.0      0.0  ...      0.0   \n2005-06-03 18:00:00      0.0      0.0      0.0      0.0  ...      0.0   \n2005-06-04 00:00:00      0.0      0.0      0.0      0.0  ...      0.0   \n2005-06-04 06:00:00      0.0      0.0      0.0      0.0  ...      0.0   \n2005-06-04 12:00:00      0.0      0.0      0.0      0.0  ...      0.0   \n...                      ...      ...      ...      ...  ...      ...   \n2006-01-03 06:00:00      0.0      0.0      0.0      0.0  ...      0.0   \n2006-01-03 12:00:00      0.0      0.0      0.0      0.0  ...      0.0   \n2006-01-03 18:00:00      0.0      0.0      0.0      0.0  ...      0.0   \n2006-01-04 00:00:00      0.0      0.0      0.0      0.0  ...      0.0   \n2006-01-04 06:00:00      0.0      0.0      0.0      0.0  ...      0.0   \n\n                                                                           \\\nEventId             f80a5ed5 f97e57f1 f9df8a24 fac52822 fb1560b4 fb225cd2   \nTime                                                                        \n2005-06-03 12:00:00      0.0      0.0      0.0      0.0      0.0      0.0   \n2005-06-03 18:00:00      0.0      0.0      0.0      0.0      0.0      0.0   \n2005-06-04 00:00:00      0.0      0.0      0.0      0.0      0.0      0.0   \n2005-06-04 06:00:00      0.0      0.0      0.0      0.0      0.0      0.0   \n2005-06-04 12:00:00      0.0      0.0      0.0      0.0      0.0      0.0   \n...                      ...      ...      ...      ...      ...      ...   \n2006-01-03 06:00:00      0.0      0.0      3.0      0.0      0.0      0.0   \n2006-01-03 12:00:00      0.0      0.0      1.0      0.0      0.0      0.0   \n2006-01-03 18:00:00      0.0      0.0      0.0      0.0      0.0      0.0   \n2006-01-04 00:00:00      0.0      0.0      0.0      0.0      0.0      0.0   \n2006-01-04 06:00:00      0.0      0.0      0.0      0.0      0.0      0.0   \n\n                                                \nEventId             fe297487 feaae979 ff52c40c  \nTime                                            \n2005-06-03 12:00:00      0.0      0.0      0.0  \n2005-06-03 18:00:00      0.0      0.0      0.0  \n2005-06-04 00:00:00      0.0      0.0      0.0  \n2005-06-04 06:00:00      0.0      0.0      0.0  \n2005-06-04 12:00:00      0.0      0.0      0.0  \n...                      ...      ...      ...  \n2006-01-03 06:00:00      0.0      0.0      0.0  \n2006-01-03 12:00:00      0.0      0.0      0.0  \n2006-01-03 18:00:00      0.0      0.0      0.0  \n2006-01-04 00:00:00      0.0      0.0      0.0  \n2006-01-04 06:00:00      0.0      0.0      0.0  \n\n[820 rows x 387 columns]",
      "text/html": "<div>\n<style scoped>\n    .dataframe tbody tr th:only-of-type {\n        vertical-align: middle;\n    }\n\n    .dataframe tbody tr th {\n        vertical-align: top;\n    }\n\n    .dataframe thead tr th {\n        text-align: left;\n    }\n\n    .dataframe thead tr:last-of-type th {\n        text-align: right;\n    }\n</style>\n<table border=\"1\" class=\"dataframe\">\n  <thead>\n    <tr>\n      <th></th>\n      <th colspan=\"21\" halign=\"left\">0</th>\n    </tr>\n    <tr>\n      <th>EventId</th>\n      <th>0045c3a8</th>\n      <th>01c4e373</th>\n      <th>02430fd4</th>\n      <th>0256fb0b</th>\n      <th>0315e48d</th>\n      <th>0328c31b</th>\n      <th>045f554d</th>\n      <th>04639923</th>\n      <th>04f5a2ae</th>\n      <th>0509d32d</th>\n      <th>...</th>\n      <th>f7c382bd</th>\n      <th>f80a5ed5</th>\n      <th>f97e57f1</th>\n      <th>f9df8a24</th>\n      <th>fac52822</th>\n      <th>fb1560b4</th>\n      <th>fb225cd2</th>\n      <th>fe297487</th>\n      <th>feaae979</th>\n      <th>ff52c40c</th>\n    </tr>\n    <tr>\n      <th>Time</th>\n      <th></th>\n      <th></th>\n      <th></th>\n      <th></th>\n      <th></th>\n      <th></th>\n      <th></th>\n      <th></th>\n      <th></th>\n      <th></th>\n      <th></th>\n      <th></th>\n      <th></th>\n      <th></th>\n      <th></th>\n      <th></th>\n      <th></th>\n      <th></th>\n      <th></th>\n      <th></th>\n      <th></th>\n    </tr>\n  </thead>\n  <tbody>\n    <tr>\n      <th>2005-06-03 12:00:00</th>\n      <td>0.0</td>\n      <td>0.0</td>\n      <td>0.0</td>\n      <td>0.0</td>\n      <td>0.0</td>\n      <td>0.0</td>\n      <td>0.0</td>\n      <td>0.0</td>\n      <td>0.0</td>\n      <td>0.0</td>\n      <td>...</td>\n      <td>0.0</td>\n      <td>0.0</td>\n      <td>0.0</td>\n      <td>0.0</td>\n      <td>0.0</td>\n      <td>0.0</td>\n      <td>0.0</td>\n      <td>0.0</td>\n      <td>0.0</td>\n      <td>0.0</td>\n    </tr>\n    <tr>\n      <th>2005-06-03 18:00:00</th>\n      <td>0.0</td>\n      <td>0.0</td>\n      <td>0.0</td>\n      <td>0.0</td>\n      <td>0.0</td>\n      <td>0.0</td>\n      <td>0.0</td>\n      <td>0.0</td>\n      <td>0.0</td>\n      <td>0.0</td>\n      <td>...</td>\n      <td>0.0</td>\n      <td>0.0</td>\n      <td>0.0</td>\n      <td>0.0</td>\n      <td>0.0</td>\n      <td>0.0</td>\n      <td>0.0</td>\n      <td>0.0</td>\n      <td>0.0</td>\n      <td>0.0</td>\n    </tr>\n    <tr>\n      <th>2005-06-04 00:00:00</th>\n      <td>0.0</td>\n      <td>0.0</td>\n      <td>0.0</td>\n      <td>0.0</td>\n      <td>0.0</td>\n      <td>0.0</td>\n      <td>0.0</td>\n      <td>0.0</td>\n      <td>0.0</td>\n      <td>0.0</td>\n      <td>...</td>\n      <td>0.0</td>\n      <td>0.0</td>\n      <td>0.0</td>\n      <td>0.0</td>\n      <td>0.0</td>\n      <td>0.0</td>\n      <td>0.0</td>\n      <td>0.0</td>\n      <td>0.0</td>\n      <td>0.0</td>\n    </tr>\n    <tr>\n      <th>2005-06-04 06:00:00</th>\n      <td>0.0</td>\n      <td>0.0</td>\n      <td>0.0</td>\n      <td>0.0</td>\n      <td>0.0</td>\n      <td>0.0</td>\n      <td>0.0</td>\n      <td>0.0</td>\n      <td>0.0</td>\n      <td>0.0</td>\n      <td>...</td>\n      <td>0.0</td>\n      <td>0.0</td>\n      <td>0.0</td>\n      <td>0.0</td>\n      <td>0.0</td>\n      <td>0.0</td>\n      <td>0.0</td>\n      <td>0.0</td>\n      <td>0.0</td>\n      <td>0.0</td>\n    </tr>\n    <tr>\n      <th>2005-06-04 12:00:00</th>\n      <td>0.0</td>\n      <td>0.0</td>\n      <td>0.0</td>\n      <td>0.0</td>\n      <td>0.0</td>\n      <td>0.0</td>\n      <td>0.0</td>\n      <td>0.0</td>\n      <td>0.0</td>\n      <td>0.0</td>\n      <td>...</td>\n      <td>0.0</td>\n      <td>0.0</td>\n      <td>0.0</td>\n      <td>0.0</td>\n      <td>0.0</td>\n      <td>0.0</td>\n      <td>0.0</td>\n      <td>0.0</td>\n      <td>0.0</td>\n      <td>0.0</td>\n    </tr>\n    <tr>\n      <th>...</th>\n      <td>...</td>\n      <td>...</td>\n      <td>...</td>\n      <td>...</td>\n      <td>...</td>\n      <td>...</td>\n      <td>...</td>\n      <td>...</td>\n      <td>...</td>\n      <td>...</td>\n      <td>...</td>\n      <td>...</td>\n      <td>...</td>\n      <td>...</td>\n      <td>...</td>\n      <td>...</td>\n      <td>...</td>\n      <td>...</td>\n      <td>...</td>\n      <td>...</td>\n      <td>...</td>\n    </tr>\n    <tr>\n      <th>2006-01-03 06:00:00</th>\n      <td>0.0</td>\n      <td>0.0</td>\n      <td>0.0</td>\n      <td>0.0</td>\n      <td>0.0</td>\n      <td>0.0</td>\n      <td>0.0</td>\n      <td>0.0</td>\n      <td>0.0</td>\n      <td>0.0</td>\n      <td>...</td>\n      <td>0.0</td>\n      <td>0.0</td>\n      <td>0.0</td>\n      <td>3.0</td>\n      <td>0.0</td>\n      <td>0.0</td>\n      <td>0.0</td>\n      <td>0.0</td>\n      <td>0.0</td>\n      <td>0.0</td>\n    </tr>\n    <tr>\n      <th>2006-01-03 12:00:00</th>\n      <td>0.0</td>\n      <td>0.0</td>\n      <td>0.0</td>\n      <td>0.0</td>\n      <td>0.0</td>\n      <td>0.0</td>\n      <td>0.0</td>\n      <td>0.0</td>\n      <td>0.0</td>\n      <td>0.0</td>\n      <td>...</td>\n      <td>0.0</td>\n      <td>0.0</td>\n      <td>0.0</td>\n      <td>1.0</td>\n      <td>0.0</td>\n      <td>0.0</td>\n      <td>0.0</td>\n      <td>0.0</td>\n      <td>0.0</td>\n      <td>0.0</td>\n    </tr>\n    <tr>\n      <th>2006-01-03 18:00:00</th>\n      <td>0.0</td>\n      <td>0.0</td>\n      <td>0.0</td>\n      <td>0.0</td>\n      <td>0.0</td>\n      <td>0.0</td>\n      <td>0.0</td>\n      <td>0.0</td>\n      <td>0.0</td>\n      <td>0.0</td>\n      <td>...</td>\n      <td>0.0</td>\n      <td>0.0</td>\n      <td>0.0</td>\n      <td>0.0</td>\n      <td>0.0</td>\n      <td>0.0</td>\n      <td>0.0</td>\n      <td>0.0</td>\n      <td>0.0</td>\n      <td>0.0</td>\n    </tr>\n    <tr>\n      <th>2006-01-04 00:00:00</th>\n      <td>0.0</td>\n      <td>0.0</td>\n      <td>0.0</td>\n      <td>0.0</td>\n      <td>0.0</td>\n      <td>0.0</td>\n      <td>0.0</td>\n      <td>0.0</td>\n      <td>0.0</td>\n      <td>0.0</td>\n      <td>...</td>\n      <td>0.0</td>\n      <td>0.0</td>\n      <td>0.0</td>\n      <td>0.0</td>\n      <td>0.0</td>\n      <td>0.0</td>\n      <td>0.0</td>\n      <td>0.0</td>\n      <td>0.0</td>\n      <td>0.0</td>\n    </tr>\n    <tr>\n      <th>2006-01-04 06:00:00</th>\n      <td>0.0</td>\n      <td>0.0</td>\n      <td>0.0</td>\n      <td>0.0</td>\n      <td>0.0</td>\n      <td>0.0</td>\n      <td>0.0</td>\n      <td>0.0</td>\n      <td>0.0</td>\n      <td>0.0</td>\n      <td>...</td>\n      <td>0.0</td>\n      <td>0.0</td>\n      <td>0.0</td>\n      <td>0.0</td>\n      <td>0.0</td>\n      <td>0.0</td>\n      <td>0.0</td>\n      <td>0.0</td>\n      <td>0.0</td>\n      <td>0.0</td>\n    </tr>\n  </tbody>\n</table>\n<p>820 rows × 387 columns</p>\n</div>"
     },
     "execution_count": 135,
     "metadata": {},
     "output_type": "execute_result"
    }
   ],
   "source": [
    "\n",
    "event_count_vector"
   ],
   "metadata": {
    "collapsed": false,
    "ExecuteTime": {
     "end_time": "2023-10-08T15:33:50.178288Z",
     "start_time": "2023-10-08T15:33:50.157050Z"
    }
   },
   "id": "dbc8afdcab3a29f9"
  },
  {
   "cell_type": "code",
   "execution_count": 43,
   "outputs": [],
   "source": [
    "from sklearn.model_selection import train_test_split\n",
    "\n",
    "train, test = train_test_split(event_count_vector, test_size=0.2)\n"
   ],
   "metadata": {
    "collapsed": false,
    "ExecuteTime": {
     "end_time": "2023-10-08T14:33:08.087103Z",
     "start_time": "2023-10-08T14:33:04.589194Z"
    }
   },
   "id": "caf23759abfd3506"
  },
  {
   "cell_type": "code",
   "execution_count": 44,
   "outputs": [
    {
     "data": {
      "text/plain": "                       index                                               \\\nEventId             0045c3a8 01c4e373 02430fd4 0256fb0b 0315e48d 0328c31b   \nTime                                                                        \n2005-10-22 00:00:00      0.0      0.0  10783.0      0.0      0.0  10784.0   \n2005-10-15 00:00:00      0.0      0.0      0.0      0.0      0.0      0.0   \n2005-07-05 12:00:00      0.0      0.0   2264.0      0.0      0.0   2265.0   \n2005-10-18 18:00:00      0.0      0.0      0.0      0.0      0.0      0.0   \n2005-07-12 18:00:00      0.0      0.0      0.0      0.0      0.0      0.0   \n...                      ...      ...      ...      ...      ...      ...   \n2005-10-11 00:00:00      0.0      0.0      0.0      0.0      0.0      0.0   \n2005-07-22 18:00:00      0.0      0.0      0.0      0.0      0.0      0.0   \n2005-07-11 00:00:00      0.0      0.0      0.0      0.0      0.0      0.0   \n2005-11-15 18:00:00      0.0      0.0      0.0      0.0      0.0      0.0   \n2005-09-21 06:00:00      0.0      0.0   7974.0      0.0      0.0   7975.0   \n\n                                                         ...        0  \\\nEventId             045f554d 04639923 04f5a2ae 0509d32d  ... f7c382bd   \nTime                                                     ...            \n2005-10-22 00:00:00  10785.0      0.0      0.0      0.0  ...      1.0   \n2005-10-15 00:00:00      0.0      0.0      0.0      0.0  ...      0.0   \n2005-07-05 12:00:00   2266.0      0.0      0.0      0.0  ...      0.0   \n2005-10-18 18:00:00      0.0      0.0      0.0      0.0  ...      0.0   \n2005-07-12 18:00:00      0.0      0.0      0.0      0.0  ...      0.0   \n...                      ...      ...      ...      ...  ...      ...   \n2005-10-11 00:00:00      0.0      0.0      0.0      0.0  ...      0.0   \n2005-07-22 18:00:00      0.0      0.0      0.0      0.0  ...      0.0   \n2005-07-11 00:00:00      0.0      0.0      0.0      0.0  ...      0.0   \n2005-11-15 18:00:00      0.0      0.0      0.0      0.0  ...      0.0   \n2005-09-21 06:00:00   7976.0      0.0      0.0      0.0  ...      1.0   \n\n                                                                           \\\nEventId             f80a5ed5 f97e57f1 f9df8a24 fac52822 fb1560b4 fb225cd2   \nTime                                                                        \n2005-10-22 00:00:00      0.0      0.0      0.0      0.0      1.0      0.0   \n2005-10-15 00:00:00      0.0      0.0      0.0      0.0      0.0      0.0   \n2005-07-05 12:00:00      0.0      1.0      0.0      0.0      1.0      0.0   \n2005-10-18 18:00:00      0.0      0.0      0.0      0.0      0.0      0.0   \n2005-07-12 18:00:00      0.0      0.0      0.0      0.0      0.0      0.0   \n...                      ...      ...      ...      ...      ...      ...   \n2005-10-11 00:00:00      0.0      0.0      0.0      0.0      0.0      0.0   \n2005-07-22 18:00:00      0.0      0.0      0.0      0.0      0.0      0.0   \n2005-07-11 00:00:00      0.0      0.0      0.0      0.0      0.0      0.0   \n2005-11-15 18:00:00      0.0      0.0      1.0      0.0      0.0      0.0   \n2005-09-21 06:00:00      0.0      0.0      0.0      0.0      1.0      0.0   \n\n                                                \nEventId             fe297487 feaae979 ff52c40c  \nTime                                            \n2005-10-22 00:00:00      0.0      0.0      0.0  \n2005-10-15 00:00:00      0.0      0.0      0.0  \n2005-07-05 12:00:00      0.0      0.0      0.0  \n2005-10-18 18:00:00      0.0      0.0      0.0  \n2005-07-12 18:00:00      0.0      0.0      0.0  \n...                      ...      ...      ...  \n2005-10-11 00:00:00      0.0      0.0      0.0  \n2005-07-22 18:00:00      0.0      0.0      0.0  \n2005-07-11 00:00:00      0.0      0.0      0.0  \n2005-11-15 18:00:00      0.0      0.0      0.0  \n2005-09-21 06:00:00      0.0      0.0      0.0  \n\n[656 rows x 774 columns]",
      "text/html": "<div>\n<style scoped>\n    .dataframe tbody tr th:only-of-type {\n        vertical-align: middle;\n    }\n\n    .dataframe tbody tr th {\n        vertical-align: top;\n    }\n\n    .dataframe thead tr th {\n        text-align: left;\n    }\n\n    .dataframe thead tr:last-of-type th {\n        text-align: right;\n    }\n</style>\n<table border=\"1\" class=\"dataframe\">\n  <thead>\n    <tr>\n      <th></th>\n      <th colspan=\"10\" halign=\"left\">index</th>\n      <th>...</th>\n      <th colspan=\"10\" halign=\"left\">0</th>\n    </tr>\n    <tr>\n      <th>EventId</th>\n      <th>0045c3a8</th>\n      <th>01c4e373</th>\n      <th>02430fd4</th>\n      <th>0256fb0b</th>\n      <th>0315e48d</th>\n      <th>0328c31b</th>\n      <th>045f554d</th>\n      <th>04639923</th>\n      <th>04f5a2ae</th>\n      <th>0509d32d</th>\n      <th>...</th>\n      <th>f7c382bd</th>\n      <th>f80a5ed5</th>\n      <th>f97e57f1</th>\n      <th>f9df8a24</th>\n      <th>fac52822</th>\n      <th>fb1560b4</th>\n      <th>fb225cd2</th>\n      <th>fe297487</th>\n      <th>feaae979</th>\n      <th>ff52c40c</th>\n    </tr>\n    <tr>\n      <th>Time</th>\n      <th></th>\n      <th></th>\n      <th></th>\n      <th></th>\n      <th></th>\n      <th></th>\n      <th></th>\n      <th></th>\n      <th></th>\n      <th></th>\n      <th></th>\n      <th></th>\n      <th></th>\n      <th></th>\n      <th></th>\n      <th></th>\n      <th></th>\n      <th></th>\n      <th></th>\n      <th></th>\n      <th></th>\n    </tr>\n  </thead>\n  <tbody>\n    <tr>\n      <th>2005-10-22 00:00:00</th>\n      <td>0.0</td>\n      <td>0.0</td>\n      <td>10783.0</td>\n      <td>0.0</td>\n      <td>0.0</td>\n      <td>10784.0</td>\n      <td>10785.0</td>\n      <td>0.0</td>\n      <td>0.0</td>\n      <td>0.0</td>\n      <td>...</td>\n      <td>1.0</td>\n      <td>0.0</td>\n      <td>0.0</td>\n      <td>0.0</td>\n      <td>0.0</td>\n      <td>1.0</td>\n      <td>0.0</td>\n      <td>0.0</td>\n      <td>0.0</td>\n      <td>0.0</td>\n    </tr>\n    <tr>\n      <th>2005-10-15 00:00:00</th>\n      <td>0.0</td>\n      <td>0.0</td>\n      <td>0.0</td>\n      <td>0.0</td>\n      <td>0.0</td>\n      <td>0.0</td>\n      <td>0.0</td>\n      <td>0.0</td>\n      <td>0.0</td>\n      <td>0.0</td>\n      <td>...</td>\n      <td>0.0</td>\n      <td>0.0</td>\n      <td>0.0</td>\n      <td>0.0</td>\n      <td>0.0</td>\n      <td>0.0</td>\n      <td>0.0</td>\n      <td>0.0</td>\n      <td>0.0</td>\n      <td>0.0</td>\n    </tr>\n    <tr>\n      <th>2005-07-05 12:00:00</th>\n      <td>0.0</td>\n      <td>0.0</td>\n      <td>2264.0</td>\n      <td>0.0</td>\n      <td>0.0</td>\n      <td>2265.0</td>\n      <td>2266.0</td>\n      <td>0.0</td>\n      <td>0.0</td>\n      <td>0.0</td>\n      <td>...</td>\n      <td>0.0</td>\n      <td>0.0</td>\n      <td>1.0</td>\n      <td>0.0</td>\n      <td>0.0</td>\n      <td>1.0</td>\n      <td>0.0</td>\n      <td>0.0</td>\n      <td>0.0</td>\n      <td>0.0</td>\n    </tr>\n    <tr>\n      <th>2005-10-18 18:00:00</th>\n      <td>0.0</td>\n      <td>0.0</td>\n      <td>0.0</td>\n      <td>0.0</td>\n      <td>0.0</td>\n      <td>0.0</td>\n      <td>0.0</td>\n      <td>0.0</td>\n      <td>0.0</td>\n      <td>0.0</td>\n      <td>...</td>\n      <td>0.0</td>\n      <td>0.0</td>\n      <td>0.0</td>\n      <td>0.0</td>\n      <td>0.0</td>\n      <td>0.0</td>\n      <td>0.0</td>\n      <td>0.0</td>\n      <td>0.0</td>\n      <td>0.0</td>\n    </tr>\n    <tr>\n      <th>2005-07-12 18:00:00</th>\n      <td>0.0</td>\n      <td>0.0</td>\n      <td>0.0</td>\n      <td>0.0</td>\n      <td>0.0</td>\n      <td>0.0</td>\n      <td>0.0</td>\n      <td>0.0</td>\n      <td>0.0</td>\n      <td>0.0</td>\n      <td>...</td>\n      <td>0.0</td>\n      <td>0.0</td>\n      <td>0.0</td>\n      <td>0.0</td>\n      <td>0.0</td>\n      <td>0.0</td>\n      <td>0.0</td>\n      <td>0.0</td>\n      <td>0.0</td>\n      <td>0.0</td>\n    </tr>\n    <tr>\n      <th>...</th>\n      <td>...</td>\n      <td>...</td>\n      <td>...</td>\n      <td>...</td>\n      <td>...</td>\n      <td>...</td>\n      <td>...</td>\n      <td>...</td>\n      <td>...</td>\n      <td>...</td>\n      <td>...</td>\n      <td>...</td>\n      <td>...</td>\n      <td>...</td>\n      <td>...</td>\n      <td>...</td>\n      <td>...</td>\n      <td>...</td>\n      <td>...</td>\n      <td>...</td>\n      <td>...</td>\n    </tr>\n    <tr>\n      <th>2005-10-11 00:00:00</th>\n      <td>0.0</td>\n      <td>0.0</td>\n      <td>0.0</td>\n      <td>0.0</td>\n      <td>0.0</td>\n      <td>0.0</td>\n      <td>0.0</td>\n      <td>0.0</td>\n      <td>0.0</td>\n      <td>0.0</td>\n      <td>...</td>\n      <td>0.0</td>\n      <td>0.0</td>\n      <td>0.0</td>\n      <td>0.0</td>\n      <td>0.0</td>\n      <td>0.0</td>\n      <td>0.0</td>\n      <td>0.0</td>\n      <td>0.0</td>\n      <td>0.0</td>\n    </tr>\n    <tr>\n      <th>2005-07-22 18:00:00</th>\n      <td>0.0</td>\n      <td>0.0</td>\n      <td>0.0</td>\n      <td>0.0</td>\n      <td>0.0</td>\n      <td>0.0</td>\n      <td>0.0</td>\n      <td>0.0</td>\n      <td>0.0</td>\n      <td>0.0</td>\n      <td>...</td>\n      <td>0.0</td>\n      <td>0.0</td>\n      <td>0.0</td>\n      <td>0.0</td>\n      <td>0.0</td>\n      <td>0.0</td>\n      <td>0.0</td>\n      <td>0.0</td>\n      <td>0.0</td>\n      <td>0.0</td>\n    </tr>\n    <tr>\n      <th>2005-07-11 00:00:00</th>\n      <td>0.0</td>\n      <td>0.0</td>\n      <td>0.0</td>\n      <td>0.0</td>\n      <td>0.0</td>\n      <td>0.0</td>\n      <td>0.0</td>\n      <td>0.0</td>\n      <td>0.0</td>\n      <td>0.0</td>\n      <td>...</td>\n      <td>0.0</td>\n      <td>0.0</td>\n      <td>0.0</td>\n      <td>0.0</td>\n      <td>0.0</td>\n      <td>0.0</td>\n      <td>0.0</td>\n      <td>0.0</td>\n      <td>0.0</td>\n      <td>0.0</td>\n    </tr>\n    <tr>\n      <th>2005-11-15 18:00:00</th>\n      <td>0.0</td>\n      <td>0.0</td>\n      <td>0.0</td>\n      <td>0.0</td>\n      <td>0.0</td>\n      <td>0.0</td>\n      <td>0.0</td>\n      <td>0.0</td>\n      <td>0.0</td>\n      <td>0.0</td>\n      <td>...</td>\n      <td>0.0</td>\n      <td>0.0</td>\n      <td>0.0</td>\n      <td>1.0</td>\n      <td>0.0</td>\n      <td>0.0</td>\n      <td>0.0</td>\n      <td>0.0</td>\n      <td>0.0</td>\n      <td>0.0</td>\n    </tr>\n    <tr>\n      <th>2005-09-21 06:00:00</th>\n      <td>0.0</td>\n      <td>0.0</td>\n      <td>7974.0</td>\n      <td>0.0</td>\n      <td>0.0</td>\n      <td>7975.0</td>\n      <td>7976.0</td>\n      <td>0.0</td>\n      <td>0.0</td>\n      <td>0.0</td>\n      <td>...</td>\n      <td>1.0</td>\n      <td>0.0</td>\n      <td>0.0</td>\n      <td>0.0</td>\n      <td>0.0</td>\n      <td>1.0</td>\n      <td>0.0</td>\n      <td>0.0</td>\n      <td>0.0</td>\n      <td>0.0</td>\n    </tr>\n  </tbody>\n</table>\n<p>656 rows × 774 columns</p>\n</div>"
     },
     "execution_count": 44,
     "metadata": {},
     "output_type": "execute_result"
    }
   ],
   "source": [
    "train   "
   ],
   "metadata": {
    "collapsed": false,
    "ExecuteTime": {
     "end_time": "2023-10-08T14:33:13.822772Z",
     "start_time": "2023-10-08T14:33:13.807588Z"
    }
   },
   "id": "8f2e4bea91bdb26c"
  }
 ],
 "metadata": {
  "kernelspec": {
   "display_name": "Python 3",
   "language": "python",
   "name": "python3"
  },
  "language_info": {
   "codemirror_mode": {
    "name": "ipython",
    "version": 2
   },
   "file_extension": ".py",
   "mimetype": "text/x-python",
   "name": "python",
   "nbconvert_exporter": "python",
   "pygments_lexer": "ipython2",
   "version": "2.7.6"
  }
 },
 "nbformat": 4,
 "nbformat_minor": 5
}
