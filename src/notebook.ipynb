{
 "cells": [
  {
   "cell_type": "code",
   "execution_count": 321,
   "outputs": [],
   "source": [
    "import numpy as np\n",
    "import pandas as pd\n",
    "input_file = '../data/BGL/BGL.log_structured.csv'\n",
    "df = pd.read_csv(input_file)\n",
    "\n",
    "df['Time'] = pd.to_datetime(df['Time'], format=\"%Y-%m-%d-%H.%M.%S.%f\")\n",
    "\n"
   ],
   "metadata": {
    "collapsed": false,
    "ExecuteTime": {
     "end_time": "2023-10-08T17:21:13.330949Z",
     "start_time": "2023-10-08T17:20:57.014087Z"
    }
   },
   "id": "initial_id"
  },
  {
   "cell_type": "code",
   "execution_count": 322,
   "outputs": [],
   "source": [
    "df['IsAnomaly'] = df['Label'] != '-'\n",
    "g = df.groupby([pd.Grouper(key='Time', freq='6H'), 'EventId'])\n",
    "h = df.groupby([pd.Grouper(key='Time', freq='6H')])"
   ],
   "metadata": {
    "collapsed": false,
    "ExecuteTime": {
     "end_time": "2023-10-08T17:21:15.144160Z",
     "start_time": "2023-10-08T17:21:13.444858Z"
    }
   },
   "id": "d88cbf3b1348928c"
  },
  {
   "cell_type": "code",
   "execution_count": 323,
   "outputs": [],
   "source": [
    "anomaly_df = h.apply(lambda x: x.loc[:, 'IsAnomaly'].any()).reset_index()\n",
    "count_df = g.apply(lambda x: x.shape[0]).reset_index()\n"
   ],
   "metadata": {
    "collapsed": false,
    "ExecuteTime": {
     "end_time": "2023-10-08T17:21:16.579097Z",
     "start_time": "2023-10-08T17:21:15.144308Z"
    }
   },
   "id": "5814ddfea1402a"
  },
  {
   "cell_type": "code",
   "execution_count": 324,
   "outputs": [],
   "source": [
    "count_df.rename({0:'count'}, axis=1, inplace=True)\n",
    "anomaly_df.rename({0:'IsAnomaly'}, axis=1, inplace=True)\n",
    "merged = pd.merge(anomaly_df, count_df, how='outer', on='Time')"
   ],
   "metadata": {
    "collapsed": false,
    "ExecuteTime": {
     "end_time": "2023-10-08T17:21:16.585150Z",
     "start_time": "2023-10-08T17:21:16.581525Z"
    }
   },
   "id": "7836b96844a635a5"
  },
  {
   "cell_type": "code",
   "execution_count": 325,
   "outputs": [
    {
     "data": {
      "text/plain": "                     Time  IsAnomaly   EventId   count\n0     2005-06-03 12:00:00      False  070de4aa  4286.0\n1     2005-06-03 12:00:00      False  147cfcff    19.0\n2     2005-06-03 12:00:00      False  3aa50e45  4863.0\n3     2005-06-03 12:00:00      False  4cecb415     5.0\n4     2005-06-03 12:00:00      False  5569cffc    10.0\n...                   ...        ...       ...     ...\n17556 2006-01-04 06:00:00       True  7a03d1e9    10.0\n17557 2006-01-04 06:00:00       True  8df7ac9e     5.0\n17558 2006-01-04 06:00:00       True  996c9c62     1.0\n17559 2006-01-04 06:00:00       True  d7623fbd     8.0\n17560 2006-01-04 06:00:00       True  f0c191b1    17.0\n\n[17561 rows x 4 columns]",
      "text/html": "<div>\n<style scoped>\n    .dataframe tbody tr th:only-of-type {\n        vertical-align: middle;\n    }\n\n    .dataframe tbody tr th {\n        vertical-align: top;\n    }\n\n    .dataframe thead th {\n        text-align: right;\n    }\n</style>\n<table border=\"1\" class=\"dataframe\">\n  <thead>\n    <tr style=\"text-align: right;\">\n      <th></th>\n      <th>Time</th>\n      <th>IsAnomaly</th>\n      <th>EventId</th>\n      <th>count</th>\n    </tr>\n  </thead>\n  <tbody>\n    <tr>\n      <th>0</th>\n      <td>2005-06-03 12:00:00</td>\n      <td>False</td>\n      <td>070de4aa</td>\n      <td>4286.0</td>\n    </tr>\n    <tr>\n      <th>1</th>\n      <td>2005-06-03 12:00:00</td>\n      <td>False</td>\n      <td>147cfcff</td>\n      <td>19.0</td>\n    </tr>\n    <tr>\n      <th>2</th>\n      <td>2005-06-03 12:00:00</td>\n      <td>False</td>\n      <td>3aa50e45</td>\n      <td>4863.0</td>\n    </tr>\n    <tr>\n      <th>3</th>\n      <td>2005-06-03 12:00:00</td>\n      <td>False</td>\n      <td>4cecb415</td>\n      <td>5.0</td>\n    </tr>\n    <tr>\n      <th>4</th>\n      <td>2005-06-03 12:00:00</td>\n      <td>False</td>\n      <td>5569cffc</td>\n      <td>10.0</td>\n    </tr>\n    <tr>\n      <th>...</th>\n      <td>...</td>\n      <td>...</td>\n      <td>...</td>\n      <td>...</td>\n    </tr>\n    <tr>\n      <th>17556</th>\n      <td>2006-01-04 06:00:00</td>\n      <td>True</td>\n      <td>7a03d1e9</td>\n      <td>10.0</td>\n    </tr>\n    <tr>\n      <th>17557</th>\n      <td>2006-01-04 06:00:00</td>\n      <td>True</td>\n      <td>8df7ac9e</td>\n      <td>5.0</td>\n    </tr>\n    <tr>\n      <th>17558</th>\n      <td>2006-01-04 06:00:00</td>\n      <td>True</td>\n      <td>996c9c62</td>\n      <td>1.0</td>\n    </tr>\n    <tr>\n      <th>17559</th>\n      <td>2006-01-04 06:00:00</td>\n      <td>True</td>\n      <td>d7623fbd</td>\n      <td>8.0</td>\n    </tr>\n    <tr>\n      <th>17560</th>\n      <td>2006-01-04 06:00:00</td>\n      <td>True</td>\n      <td>f0c191b1</td>\n      <td>17.0</td>\n    </tr>\n  </tbody>\n</table>\n<p>17561 rows × 4 columns</p>\n</div>"
     },
     "execution_count": 325,
     "metadata": {},
     "output_type": "execute_result"
    }
   ],
   "source": [
    "merged"
   ],
   "metadata": {
    "collapsed": false,
    "ExecuteTime": {
     "end_time": "2023-10-08T17:21:16.595686Z",
     "start_time": "2023-10-08T17:21:16.589300Z"
    }
   },
   "id": "caffe2b7dfd06c46"
  },
  {
   "cell_type": "code",
   "execution_count": 326,
   "outputs": [],
   "source": [
    "event_count_vector = merged.pivot(index=[\"Time\", 'IsAnomaly'],\n",
    "                                    columns=\"EventId\",\n",
    "                                  values='count').fillna(0).drop(columns=[np.NaN])"
   ],
   "metadata": {
    "collapsed": false,
    "ExecuteTime": {
     "end_time": "2023-10-08T17:21:16.598540Z",
     "start_time": "2023-10-08T17:21:16.592519Z"
    }
   },
   "id": "933dac1676682adb"
  },
  {
   "cell_type": "code",
   "execution_count": 345,
   "outputs": [],
   "source": [
    "from sklearn.model_selection import train_test_split\n",
    "\n",
    "train, test = train_test_split(event_count_vector, test_size=0.2)\n"
   ],
   "metadata": {
    "collapsed": false,
    "ExecuteTime": {
     "end_time": "2023-10-08T17:34:02.254536Z",
     "start_time": "2023-10-08T17:34:02.246857Z"
    }
   },
   "id": "caf23759abfd3506"
  },
  {
   "cell_type": "code",
   "execution_count": 347,
   "outputs": [
    {
     "data": {
      "text/plain": "EventId                        0045c3a8  01c4e373  02430fd4  0256fb0b  \\\nTime                IsAnomaly                                           \n2005-08-20 06:00:00 False           0.0       0.0       0.0       0.0   \n2005-11-20 18:00:00 True            0.0       0.0       2.0       0.0   \n2005-12-29 12:00:00 False           0.0       0.0       0.0       0.0   \n2005-09-15 00:00:00 False           0.0       0.0       0.0       0.0   \n2005-07-06 00:00:00 False           0.0       0.0       0.0       0.0   \n...                                 ...       ...       ...       ...   \n2006-01-01 18:00:00 False           0.0       0.0       0.0       0.0   \n2005-06-24 12:00:00 False           0.0       0.0       0.0       0.0   \n2005-08-10 00:00:00 False           0.0       0.0       0.0       0.0   \n2005-10-18 00:00:00 True            0.0       0.0       1.0       0.0   \n2005-10-22 12:00:00 False           0.0       0.0       0.0       0.0   \n\nEventId                        0315e48d  0328c31b  045f554d  04639923  \\\nTime                IsAnomaly                                           \n2005-08-20 06:00:00 False           0.0       0.0       0.0       0.0   \n2005-11-20 18:00:00 True            0.0       2.0       2.0       0.0   \n2005-12-29 12:00:00 False           0.0       0.0       0.0       0.0   \n2005-09-15 00:00:00 False           0.0       0.0       0.0       0.0   \n2005-07-06 00:00:00 False           0.0       0.0       0.0       0.0   \n...                                 ...       ...       ...       ...   \n2006-01-01 18:00:00 False           0.0       0.0       0.0       0.0   \n2005-06-24 12:00:00 False           0.0       0.0       0.0       0.0   \n2005-08-10 00:00:00 False           0.0       0.0       0.0       0.0   \n2005-10-18 00:00:00 True            0.0       1.0       0.0       0.0   \n2005-10-22 12:00:00 False           0.0       0.0       0.0       0.0   \n\nEventId                        04f5a2ae  0509d32d  ...  f7c382bd  f80a5ed5  \\\nTime                IsAnomaly                      ...                       \n2005-08-20 06:00:00 False           0.0       0.0  ...       0.0       0.0   \n2005-11-20 18:00:00 True            0.0       0.0  ...       2.0       0.0   \n2005-12-29 12:00:00 False           0.0       0.0  ...       0.0       0.0   \n2005-09-15 00:00:00 False           0.0       0.0  ...       0.0       0.0   \n2005-07-06 00:00:00 False           0.0       0.0  ...       0.0       0.0   \n...                                 ...       ...  ...       ...       ...   \n2006-01-01 18:00:00 False           0.0       0.0  ...       0.0       0.0   \n2005-06-24 12:00:00 False           0.0       0.0  ...       0.0       0.0   \n2005-08-10 00:00:00 False           0.0       0.0  ...       0.0       0.0   \n2005-10-18 00:00:00 True            0.0       0.0  ...       0.0       0.0   \n2005-10-22 12:00:00 False           0.0       0.0  ...       0.0       0.0   \n\nEventId                        f97e57f1  f9df8a24  fac52822  fb1560b4  \\\nTime                IsAnomaly                                           \n2005-08-20 06:00:00 False           0.0       0.0       0.0       0.0   \n2005-11-20 18:00:00 True            0.0       3.0       0.0       2.0   \n2005-12-29 12:00:00 False          20.0       0.0       0.0       0.0   \n2005-09-15 00:00:00 False           0.0       0.0       0.0       0.0   \n2005-07-06 00:00:00 False           0.0       0.0       0.0       0.0   \n...                                 ...       ...       ...       ...   \n2006-01-01 18:00:00 False           0.0       0.0       0.0       0.0   \n2005-06-24 12:00:00 False           0.0       0.0       0.0       0.0   \n2005-08-10 00:00:00 False           0.0       0.0       0.0       0.0   \n2005-10-18 00:00:00 True            0.0       0.0       0.0       1.0   \n2005-10-22 12:00:00 False           0.0       0.0       0.0       0.0   \n\nEventId                        fb225cd2  fe297487  feaae979  ff52c40c  \nTime                IsAnomaly                                          \n2005-08-20 06:00:00 False           0.0       0.0       0.0       0.0  \n2005-11-20 18:00:00 True            0.0       0.0       0.0       0.0  \n2005-12-29 12:00:00 False           0.0       0.0       0.0       0.0  \n2005-09-15 00:00:00 False           0.0       0.0       0.0       0.0  \n2005-07-06 00:00:00 False           0.0       0.0       0.0       0.0  \n...                                 ...       ...       ...       ...  \n2006-01-01 18:00:00 False           0.0       0.0       0.0       0.0  \n2005-06-24 12:00:00 False           0.0       0.0       0.0       0.0  \n2005-08-10 00:00:00 False           0.0       0.0       0.0       0.0  \n2005-10-18 00:00:00 True            0.0       0.0       0.0       0.0  \n2005-10-22 12:00:00 False           0.0       0.0       0.0       0.0  \n\n[688 rows x 387 columns]",
      "text/html": "<div>\n<style scoped>\n    .dataframe tbody tr th:only-of-type {\n        vertical-align: middle;\n    }\n\n    .dataframe tbody tr th {\n        vertical-align: top;\n    }\n\n    .dataframe thead th {\n        text-align: right;\n    }\n</style>\n<table border=\"1\" class=\"dataframe\">\n  <thead>\n    <tr style=\"text-align: right;\">\n      <th></th>\n      <th>EventId</th>\n      <th>0045c3a8</th>\n      <th>01c4e373</th>\n      <th>02430fd4</th>\n      <th>0256fb0b</th>\n      <th>0315e48d</th>\n      <th>0328c31b</th>\n      <th>045f554d</th>\n      <th>04639923</th>\n      <th>04f5a2ae</th>\n      <th>0509d32d</th>\n      <th>...</th>\n      <th>f7c382bd</th>\n      <th>f80a5ed5</th>\n      <th>f97e57f1</th>\n      <th>f9df8a24</th>\n      <th>fac52822</th>\n      <th>fb1560b4</th>\n      <th>fb225cd2</th>\n      <th>fe297487</th>\n      <th>feaae979</th>\n      <th>ff52c40c</th>\n    </tr>\n    <tr>\n      <th>Time</th>\n      <th>IsAnomaly</th>\n      <th></th>\n      <th></th>\n      <th></th>\n      <th></th>\n      <th></th>\n      <th></th>\n      <th></th>\n      <th></th>\n      <th></th>\n      <th></th>\n      <th></th>\n      <th></th>\n      <th></th>\n      <th></th>\n      <th></th>\n      <th></th>\n      <th></th>\n      <th></th>\n      <th></th>\n      <th></th>\n      <th></th>\n    </tr>\n  </thead>\n  <tbody>\n    <tr>\n      <th>2005-08-20 06:00:00</th>\n      <th>False</th>\n      <td>0.0</td>\n      <td>0.0</td>\n      <td>0.0</td>\n      <td>0.0</td>\n      <td>0.0</td>\n      <td>0.0</td>\n      <td>0.0</td>\n      <td>0.0</td>\n      <td>0.0</td>\n      <td>0.0</td>\n      <td>...</td>\n      <td>0.0</td>\n      <td>0.0</td>\n      <td>0.0</td>\n      <td>0.0</td>\n      <td>0.0</td>\n      <td>0.0</td>\n      <td>0.0</td>\n      <td>0.0</td>\n      <td>0.0</td>\n      <td>0.0</td>\n    </tr>\n    <tr>\n      <th>2005-11-20 18:00:00</th>\n      <th>True</th>\n      <td>0.0</td>\n      <td>0.0</td>\n      <td>2.0</td>\n      <td>0.0</td>\n      <td>0.0</td>\n      <td>2.0</td>\n      <td>2.0</td>\n      <td>0.0</td>\n      <td>0.0</td>\n      <td>0.0</td>\n      <td>...</td>\n      <td>2.0</td>\n      <td>0.0</td>\n      <td>0.0</td>\n      <td>3.0</td>\n      <td>0.0</td>\n      <td>2.0</td>\n      <td>0.0</td>\n      <td>0.0</td>\n      <td>0.0</td>\n      <td>0.0</td>\n    </tr>\n    <tr>\n      <th>2005-12-29 12:00:00</th>\n      <th>False</th>\n      <td>0.0</td>\n      <td>0.0</td>\n      <td>0.0</td>\n      <td>0.0</td>\n      <td>0.0</td>\n      <td>0.0</td>\n      <td>0.0</td>\n      <td>0.0</td>\n      <td>0.0</td>\n      <td>0.0</td>\n      <td>...</td>\n      <td>0.0</td>\n      <td>0.0</td>\n      <td>20.0</td>\n      <td>0.0</td>\n      <td>0.0</td>\n      <td>0.0</td>\n      <td>0.0</td>\n      <td>0.0</td>\n      <td>0.0</td>\n      <td>0.0</td>\n    </tr>\n    <tr>\n      <th>2005-09-15 00:00:00</th>\n      <th>False</th>\n      <td>0.0</td>\n      <td>0.0</td>\n      <td>0.0</td>\n      <td>0.0</td>\n      <td>0.0</td>\n      <td>0.0</td>\n      <td>0.0</td>\n      <td>0.0</td>\n      <td>0.0</td>\n      <td>0.0</td>\n      <td>...</td>\n      <td>0.0</td>\n      <td>0.0</td>\n      <td>0.0</td>\n      <td>0.0</td>\n      <td>0.0</td>\n      <td>0.0</td>\n      <td>0.0</td>\n      <td>0.0</td>\n      <td>0.0</td>\n      <td>0.0</td>\n    </tr>\n    <tr>\n      <th>2005-07-06 00:00:00</th>\n      <th>False</th>\n      <td>0.0</td>\n      <td>0.0</td>\n      <td>0.0</td>\n      <td>0.0</td>\n      <td>0.0</td>\n      <td>0.0</td>\n      <td>0.0</td>\n      <td>0.0</td>\n      <td>0.0</td>\n      <td>0.0</td>\n      <td>...</td>\n      <td>0.0</td>\n      <td>0.0</td>\n      <td>0.0</td>\n      <td>0.0</td>\n      <td>0.0</td>\n      <td>0.0</td>\n      <td>0.0</td>\n      <td>0.0</td>\n      <td>0.0</td>\n      <td>0.0</td>\n    </tr>\n    <tr>\n      <th>...</th>\n      <th>...</th>\n      <td>...</td>\n      <td>...</td>\n      <td>...</td>\n      <td>...</td>\n      <td>...</td>\n      <td>...</td>\n      <td>...</td>\n      <td>...</td>\n      <td>...</td>\n      <td>...</td>\n      <td>...</td>\n      <td>...</td>\n      <td>...</td>\n      <td>...</td>\n      <td>...</td>\n      <td>...</td>\n      <td>...</td>\n      <td>...</td>\n      <td>...</td>\n      <td>...</td>\n      <td>...</td>\n    </tr>\n    <tr>\n      <th>2006-01-01 18:00:00</th>\n      <th>False</th>\n      <td>0.0</td>\n      <td>0.0</td>\n      <td>0.0</td>\n      <td>0.0</td>\n      <td>0.0</td>\n      <td>0.0</td>\n      <td>0.0</td>\n      <td>0.0</td>\n      <td>0.0</td>\n      <td>0.0</td>\n      <td>...</td>\n      <td>0.0</td>\n      <td>0.0</td>\n      <td>0.0</td>\n      <td>0.0</td>\n      <td>0.0</td>\n      <td>0.0</td>\n      <td>0.0</td>\n      <td>0.0</td>\n      <td>0.0</td>\n      <td>0.0</td>\n    </tr>\n    <tr>\n      <th>2005-06-24 12:00:00</th>\n      <th>False</th>\n      <td>0.0</td>\n      <td>0.0</td>\n      <td>0.0</td>\n      <td>0.0</td>\n      <td>0.0</td>\n      <td>0.0</td>\n      <td>0.0</td>\n      <td>0.0</td>\n      <td>0.0</td>\n      <td>0.0</td>\n      <td>...</td>\n      <td>0.0</td>\n      <td>0.0</td>\n      <td>0.0</td>\n      <td>0.0</td>\n      <td>0.0</td>\n      <td>0.0</td>\n      <td>0.0</td>\n      <td>0.0</td>\n      <td>0.0</td>\n      <td>0.0</td>\n    </tr>\n    <tr>\n      <th>2005-08-10 00:00:00</th>\n      <th>False</th>\n      <td>0.0</td>\n      <td>0.0</td>\n      <td>0.0</td>\n      <td>0.0</td>\n      <td>0.0</td>\n      <td>0.0</td>\n      <td>0.0</td>\n      <td>0.0</td>\n      <td>0.0</td>\n      <td>0.0</td>\n      <td>...</td>\n      <td>0.0</td>\n      <td>0.0</td>\n      <td>0.0</td>\n      <td>0.0</td>\n      <td>0.0</td>\n      <td>0.0</td>\n      <td>0.0</td>\n      <td>0.0</td>\n      <td>0.0</td>\n      <td>0.0</td>\n    </tr>\n    <tr>\n      <th>2005-10-18 00:00:00</th>\n      <th>True</th>\n      <td>0.0</td>\n      <td>0.0</td>\n      <td>1.0</td>\n      <td>0.0</td>\n      <td>0.0</td>\n      <td>1.0</td>\n      <td>0.0</td>\n      <td>0.0</td>\n      <td>0.0</td>\n      <td>0.0</td>\n      <td>...</td>\n      <td>0.0</td>\n      <td>0.0</td>\n      <td>0.0</td>\n      <td>0.0</td>\n      <td>0.0</td>\n      <td>1.0</td>\n      <td>0.0</td>\n      <td>0.0</td>\n      <td>0.0</td>\n      <td>0.0</td>\n    </tr>\n    <tr>\n      <th>2005-10-22 12:00:00</th>\n      <th>False</th>\n      <td>0.0</td>\n      <td>0.0</td>\n      <td>0.0</td>\n      <td>0.0</td>\n      <td>0.0</td>\n      <td>0.0</td>\n      <td>0.0</td>\n      <td>0.0</td>\n      <td>0.0</td>\n      <td>0.0</td>\n      <td>...</td>\n      <td>0.0</td>\n      <td>0.0</td>\n      <td>0.0</td>\n      <td>0.0</td>\n      <td>0.0</td>\n      <td>0.0</td>\n      <td>0.0</td>\n      <td>0.0</td>\n      <td>0.0</td>\n      <td>0.0</td>\n    </tr>\n  </tbody>\n</table>\n<p>688 rows × 387 columns</p>\n</div>"
     },
     "execution_count": 347,
     "metadata": {},
     "output_type": "execute_result"
    }
   ],
   "source": [
    "train"
   ],
   "metadata": {
    "collapsed": false,
    "ExecuteTime": {
     "end_time": "2023-10-08T17:34:30.460241Z",
     "start_time": "2023-10-08T17:34:30.454443Z"
    }
   },
   "id": "471d27438d8772fc"
  },
  {
   "cell_type": "code",
   "execution_count": 357,
   "outputs": [],
   "source": [
    "test_y = test.reset_index(level='IsAnomaly')['IsAnomaly'].to_numpy() * 1\n",
    "train_y = train.reset_index(level='IsAnomaly')['IsAnomaly'].to_numpy() * 1\n",
    "test_x = test.reset_index(level='IsAnomaly').drop(columns=['IsAnomaly']).to_numpy()\n",
    "train_x = train.reset_index(level='IsAnomaly').drop(columns=['IsAnomaly']).to_numpy()"
   ],
   "metadata": {
    "collapsed": false,
    "ExecuteTime": {
     "end_time": "2023-10-08T17:37:06.096181Z",
     "start_time": "2023-10-08T17:37:06.077658Z"
    }
   },
   "id": "8f2e4bea91bdb26c"
  },
  {
   "cell_type": "code",
   "execution_count": 359,
   "outputs": [
    {
     "data": {
      "text/plain": "array([[0., 0., 0., ..., 0., 0., 0.],\n       [0., 0., 0., ..., 0., 0., 0.],\n       [0., 0., 0., ..., 0., 0., 0.],\n       ...,\n       [0., 0., 1., ..., 0., 0., 0.],\n       [0., 0., 0., ..., 0., 0., 0.],\n       [0., 0., 1., ..., 0., 0., 0.]])"
     },
     "execution_count": 359,
     "metadata": {},
     "output_type": "execute_result"
    }
   ],
   "source": [
    "test_x"
   ],
   "metadata": {
    "collapsed": false,
    "ExecuteTime": {
     "end_time": "2023-10-08T17:37:16.069302Z",
     "start_time": "2023-10-08T17:37:16.064226Z"
    }
   },
   "id": "3ce81f215c5c15c"
  },
  {
   "cell_type": "code",
   "execution_count": 364,
   "outputs": [],
   "source": [
    "np.savez('../data/BGL/BGL.log.agg.npz',\n",
    "         x_train=train_x,\n",
    "         y_train=train_y,\n",
    "         x_test=test_x,\n",
    "         y_test=test_y)"
   ],
   "metadata": {
    "collapsed": false,
    "ExecuteTime": {
     "end_time": "2023-10-08T17:40:36.878762Z",
     "start_time": "2023-10-08T17:40:36.865136Z"
    }
   },
   "id": "b1ad1217eb72dd28"
  },
  {
   "cell_type": "code",
   "execution_count": 366,
   "outputs": [],
   "source": [
    "from sklearn.metrics import precision_recall_fscore_support\n",
    "from sklearn import tree\n",
    "def metrics(y_pred, y_true):\n",
    "    precision, recall, f1, _ = precision_recall_fscore_support(y_true, y_pred, average='binary')\n",
    "    return precision, recall, f1\n",
    "\n",
    "class DecisionTree(object):\n",
    "\n",
    "    def __init__(self, criterion='gini', max_depth=None, max_features=None, class_weight=None):\n",
    "        \"\"\" The Invariants Mining model for anomaly detection\n",
    "        Arguments\n",
    "        ---------\n",
    "        See DecisionTreeClassifier API: https://scikit-learn.org/stable/modules/generated/sklearn.svm.LinearSVC.html\n",
    "\n",
    "        Attributes\n",
    "        ----------\n",
    "            classifier: object, the classifier for anomaly detection\n",
    "\n",
    "        \"\"\"\n",
    "        self.classifier = tree.DecisionTreeClassifier(criterion=criterion, max_depth=max_depth,\n",
    "                                                      max_features=max_features, class_weight=class_weight)\n",
    "\n",
    "    def fit(self, X, y):\n",
    "        \"\"\"\n",
    "        Arguments\n",
    "        ---------\n",
    "            X: ndarray, the event count matrix of shape num_instances-by-num_events\n",
    "        \"\"\"\n",
    "        print('====== Model summary ======')\n",
    "        self.classifier.fit(X, y)\n",
    "\n",
    "    def predict(self, X):\n",
    "        \"\"\" Predict anomalies with mined invariants\n",
    "\n",
    "        Arguments\n",
    "        ---------\n",
    "            X: the input event count matrix\n",
    "\n",
    "        Returns\n",
    "        -------\n",
    "            y_pred: ndarray, the predicted label vector of shape (num_instances,)\n",
    "        \"\"\"\n",
    "\n",
    "        y_pred = self.classifier.predict(X)\n",
    "        return y_pred\n",
    "\n",
    "    def evaluate(self, X, y_true):\n",
    "        print('====== Evaluation summary ======')\n",
    "        y_pred = self.predict(X)\n",
    "        precision, recall, f1 = metrics(y_pred, y_true)\n",
    "        print('Precision: {:.3f}, recall: {:.3f}, F1-measure: {:.3f}\\n'.format(precision, recall, f1))\n",
    "        return precision, recall, f1\n",
    "\n"
   ],
   "metadata": {
    "collapsed": false,
    "ExecuteTime": {
     "end_time": "2023-10-08T17:46:53.464901Z",
     "start_time": "2023-10-08T17:46:52.915093Z"
    }
   },
   "id": "f7fdac581ede393b"
  },
  {
   "cell_type": "code",
   "execution_count": 368,
   "outputs": [
    {
     "name": "stdout",
     "output_type": "stream",
     "text": [
      "====== Model summary ======\n",
      "====== Evaluation summary ======\n",
      "Precision: 0.946, recall: 0.921, F1-measure: 0.933\n"
     ]
    },
    {
     "data": {
      "text/plain": "(0.9459459459459459, 0.9210526315789473, 0.9333333333333332)"
     },
     "execution_count": 368,
     "metadata": {},
     "output_type": "execute_result"
    }
   ],
   "source": [
    "decision_tree = DecisionTree()\n",
    "decision_tree.fit(train_x, train_y)\n",
    "decision_tree.evaluate(test_x, test_y)"
   ],
   "metadata": {
    "collapsed": false,
    "ExecuteTime": {
     "end_time": "2023-10-08T17:47:38.158859Z",
     "start_time": "2023-10-08T17:47:38.138503Z"
    }
   },
   "id": "9187d0ca05b236ad"
  },
  {
   "cell_type": "code",
   "execution_count": 371,
   "outputs": [
    {
     "name": "stdout",
     "output_type": "stream",
     "text": [
      "====== Evaluation summary ======\n",
      "Precision: 0.571, recall: 0.105, F1-measure: 0.178\n"
     ]
    }
   ],
   "source": [
    "from sklearn import svm\n",
    "\n",
    "svm_model = svm.SVC()\n",
    "svm_model.fit(train_x, train_y)\n",
    "predict_y = svm_model.predict(test_x)\n",
    "print('====== Evaluation summary ======')\n",
    "\n",
    "precision, recall, f1 = metrics(predict_y, test_y)\n",
    "print('Precision: {:.3f}, recall: {:.3f}, F1-measure: {:.3f}\\n'.format(precision, recall, f1))\n"
   ],
   "metadata": {
    "collapsed": false,
    "ExecuteTime": {
     "end_time": "2023-10-08T17:52:41.011875Z",
     "start_time": "2023-10-08T17:52:40.872854Z"
    }
   },
   "id": "cc869035b66348b0"
  },
  {
   "cell_type": "code",
   "execution_count": 372,
   "outputs": [
    {
     "name": "stdout",
     "output_type": "stream",
     "text": [
      "Precision: 0.197, recall: 0.682, F1-measure: 0.306\n",
      "Precision: 0.197, recall: 0.682, F1-measure: 0.306\n",
      "Precision: 0.197, recall: 0.682, F1-measure: 0.306\n",
      "Precision: 0.197, recall: 0.682, F1-measure: 0.306\n",
      "Precision: 0.197, recall: 0.682, F1-measure: 0.306\n",
      "\n",
      "average:  0.19736842105263158 0.6818181818181818 0.30612244897959184\n"
     ]
    }
   ],
   "source": [
    "# SVM\n",
    "\n",
    "from sklearn import svm\n",
    "from sklearn.metrics import precision_recall_fscore_support\n",
    "\n",
    "\n",
    "\n",
    "prec_l = []\n",
    "recall_l = []\n",
    "f1_l = []\n",
    "\n",
    "for i in range(5):\n",
    "    SVM_model = svm.SVC(kernel=\"poly\", degree=3, class_weight='balanced', coef0=1, C=10)\n",
    "    SVM_model.fit(train_x, train_y)\n",
    "    y_ = SVM_model.predict(test_x)\n",
    "    precision, recall, f1 = metrics(test_y, y_)\n",
    "    print('Precision: {:.3f}, recall: {:.3f}, F1-measure: {:.3f}\\n'.format(precision, recall, f1))\n",
    "    prec_l.append(precision)\n",
    "    recall_l.append(recall)\n",
    "    f1_l.append(f1)\n",
    "\n",
    "print('average: ', sum(prec_l) / len(prec_l), sum(recall_l) / len(recall_l), sum(f1_l) / len(f1_l))"
   ],
   "metadata": {
    "collapsed": false,
    "ExecuteTime": {
     "end_time": "2023-10-08T17:54:14.931249Z",
     "start_time": "2023-10-08T17:54:13.588097Z"
    }
   },
   "id": "80a2c5eafaa7db8c"
  },
  {
   "cell_type": "code",
   "execution_count": 385,
   "outputs": [],
   "source": [
    "from sklearn.linear_model import LogisticRegression\n",
    "\n",
    "\n",
    "class LR(object):\n",
    "\n",
    "    def __init__(self, penalty='l2', C=100, tol=0.01, class_weight=None, max_iter=100000):\n",
    "        \"\"\" The Invariants Mining model for anomaly detection\n",
    "\n",
    "        Attributes\n",
    "        ----------\n",
    "            classifier: object, the classifier for anomaly detection\n",
    "        \"\"\"\n",
    "        self.classifier = LogisticRegression(penalty=penalty, C=C, tol=tol, class_weight=class_weight,\n",
    "                                             max_iter=max_iter)\n",
    "\n",
    "    def fit(self, X, y):\n",
    "        \"\"\"\n",
    "        Arguments\n",
    "        ---------\n",
    "            X: ndarray, the event count matrix of shape num_instances-by-num_events\n",
    "        \"\"\"\n",
    "        print('====== Model summary ======')\n",
    "        self.classifier.fit(X, y)\n",
    "\n",
    "    def predict(self, X):\n",
    "        \"\"\" Predict anomalies with mined invariants\n",
    "\n",
    "        Arguments\n",
    "        ---------\n",
    "            X: the input event count matrix\n",
    "\n",
    "        Returns\n",
    "        -------\n",
    "            y_pred: ndarray, the predicted label vector of shape (num_instances,)\n",
    "        \"\"\"\n",
    "        y_pred = self.classifier.predict(X)\n",
    "        return y_pred\n",
    "\n",
    "    def evaluate(self, X, y_true):\n",
    "        print('====== Evaluation summary ======')\n",
    "        y_pred = self.predict(X)\n",
    "        precision, recall, f1 = metrics(y_pred, y_true)\n",
    "        print('Precision: {:.3f}, recall: {:.3f}, F1-measure: {:.3f}\\n'.format(precision, recall, f1))\n",
    "        return precision, recall, f1\n"
   ],
   "metadata": {
    "collapsed": false,
    "ExecuteTime": {
     "end_time": "2023-10-08T17:59:51.139146Z",
     "start_time": "2023-10-08T17:59:51.130339Z"
    }
   },
   "id": "fc24be5feb7e87fc"
  },
  {
   "cell_type": "code",
   "execution_count": 386,
   "outputs": [
    {
     "name": "stdout",
     "output_type": "stream",
     "text": [
      "====== Model summary ======\n",
      "====== Evaluation summary ======\n",
      "Precision: 0.940, recall: 0.829, F1-measure: 0.881\n"
     ]
    },
    {
     "name": "stderr",
     "output_type": "stream",
     "text": [
      "/Users/nicolegros/Documents/school/devops/group-assignment/venv/lib/python3.9/site-packages/sklearn/linear_model/_logistic.py:460: ConvergenceWarning: lbfgs failed to converge (status=1):\n",
      "STOP: TOTAL NO. of f AND g EVALUATIONS EXCEEDS LIMIT.\n",
      "\n",
      "Increase the number of iterations (max_iter) or scale the data as shown in:\n",
      "    https://scikit-learn.org/stable/modules/preprocessing.html\n",
      "Please also refer to the documentation for alternative solver options:\n",
      "    https://scikit-learn.org/stable/modules/linear_model.html#logistic-regression\n",
      "  n_iter_i = _check_optimize_result(\n"
     ]
    },
    {
     "data": {
      "text/plain": "(0.9402985074626866, 0.8289473684210527, 0.8811188811188811)"
     },
     "execution_count": 386,
     "metadata": {},
     "output_type": "execute_result"
    }
   ],
   "source": [
    "lr = LR()\n",
    "lr.fit(train_x, train_y)\n",
    "lr.evaluate(test_x, test_y)"
   ],
   "metadata": {
    "collapsed": false,
    "ExecuteTime": {
     "end_time": "2023-10-08T18:00:00.243548Z",
     "start_time": "2023-10-08T17:59:51.814677Z"
    }
   },
   "id": "38eb6ecad0a255ac"
  },
  {
   "cell_type": "code",
   "execution_count": 388,
   "outputs": [
    {
     "name": "stdout",
     "output_type": "stream",
     "text": [
      "Precision: 0.895, recall: 0.958, F1-measure: 0.925\n",
      "\n",
      "Precision: 0.921, recall: 0.933, F1-measure: 0.927\n",
      "\n",
      "Precision: 0.895, recall: 0.986, F1-measure: 0.938\n",
      "\n",
      "Precision: 0.895, recall: 0.944, F1-measure: 0.919\n",
      "\n",
      "Precision: 0.868, recall: 0.930, F1-measure: 0.898\n",
      "\n",
      "average:  0.8947368421052632 0.9501217935633122 0.9214263045966306\n"
     ]
    }
   ],
   "source": [
    "from sklearn.ensemble import RandomForestClassifier\n",
    "\n",
    "prec_l = []\n",
    "recall_l = []\n",
    "f1_l = []\n",
    "\n",
    "for i in range(5):\n",
    "    rf_model = RandomForestClassifier(n_estimators=10, max_depth=None,min_samples_split=2, bootstrap=True)\n",
    "    rf_model.fit(train_x, train_y)\n",
    "    y_ = rf_model.predict(test_x)\n",
    "    precision, recall, f1 = metrics(test_y, y_)\n",
    "    print('Precision: {:.3f}, recall: {:.3f}, F1-measure: {:.3f}\\n'.format(precision, recall, f1))\n",
    "    prec_l.append(precision)\n",
    "    recall_l.append(recall)\n",
    "    f1_l.append(f1)\n",
    "\n",
    "\n",
    "print('average: ', sum(prec_l) / len(prec_l), sum(recall_l) / len(recall_l), sum(f1_l) / len(f1_l))\n"
   ],
   "metadata": {
    "collapsed": false,
    "ExecuteTime": {
     "end_time": "2023-10-08T18:01:19.651274Z",
     "start_time": "2023-10-08T18:01:19.514047Z"
    }
   },
   "id": "27401106e26b412b"
  },
  {
   "cell_type": "code",
   "execution_count": null,
   "outputs": [],
   "source": [
    "# Multi-layer perception for log anomaly detection\n",
    "\n",
    "import numpy as np\n",
    "import torch\n",
    "import torch.nn as nn\n",
    "import torch.nn.functional as F\n",
    "import matplotlib.pyplot as plt\n",
    "from torch.autograd import Variable\n",
    "from sklearn.metrics import precision_recall_fscore_support\n",
    "\n",
    "seq_level_data = np.load('./data/BGL/agg/BGL_fasttext_template_tfidf_50d_agg.npz', allow_pickle=True)\n",
    "\n",
    "x_train = train_x\n",
    "y_train = train_y\n",
    "x_test = test_x\n",
    "y_test = test_y\n",
    "\n",
    "\n",
    "# balance pos/neg samples\n",
    "x_train = np.array(x_train, dtype=np.float64)\n",
    "x_test = np.array(x_test, dtype=np.float64)\n",
    "pos = y_train==1\n",
    "print(x_train.shape)\n",
    "print(y_train.shape)\n",
    "print('positive:',sum(pos))\n",
    "print('ratio:',x_train.shape[0]/sum(pos))\n",
    "ratio = x_train.shape[0]/sum(pos)\n",
    "\n",
    "index = np.argwhere(pos == True)\n",
    "fea_dim = x_train.shape[1]\n",
    "pos_items = x_train[index,:].reshape(-1,fea_dim)\n",
    "pos_rep = np.repeat(pos_items, ratio-1, axis =0)\n",
    "\n",
    "new_x_train = np.concatenate((x_train, pos_rep),axis =0)\n",
    "new_y_train = np.append(y_train, np.ones(pos_rep.shape[0]))\n",
    "\n",
    "#shuffle new dataset\n",
    "\n",
    "index=np.arange(new_x_train.shape[0])\n",
    "np.random.shuffle(index)\n",
    "\n",
    "new_x_train_s = new_x_train[index]\n",
    "new_y_train_s = new_y_train[index]\n",
    "batch_size = y_train.shape[0]\n",
    "\n",
    "\n",
    "y_train_tensor = torch.from_numpy(new_y_train_s).type(torch.LongTensor)\n",
    "y_train_onehot = torch.from_numpy(new_y_train_s).type(torch.LongTensor)\n",
    "x_train_tensor = torch.from_numpy(new_x_train_s).float()\n",
    "\n",
    "x_test_tensor = torch.from_numpy(x_test).float()\n",
    "y_test_tensor = torch.from_numpy(y_test.reshape(-1,1))\n",
    "y_test_onehot = torch.zeros(y_test_tensor.shape[0], 2).scatter_(1, y_test_tensor, 1)\n",
    "\n",
    "class Net(torch.nn.Module):\n",
    "    def __init__(self,n_input,n_hidden,n_output):\n",
    "        super(Net,self).__init__()\n",
    "        self.hidden1 = torch.nn.Linear(n_input,n_hidden)\n",
    "        self.hidden2 = torch.nn.Linear(n_hidden,n_hidden)\n",
    "        self.output = torch.nn.Linear(n_hidden,n_output)\n",
    "\n",
    "    def forward(self, input):\n",
    "        out = self.hidden1(input)\n",
    "        out = torch.sigmoid(out)\n",
    "        out = self.hidden2(out)\n",
    "        out = torch.sigmoid(out)\n",
    "        out = self.output(out)\n",
    "        return out\n",
    "\n",
    "\n",
    "net = Net(fea_dim,200,2)\n",
    "print(net)\n",
    "optimizer = torch.optim.Adam(net.parameters(),lr=0.01)\n",
    "loss_func = torch.nn.CrossEntropyLoss()\n",
    "\n",
    "for t in range(2000):\n",
    "    out = net(x_train_tensor)\n",
    "    loss = loss_func(out,y_train_onehot)\n",
    "\n",
    "    optimizer.zero_grad()\n",
    "    loss.backward()\n",
    "    optimizer.step()\n",
    "    if t%10 == 0:\n",
    "        print('itr: %d, loss: %f'% (t,loss))\n",
    "        out_ = net(x_test_tensor)\n",
    "        y_ = torch.argmax(out_, -1)\n",
    "        acc = (y_==torch.from_numpy(y_test)).sum()/y_.shape[0]\n",
    "        precision, recall, f1, _ = precision_recall_fscore_support(y_test, y_, average='binary')\n",
    "        print('Testset: Precision: {:.3f}, recall: {:.3f}, F1-measure: {:.3f}, acc:{:.3f}\\n'.format(precision, recall, f1, acc))"
   ],
   "metadata": {
    "collapsed": false
   },
   "id": "cecbb55c892d5027"
  }
 ],
 "metadata": {
  "kernelspec": {
   "display_name": "Python 3",
   "language": "python",
   "name": "python3"
  },
  "language_info": {
   "codemirror_mode": {
    "name": "ipython",
    "version": 2
   },
   "file_extension": ".py",
   "mimetype": "text/x-python",
   "name": "python",
   "nbconvert_exporter": "python",
   "pygments_lexer": "ipython2",
   "version": "2.7.6"
  }
 },
 "nbformat": 4,
 "nbformat_minor": 5
}
