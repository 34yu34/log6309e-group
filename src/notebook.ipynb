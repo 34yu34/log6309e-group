{
 "cells": [
  {
   "cell_type": "code",
   "execution_count": 389,
   "outputs": [],
   "source": [
    "from src.splitdatabgl import split_bgl\n",
    "\n",
    "train_x, train_y, test_x, test_y = split_bgl()"
   ],
   "metadata": {
    "collapsed": false,
    "ExecuteTime": {
     "end_time": "2023-10-08T18:19:39.105916Z",
     "start_time": "2023-10-08T18:19:20.996871Z"
    }
   },
   "id": "b1ad1217eb72dd28"
  },
  {
   "cell_type": "code",
   "execution_count": 390,
   "outputs": [
    {
     "name": "stdout",
     "output_type": "stream",
     "text": [
      "====== Model summary ======\n",
      "====== Evaluation summary ======\n",
      "Precision: 0.986, recall: 0.883, F1-measure: 0.932\n"
     ]
    },
    {
     "data": {
      "text/plain": "(0.9855072463768116, 0.8831168831168831, 0.9315068493150684)"
     },
     "execution_count": 390,
     "metadata": {},
     "output_type": "execute_result"
    }
   ],
   "source": [
    "from src.models.traditional import DecisionTree\n",
    "\n",
    "decision_tree = DecisionTree()\n",
    "decision_tree.fit(train_x, train_y)\n",
    "decision_tree.evaluate(test_x, test_y)"
   ],
   "metadata": {
    "collapsed": false,
    "ExecuteTime": {
     "end_time": "2023-10-08T18:29:10.084509Z",
     "start_time": "2023-10-08T18:29:10.042923Z"
    }
   },
   "id": "9187d0ca05b236ad"
  },
  {
   "cell_type": "code",
   "execution_count": 391,
   "outputs": [
    {
     "name": "stdout",
     "output_type": "stream",
     "text": [
      "====== Model summary ======\n",
      "====== Evaluation summary ======\n",
      "Precision: 0.944, recall: 0.870, F1-measure: 0.905\n"
     ]
    },
    {
     "name": "stderr",
     "output_type": "stream",
     "text": [
      "/Users/nicolegros/Documents/school/devops/group-assignment/venv/lib/python3.9/site-packages/sklearn/linear_model/_logistic.py:460: ConvergenceWarning: lbfgs failed to converge (status=1):\n",
      "STOP: TOTAL NO. of f AND g EVALUATIONS EXCEEDS LIMIT.\n",
      "\n",
      "Increase the number of iterations (max_iter) or scale the data as shown in:\n",
      "    https://scikit-learn.org/stable/modules/preprocessing.html\n",
      "Please also refer to the documentation for alternative solver options:\n",
      "    https://scikit-learn.org/stable/modules/linear_model.html#logistic-regression\n",
      "  n_iter_i = _check_optimize_result(\n"
     ]
    },
    {
     "data": {
      "text/plain": "(0.9436619718309859, 0.8701298701298701, 0.9054054054054054)"
     },
     "execution_count": 391,
     "metadata": {},
     "output_type": "execute_result"
    }
   ],
   "source": [
    "from src.models.traditional import LR\n",
    "\n",
    "lr = LR(max_iter=100000)\n",
    "lr.fit(train_x, train_y)\n",
    "lr.evaluate(test_x, test_y)"
   ],
   "metadata": {
    "collapsed": false,
    "ExecuteTime": {
     "end_time": "2023-10-08T18:29:18.846077Z",
     "start_time": "2023-10-08T18:29:11.341932Z"
    }
   },
   "id": "38eb6ecad0a255ac"
  },
  {
   "cell_type": "code",
   "execution_count": 392,
   "outputs": [
    {
     "name": "stdout",
     "output_type": "stream",
     "text": [
      "Precision: 0.208, recall: 0.696, F1-measure: 0.320\n",
      "Precision: 0.208, recall: 0.696, F1-measure: 0.320\n",
      "Precision: 0.208, recall: 0.696, F1-measure: 0.320\n",
      "Precision: 0.208, recall: 0.696, F1-measure: 0.320\n",
      "Precision: 0.208, recall: 0.696, F1-measure: 0.320\n",
      "\n",
      "average:  0.2077922077922078 0.6956521739130435 0.32\n"
     ]
    }
   ],
   "source": [
    "from src.models.traditional import SVM\n",
    "\n",
    "svm = SVM(train_x, train_y, test_x, test_y)\n",
    "svm.evaluate()\n"
   ],
   "metadata": {
    "collapsed": false,
    "ExecuteTime": {
     "end_time": "2023-10-08T18:29:23.044009Z",
     "start_time": "2023-10-08T18:29:21.450328Z"
    }
   },
   "id": "27401106e26b412b"
  },
  {
   "cell_type": "code",
   "execution_count": 393,
   "outputs": [
    {
     "name": "stdout",
     "output_type": "stream",
     "text": [
      "# train sessions: 688 (49.13%)\n",
      "# test sessions: 172 (44.77%)\n"
     ]
    },
    {
     "ename": "AttributeError",
     "evalue": "'numpy.ndarray' object has no attribute 'items'",
     "output_type": "error",
     "traceback": [
      "\u001B[0;31m---------------------------------------------------------------------------\u001B[0m",
      "\u001B[0;31mAttributeError\u001B[0m                            Traceback (most recent call last)",
      "Cell \u001B[0;32mIn[393], line 103\u001B[0m\n\u001B[1;32m    100\u001B[0m     \u001B[38;5;28;01mreturn\u001B[39;00m x_train, x_test\n\u001B[1;32m    102\u001B[0m ttype \u001B[38;5;241m=\u001B[39m \u001B[38;5;124m'\u001B[39m\u001B[38;5;124mtemplate\u001B[39m\u001B[38;5;124m'\u001B[39m\n\u001B[0;32m--> 103\u001B[0m x_train, x_test \u001B[38;5;241m=\u001B[39m \u001B[43mText_TFIDF_Generator\u001B[49m\u001B[43m(\u001B[49m\u001B[43mx_train\u001B[49m\u001B[43m,\u001B[49m\u001B[43m \u001B[49m\u001B[43mx_test\u001B[49m\u001B[43m,\u001B[49m\u001B[43m \u001B[49m\u001B[43mttype\u001B[49m\u001B[43m)\u001B[49m\n\u001B[1;32m    105\u001B[0m save_path \u001B[38;5;241m=\u001B[39m os\u001B[38;5;241m.\u001B[39mpath\u001B[38;5;241m.\u001B[39mjoin(data_dir,\u001B[38;5;124m'\u001B[39m\u001B[38;5;124mTEXT_TFIDF_\u001B[39m\u001B[38;5;124m'\u001B[39m \u001B[38;5;241m+\u001B[39m ttype \u001B[38;5;241m+\u001B[39m \u001B[38;5;124m'\u001B[39m\u001B[38;5;124m_\u001B[39m\u001B[38;5;124m'\u001B[39m \u001B[38;5;241m+\u001B[39m log_name \u001B[38;5;241m+\u001B[39m \u001B[38;5;124m'\u001B[39m\u001B[38;5;124m.npz\u001B[39m\u001B[38;5;124m'\u001B[39m)\n\u001B[1;32m    107\u001B[0m np\u001B[38;5;241m.\u001B[39msavez(save_path, x_train\u001B[38;5;241m=\u001B[39mx_train, y_train\u001B[38;5;241m=\u001B[39my_train, x_test\u001B[38;5;241m=\u001B[39mx_test, y_test\u001B[38;5;241m=\u001B[39my_test)\n",
      "Cell \u001B[0;32mIn[393], line 58\u001B[0m, in \u001B[0;36mText_TFIDF_Generator\u001B[0;34m(x_train, x_test, texttype)\u001B[0m\n\u001B[1;32m     57\u001B[0m \u001B[38;5;28;01mdef\u001B[39;00m \u001B[38;5;21mText_TFIDF_Generator\u001B[39m(x_train, x_test, texttype):\n\u001B[0;32m---> 58\u001B[0m     corp \u001B[38;5;241m=\u001B[39m \u001B[43mgetCorpus\u001B[49m\u001B[43m(\u001B[49m\u001B[43mx_train\u001B[49m\u001B[43m,\u001B[49m\u001B[43m \u001B[49m\u001B[43mtexttype\u001B[49m\u001B[43m)\u001B[49m\n\u001B[1;32m     60\u001B[0m     vectorizer \u001B[38;5;241m=\u001B[39m TfidfVectorizer()\n\u001B[1;32m     61\u001B[0m     vectorizer\u001B[38;5;241m.\u001B[39mfit(corp)\n",
      "Cell \u001B[0;32mIn[393], line 30\u001B[0m, in \u001B[0;36mgetCorpus\u001B[0;34m(x_data, method)\u001B[0m\n\u001B[1;32m     27\u001B[0m     field \u001B[38;5;241m=\u001B[39m \u001B[38;5;124m\"\u001B[39m\u001B[38;5;124mEventTemplate\u001B[39m\u001B[38;5;124m\"\u001B[39m\n\u001B[1;32m     29\u001B[0m corpus \u001B[38;5;241m=\u001B[39m []\n\u001B[0;32m---> 30\u001B[0m \u001B[38;5;28;01mfor\u001B[39;00m key, evtList \u001B[38;5;129;01min\u001B[39;00m \u001B[43mx_data\u001B[49m\u001B[38;5;241;43m.\u001B[39;49m\u001B[43mitems\u001B[49m():\n\u001B[1;32m     31\u001B[0m     text \u001B[38;5;241m=\u001B[39m \u001B[38;5;124m\"\u001B[39m\u001B[38;5;124m\"\u001B[39m\n\u001B[1;32m     32\u001B[0m     \u001B[38;5;28;01mfor\u001B[39;00m evt \u001B[38;5;129;01min\u001B[39;00m evtList:\n",
      "\u001B[0;31mAttributeError\u001B[0m: 'numpy.ndarray' object has no attribute 'items'"
     ]
    }
   ],
   "source": [],
   "metadata": {
    "collapsed": false,
    "ExecuteTime": {
     "end_time": "2023-10-08T18:34:49.163754Z",
     "start_time": "2023-10-08T18:34:49.011022Z"
    }
   },
   "id": "cecbb55c892d5027"
  }
 ],
 "metadata": {
  "kernelspec": {
   "display_name": "Python 3",
   "language": "python",
   "name": "python3"
  },
  "language_info": {
   "codemirror_mode": {
    "name": "ipython",
    "version": 2
   },
   "file_extension": ".py",
   "mimetype": "text/x-python",
   "name": "python",
   "nbconvert_exporter": "python",
   "pygments_lexer": "ipython2",
   "version": "2.7.6"
  }
 },
 "nbformat": 4,
 "nbformat_minor": 5
}
