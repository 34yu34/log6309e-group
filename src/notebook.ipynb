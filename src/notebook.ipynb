{
 "cells": [
  {
   "cell_type": "code",
   "execution_count": 18,
   "outputs": [],
   "source": [
    "import pandas as pd\n",
    "input_file = '../data/BGL/BGL.log_structured.csv'\n",
    "df = pd.read_csv(input_file)\n",
    "df['Time'] = pd.to_datetime(df['Time'], format=\"%Y-%m-%d-%H.%M.%S.%f\")\n",
    "g = df.groupby(pd.Grouper(key='Time', freq='6H'))"
   ],
   "metadata": {
    "collapsed": false,
    "ExecuteTime": {
     "start_time": "2023-10-07T19:54:19.960353Z"
    }
   },
   "id": "initial_id"
  },
  {
   "cell_type": "code",
   "execution_count": 56,
   "outputs": [
    {
     "data": {
      "text/plain": "          LineId Label   Timestamp        Date                 Node  \\\n0              1     -  1117838570  2005.06.03  R02-M1-N0-C:J12-U11   \n1              2     -  1117838570  2005.06.03  R02-M1-N0-C:J12-U11   \n2              3     -  1117838570  2005.06.03  R02-M1-N0-C:J12-U11   \n3              4     -  1117838570  2005.06.03  R02-M1-N0-C:J12-U11   \n4              5     -  1117838570  2005.06.03  R02-M1-N0-C:J12-U11   \n...          ...   ...         ...         ...                  ...   \n4713432  4713433     -  1136388306  2006.01.04  R73-M1-NA-C:J07-U01   \n4713433  4713434     -  1136388306  2006.01.04  R73-M1-NA-C:J07-U01   \n4713434  4713435     -  1136388307  2006.01.04  R55-M0-N9-C:J06-U11   \n4713435  4713436     -  1136388307  2006.01.04  R55-M0-N9-C:J06-U11   \n4713436  4713437     -  1136388307  2006.01.04  R55-M0-N9-C:J06-U11   \n\n                               Time           NodeRepeat Type Component Level  \\\n0        2005-06-03-15.42.50.363779  R02-M1-N0-C:J12-U11  RAS    KERNEL  INFO   \n1        2005-06-03-15.42.50.527847  R02-M1-N0-C:J12-U11  RAS    KERNEL  INFO   \n2        2005-06-03-15.42.50.675872  R02-M1-N0-C:J12-U11  RAS    KERNEL  INFO   \n3        2005-06-03-15.42.50.823719  R02-M1-N0-C:J12-U11  RAS    KERNEL  INFO   \n4        2005-06-03-15.42.50.982731  R02-M1-N0-C:J12-U11  RAS    KERNEL  INFO   \n...                             ...                  ...  ...       ...   ...   \n4713432  2006-01-04-07.25.06.745917  R73-M1-NA-C:J07-U01  RAS    KERNEL  INFO   \n4713433  2006-01-04-07.25.06.948634  R73-M1-NA-C:J07-U01  RAS    KERNEL  INFO   \n4713434  2006-01-04-07.25.07.098615  R55-M0-N9-C:J06-U11  RAS    KERNEL  INFO   \n4713435  2006-01-04-07.25.07.238204  R55-M0-N9-C:J06-U11  RAS    KERNEL  INFO   \n4713436  2006-01-04-07.25.07.382827  R55-M0-N9-C:J06-U11  RAS    KERNEL  INFO   \n\n                                                   Content   EventId  \\\n0                 instruction cache parity error corrected  3aa50e45   \n1                 instruction cache parity error corrected  3aa50e45   \n2                 instruction cache parity error corrected  3aa50e45   \n3                 instruction cache parity error corrected  3aa50e45   \n4                 instruction cache parity error corrected  3aa50e45   \n...                                                    ...       ...   \n4713432  4 tree receiver 2 in re-synch state event(s) (...  f0c191b1   \n4713433  4 tree receiver 2 in re-synch state event(s) (...  f0c191b1   \n4713434  15 torus receiver x+ input pipe error(s) (dcr ...  7a03d1e9   \n4713435  3 torus receiver y+ input pipe error(s) (dcr 0...  7a03d1e9   \n4713436  2 torus receiver y- input pipe error(s) (dcr 0...  7a03d1e9   \n\n                                             EventTemplate  \\\n0                 instruction cache parity error corrected   \n1                 instruction cache parity error corrected   \n2                 instruction cache parity error corrected   \n3                 instruction cache parity error corrected   \n4                 instruction cache parity error corrected   \n...                                                    ...   \n4713432  <*> tree receiver <*> in re-synch state event(...   \n4713433  <*> tree receiver <*> in re-synch state event(...   \n4713434  <*> torus receiver <*> input pipe error(s) (dc...   \n4713435  <*> torus receiver <*> input pipe error(s) (dc...   \n4713436  <*> torus receiver <*> input pipe error(s) (dc...   \n\n                            ParameterList                       time  \n0                                      [] 2005-06-03 15:42:50.363779  \n1                                      [] 2005-06-03 15:42:50.527847  \n2                                      [] 2005-06-03 15:42:50.675872  \n3                                      [] 2005-06-03 15:42:50.823719  \n4                                      [] 2005-06-03 15:42:50.982731  \n...                                   ...                        ...  \n4713432    ['4', '2', '0x019a)', '56155'] 2006-01-04 07:25:06.745917  \n4713433    ['4', '2', '0x019a)', '56155'] 2006-01-04 07:25:06.948634  \n4713434  ['15', 'x+', '0x02ec)', '56154'] 2006-01-04 07:25:07.098615  \n4713435   ['3', 'y+', '0x02ee)', '56155'] 2006-01-04 07:25:07.238204  \n4713436   ['2', 'y-', '0x02ef)', '56155'] 2006-01-04 07:25:07.382827  \n\n[4035 rows x 15 columns]",
      "text/html": "<div>\n<style scoped>\n    .dataframe tbody tr th:only-of-type {\n        vertical-align: middle;\n    }\n\n    .dataframe tbody tr th {\n        vertical-align: top;\n    }\n\n    .dataframe thead th {\n        text-align: right;\n    }\n</style>\n<table border=\"1\" class=\"dataframe\">\n  <thead>\n    <tr style=\"text-align: right;\">\n      <th></th>\n      <th>LineId</th>\n      <th>Label</th>\n      <th>Timestamp</th>\n      <th>Date</th>\n      <th>Node</th>\n      <th>Time</th>\n      <th>NodeRepeat</th>\n      <th>Type</th>\n      <th>Component</th>\n      <th>Level</th>\n      <th>Content</th>\n      <th>EventId</th>\n      <th>EventTemplate</th>\n      <th>ParameterList</th>\n      <th>time</th>\n    </tr>\n  </thead>\n  <tbody>\n    <tr>\n      <th>0</th>\n      <td>1</td>\n      <td>-</td>\n      <td>1117838570</td>\n      <td>2005.06.03</td>\n      <td>R02-M1-N0-C:J12-U11</td>\n      <td>2005-06-03-15.42.50.363779</td>\n      <td>R02-M1-N0-C:J12-U11</td>\n      <td>RAS</td>\n      <td>KERNEL</td>\n      <td>INFO</td>\n      <td>instruction cache parity error corrected</td>\n      <td>3aa50e45</td>\n      <td>instruction cache parity error corrected</td>\n      <td>[]</td>\n      <td>2005-06-03 15:42:50.363779</td>\n    </tr>\n    <tr>\n      <th>1</th>\n      <td>2</td>\n      <td>-</td>\n      <td>1117838570</td>\n      <td>2005.06.03</td>\n      <td>R02-M1-N0-C:J12-U11</td>\n      <td>2005-06-03-15.42.50.527847</td>\n      <td>R02-M1-N0-C:J12-U11</td>\n      <td>RAS</td>\n      <td>KERNEL</td>\n      <td>INFO</td>\n      <td>instruction cache parity error corrected</td>\n      <td>3aa50e45</td>\n      <td>instruction cache parity error corrected</td>\n      <td>[]</td>\n      <td>2005-06-03 15:42:50.527847</td>\n    </tr>\n    <tr>\n      <th>2</th>\n      <td>3</td>\n      <td>-</td>\n      <td>1117838570</td>\n      <td>2005.06.03</td>\n      <td>R02-M1-N0-C:J12-U11</td>\n      <td>2005-06-03-15.42.50.675872</td>\n      <td>R02-M1-N0-C:J12-U11</td>\n      <td>RAS</td>\n      <td>KERNEL</td>\n      <td>INFO</td>\n      <td>instruction cache parity error corrected</td>\n      <td>3aa50e45</td>\n      <td>instruction cache parity error corrected</td>\n      <td>[]</td>\n      <td>2005-06-03 15:42:50.675872</td>\n    </tr>\n    <tr>\n      <th>3</th>\n      <td>4</td>\n      <td>-</td>\n      <td>1117838570</td>\n      <td>2005.06.03</td>\n      <td>R02-M1-N0-C:J12-U11</td>\n      <td>2005-06-03-15.42.50.823719</td>\n      <td>R02-M1-N0-C:J12-U11</td>\n      <td>RAS</td>\n      <td>KERNEL</td>\n      <td>INFO</td>\n      <td>instruction cache parity error corrected</td>\n      <td>3aa50e45</td>\n      <td>instruction cache parity error corrected</td>\n      <td>[]</td>\n      <td>2005-06-03 15:42:50.823719</td>\n    </tr>\n    <tr>\n      <th>4</th>\n      <td>5</td>\n      <td>-</td>\n      <td>1117838570</td>\n      <td>2005.06.03</td>\n      <td>R02-M1-N0-C:J12-U11</td>\n      <td>2005-06-03-15.42.50.982731</td>\n      <td>R02-M1-N0-C:J12-U11</td>\n      <td>RAS</td>\n      <td>KERNEL</td>\n      <td>INFO</td>\n      <td>instruction cache parity error corrected</td>\n      <td>3aa50e45</td>\n      <td>instruction cache parity error corrected</td>\n      <td>[]</td>\n      <td>2005-06-03 15:42:50.982731</td>\n    </tr>\n    <tr>\n      <th>...</th>\n      <td>...</td>\n      <td>...</td>\n      <td>...</td>\n      <td>...</td>\n      <td>...</td>\n      <td>...</td>\n      <td>...</td>\n      <td>...</td>\n      <td>...</td>\n      <td>...</td>\n      <td>...</td>\n      <td>...</td>\n      <td>...</td>\n      <td>...</td>\n      <td>...</td>\n    </tr>\n    <tr>\n      <th>4713432</th>\n      <td>4713433</td>\n      <td>-</td>\n      <td>1136388306</td>\n      <td>2006.01.04</td>\n      <td>R73-M1-NA-C:J07-U01</td>\n      <td>2006-01-04-07.25.06.745917</td>\n      <td>R73-M1-NA-C:J07-U01</td>\n      <td>RAS</td>\n      <td>KERNEL</td>\n      <td>INFO</td>\n      <td>4 tree receiver 2 in re-synch state event(s) (...</td>\n      <td>f0c191b1</td>\n      <td>&lt;*&gt; tree receiver &lt;*&gt; in re-synch state event(...</td>\n      <td>['4', '2', '0x019a)', '56155']</td>\n      <td>2006-01-04 07:25:06.745917</td>\n    </tr>\n    <tr>\n      <th>4713433</th>\n      <td>4713434</td>\n      <td>-</td>\n      <td>1136388306</td>\n      <td>2006.01.04</td>\n      <td>R73-M1-NA-C:J07-U01</td>\n      <td>2006-01-04-07.25.06.948634</td>\n      <td>R73-M1-NA-C:J07-U01</td>\n      <td>RAS</td>\n      <td>KERNEL</td>\n      <td>INFO</td>\n      <td>4 tree receiver 2 in re-synch state event(s) (...</td>\n      <td>f0c191b1</td>\n      <td>&lt;*&gt; tree receiver &lt;*&gt; in re-synch state event(...</td>\n      <td>['4', '2', '0x019a)', '56155']</td>\n      <td>2006-01-04 07:25:06.948634</td>\n    </tr>\n    <tr>\n      <th>4713434</th>\n      <td>4713435</td>\n      <td>-</td>\n      <td>1136388307</td>\n      <td>2006.01.04</td>\n      <td>R55-M0-N9-C:J06-U11</td>\n      <td>2006-01-04-07.25.07.098615</td>\n      <td>R55-M0-N9-C:J06-U11</td>\n      <td>RAS</td>\n      <td>KERNEL</td>\n      <td>INFO</td>\n      <td>15 torus receiver x+ input pipe error(s) (dcr ...</td>\n      <td>7a03d1e9</td>\n      <td>&lt;*&gt; torus receiver &lt;*&gt; input pipe error(s) (dc...</td>\n      <td>['15', 'x+', '0x02ec)', '56154']</td>\n      <td>2006-01-04 07:25:07.098615</td>\n    </tr>\n    <tr>\n      <th>4713435</th>\n      <td>4713436</td>\n      <td>-</td>\n      <td>1136388307</td>\n      <td>2006.01.04</td>\n      <td>R55-M0-N9-C:J06-U11</td>\n      <td>2006-01-04-07.25.07.238204</td>\n      <td>R55-M0-N9-C:J06-U11</td>\n      <td>RAS</td>\n      <td>KERNEL</td>\n      <td>INFO</td>\n      <td>3 torus receiver y+ input pipe error(s) (dcr 0...</td>\n      <td>7a03d1e9</td>\n      <td>&lt;*&gt; torus receiver &lt;*&gt; input pipe error(s) (dc...</td>\n      <td>['3', 'y+', '0x02ee)', '56155']</td>\n      <td>2006-01-04 07:25:07.238204</td>\n    </tr>\n    <tr>\n      <th>4713436</th>\n      <td>4713437</td>\n      <td>-</td>\n      <td>1136388307</td>\n      <td>2006.01.04</td>\n      <td>R55-M0-N9-C:J06-U11</td>\n      <td>2006-01-04-07.25.07.382827</td>\n      <td>R55-M0-N9-C:J06-U11</td>\n      <td>RAS</td>\n      <td>KERNEL</td>\n      <td>INFO</td>\n      <td>2 torus receiver y- input pipe error(s) (dcr 0...</td>\n      <td>7a03d1e9</td>\n      <td>&lt;*&gt; torus receiver &lt;*&gt; input pipe error(s) (dc...</td>\n      <td>['2', 'y-', '0x02ef)', '56155']</td>\n      <td>2006-01-04 07:25:07.382827</td>\n    </tr>\n  </tbody>\n</table>\n<p>4035 rows × 15 columns</p>\n</div>"
     },
     "execution_count": 56,
     "metadata": {},
     "output_type": "execute_result"
    }
   ],
   "source": [
    "\n",
    "g.head()\n"
   ],
   "metadata": {
    "collapsed": false,
    "ExecuteTime": {
     "start_time": "2023-10-07T20:40:28.875353Z"
    }
   },
   "id": "3289959ebf3a344e"
  },
  {
   "cell_type": "code",
   "execution_count": null,
   "outputs": [],
   "source": [
    "from sklearn.model_selection import train_test_split\n",
    "\n",
    "train, test = train_test_split(g.mean(), test_size=0.2)\n"
   ],
   "metadata": {
    "collapsed": false
   },
   "id": "caf23759abfd3506"
  }
 ],
 "metadata": {
  "kernelspec": {
   "display_name": "Python 3",
   "language": "python",
   "name": "python3"
  },
  "language_info": {
   "codemirror_mode": {
    "name": "ipython",
    "version": 2
   },
   "file_extension": ".py",
   "mimetype": "text/x-python",
   "name": "python",
   "nbconvert_exporter": "python",
   "pygments_lexer": "ipython2",
   "version": "2.7.6"
  }
 },
 "nbformat": 4,
 "nbformat_minor": 5
}
