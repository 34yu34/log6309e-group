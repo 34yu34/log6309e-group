{
 "cells": [
  {
   "cell_type": "code",
   "execution_count": 27,
   "outputs": [],
   "source": [
    "import pandas as pd\n",
    "input_file = '../data/BGL/BGL.log_structured.csv'\n",
    "df = pd.read_csv(input_file)\n",
    "\n",
    "df['Time'] = pd.to_datetime(df['Time'], format=\"%Y-%m-%d-%H.%M.%S.%f\")\n",
    "def create_frame_for_lala(df):\n",
    "        df.loc[:, 'count'] = df.shape[0]\n",
    "        return df.loc[:, ['Time', 'EventId', 'count']]\n",
    "g = df.groupby([pd.Grouper(key='Time', freq='6H'), 'EventId']).apply(lambda x: x.shape[0])\n",
    "\n"
   ],
   "metadata": {
    "collapsed": false,
    "ExecuteTime": {
     "end_time": "2023-10-08T14:21:15.364121Z",
     "start_time": "2023-10-08T14:20:58.869362Z"
    }
   },
   "id": "initial_id"
  },
  {
   "cell_type": "code",
   "execution_count": 30,
   "outputs": [],
   "source": [
    "g = g.reset_index()"
   ],
   "metadata": {
    "collapsed": false,
    "ExecuteTime": {
     "end_time": "2023-10-08T14:22:23.733436Z",
     "start_time": "2023-10-08T14:22:23.728853Z"
    }
   },
   "id": "ea4c7df28033e702"
  },
  {
   "cell_type": "code",
   "execution_count": 34,
   "outputs": [
    {
     "data": {
      "text/plain": "                     Time   EventId     0\n0     2005-06-03 12:00:00  070de4aa  4286\n1     2005-06-03 12:00:00  147cfcff    19\n2     2005-06-03 12:00:00  3aa50e45  4863\n3     2005-06-03 12:00:00  4cecb415     5\n4     2005-06-03 12:00:00  5569cffc    10\n...                   ...       ...   ...\n17516 2006-01-04 06:00:00  7a03d1e9    10\n17517 2006-01-04 06:00:00  8df7ac9e     5\n17518 2006-01-04 06:00:00  996c9c62     1\n17519 2006-01-04 06:00:00  d7623fbd     8\n17520 2006-01-04 06:00:00  f0c191b1    17\n\n[17521 rows x 3 columns]",
      "text/html": "<div>\n<style scoped>\n    .dataframe tbody tr th:only-of-type {\n        vertical-align: middle;\n    }\n\n    .dataframe tbody tr th {\n        vertical-align: top;\n    }\n\n    .dataframe thead th {\n        text-align: right;\n    }\n</style>\n<table border=\"1\" class=\"dataframe\">\n  <thead>\n    <tr style=\"text-align: right;\">\n      <th></th>\n      <th>Time</th>\n      <th>EventId</th>\n      <th>0</th>\n    </tr>\n  </thead>\n  <tbody>\n    <tr>\n      <th>0</th>\n      <td>2005-06-03 12:00:00</td>\n      <td>070de4aa</td>\n      <td>4286</td>\n    </tr>\n    <tr>\n      <th>1</th>\n      <td>2005-06-03 12:00:00</td>\n      <td>147cfcff</td>\n      <td>19</td>\n    </tr>\n    <tr>\n      <th>2</th>\n      <td>2005-06-03 12:00:00</td>\n      <td>3aa50e45</td>\n      <td>4863</td>\n    </tr>\n    <tr>\n      <th>3</th>\n      <td>2005-06-03 12:00:00</td>\n      <td>4cecb415</td>\n      <td>5</td>\n    </tr>\n    <tr>\n      <th>4</th>\n      <td>2005-06-03 12:00:00</td>\n      <td>5569cffc</td>\n      <td>10</td>\n    </tr>\n    <tr>\n      <th>...</th>\n      <td>...</td>\n      <td>...</td>\n      <td>...</td>\n    </tr>\n    <tr>\n      <th>17516</th>\n      <td>2006-01-04 06:00:00</td>\n      <td>7a03d1e9</td>\n      <td>10</td>\n    </tr>\n    <tr>\n      <th>17517</th>\n      <td>2006-01-04 06:00:00</td>\n      <td>8df7ac9e</td>\n      <td>5</td>\n    </tr>\n    <tr>\n      <th>17518</th>\n      <td>2006-01-04 06:00:00</td>\n      <td>996c9c62</td>\n      <td>1</td>\n    </tr>\n    <tr>\n      <th>17519</th>\n      <td>2006-01-04 06:00:00</td>\n      <td>d7623fbd</td>\n      <td>8</td>\n    </tr>\n    <tr>\n      <th>17520</th>\n      <td>2006-01-04 06:00:00</td>\n      <td>f0c191b1</td>\n      <td>17</td>\n    </tr>\n  </tbody>\n</table>\n<p>17521 rows × 3 columns</p>\n</div>"
     },
     "execution_count": 34,
     "metadata": {},
     "output_type": "execute_result"
    }
   ],
   "source": [
    "g"
   ],
   "metadata": {
    "collapsed": false,
    "ExecuteTime": {
     "end_time": "2023-10-08T14:23:52.229614Z",
     "start_time": "2023-10-08T14:23:52.219443Z"
    }
   },
   "id": "a47caeee75b99557"
  },
  {
   "cell_type": "code",
   "execution_count": 39,
   "outputs": [
    {
     "data": {
      "text/plain": "                           0                                               \\\nEventId             0045c3a8 01c4e373 02430fd4 0256fb0b 0315e48d 0328c31b   \nTime                                                                        \n2005-06-03 12:00:00      0.0      0.0      0.0      0.0      0.0      0.0   \n2005-06-03 18:00:00      0.0      0.0      0.0      0.0      0.0      0.0   \n2005-06-04 00:00:00      0.0      0.0      0.0      0.0      0.0      0.0   \n2005-06-04 06:00:00      0.0      0.0      0.0      0.0      0.0      0.0   \n2005-06-04 12:00:00      0.0      0.0      0.0      0.0      0.0      0.0   \n...                      ...      ...      ...      ...      ...      ...   \n2006-01-03 06:00:00      0.0      0.0      0.0      0.0      0.0      0.0   \n2006-01-03 12:00:00      0.0      0.0      0.0      0.0      0.0      0.0   \n2006-01-03 18:00:00      0.0      0.0      0.0      0.0      0.0      0.0   \n2006-01-04 00:00:00      0.0      0.0      0.0      0.0      0.0      0.0   \n2006-01-04 06:00:00      0.0      0.0      0.0      0.0      0.0      0.0   \n\n                                                         ...           \\\nEventId             045f554d 04639923 04f5a2ae 0509d32d  ... f7c382bd   \nTime                                                     ...            \n2005-06-03 12:00:00      0.0      0.0      0.0      0.0  ...      0.0   \n2005-06-03 18:00:00      0.0      0.0      0.0      0.0  ...      0.0   \n2005-06-04 00:00:00      0.0      0.0      0.0      0.0  ...      0.0   \n2005-06-04 06:00:00      0.0      0.0      0.0      0.0  ...      0.0   \n2005-06-04 12:00:00      0.0      0.0      0.0      0.0  ...      0.0   \n...                      ...      ...      ...      ...  ...      ...   \n2006-01-03 06:00:00      0.0      0.0      0.0      0.0  ...      0.0   \n2006-01-03 12:00:00      0.0      0.0      0.0      0.0  ...      0.0   \n2006-01-03 18:00:00      0.0      0.0      0.0      0.0  ...      0.0   \n2006-01-04 00:00:00      0.0      0.0      0.0      0.0  ...      0.0   \n2006-01-04 06:00:00      0.0      0.0      0.0      0.0  ...      0.0   \n\n                                                                           \\\nEventId             f80a5ed5 f97e57f1 f9df8a24 fac52822 fb1560b4 fb225cd2   \nTime                                                                        \n2005-06-03 12:00:00      0.0      0.0      0.0      0.0      0.0      0.0   \n2005-06-03 18:00:00      0.0      0.0      0.0      0.0      0.0      0.0   \n2005-06-04 00:00:00      0.0      0.0      0.0      0.0      0.0      0.0   \n2005-06-04 06:00:00      0.0      0.0      0.0      0.0      0.0      0.0   \n2005-06-04 12:00:00      0.0      0.0      0.0      0.0      0.0      0.0   \n...                      ...      ...      ...      ...      ...      ...   \n2006-01-03 06:00:00      0.0      0.0      3.0      0.0      0.0      0.0   \n2006-01-03 12:00:00      0.0      0.0      1.0      0.0      0.0      0.0   \n2006-01-03 18:00:00      0.0      0.0      0.0      0.0      0.0      0.0   \n2006-01-04 00:00:00      0.0      0.0      0.0      0.0      0.0      0.0   \n2006-01-04 06:00:00      0.0      0.0      0.0      0.0      0.0      0.0   \n\n                                                \nEventId             fe297487 feaae979 ff52c40c  \nTime                                            \n2005-06-03 12:00:00      0.0      0.0      0.0  \n2005-06-03 18:00:00      0.0      0.0      0.0  \n2005-06-04 00:00:00      0.0      0.0      0.0  \n2005-06-04 06:00:00      0.0      0.0      0.0  \n2005-06-04 12:00:00      0.0      0.0      0.0  \n...                      ...      ...      ...  \n2006-01-03 06:00:00      0.0      0.0      0.0  \n2006-01-03 12:00:00      0.0      0.0      0.0  \n2006-01-03 18:00:00      0.0      0.0      0.0  \n2006-01-04 00:00:00      0.0      0.0      0.0  \n2006-01-04 06:00:00      0.0      0.0      0.0  \n\n[820 rows x 387 columns]",
      "text/html": "<div>\n<style scoped>\n    .dataframe tbody tr th:only-of-type {\n        vertical-align: middle;\n    }\n\n    .dataframe tbody tr th {\n        vertical-align: top;\n    }\n\n    .dataframe thead tr th {\n        text-align: left;\n    }\n\n    .dataframe thead tr:last-of-type th {\n        text-align: right;\n    }\n</style>\n<table border=\"1\" class=\"dataframe\">\n  <thead>\n    <tr>\n      <th></th>\n      <th colspan=\"21\" halign=\"left\">0</th>\n    </tr>\n    <tr>\n      <th>EventId</th>\n      <th>0045c3a8</th>\n      <th>01c4e373</th>\n      <th>02430fd4</th>\n      <th>0256fb0b</th>\n      <th>0315e48d</th>\n      <th>0328c31b</th>\n      <th>045f554d</th>\n      <th>04639923</th>\n      <th>04f5a2ae</th>\n      <th>0509d32d</th>\n      <th>...</th>\n      <th>f7c382bd</th>\n      <th>f80a5ed5</th>\n      <th>f97e57f1</th>\n      <th>f9df8a24</th>\n      <th>fac52822</th>\n      <th>fb1560b4</th>\n      <th>fb225cd2</th>\n      <th>fe297487</th>\n      <th>feaae979</th>\n      <th>ff52c40c</th>\n    </tr>\n    <tr>\n      <th>Time</th>\n      <th></th>\n      <th></th>\n      <th></th>\n      <th></th>\n      <th></th>\n      <th></th>\n      <th></th>\n      <th></th>\n      <th></th>\n      <th></th>\n      <th></th>\n      <th></th>\n      <th></th>\n      <th></th>\n      <th></th>\n      <th></th>\n      <th></th>\n      <th></th>\n      <th></th>\n      <th></th>\n      <th></th>\n    </tr>\n  </thead>\n  <tbody>\n    <tr>\n      <th>2005-06-03 12:00:00</th>\n      <td>0.0</td>\n      <td>0.0</td>\n      <td>0.0</td>\n      <td>0.0</td>\n      <td>0.0</td>\n      <td>0.0</td>\n      <td>0.0</td>\n      <td>0.0</td>\n      <td>0.0</td>\n      <td>0.0</td>\n      <td>...</td>\n      <td>0.0</td>\n      <td>0.0</td>\n      <td>0.0</td>\n      <td>0.0</td>\n      <td>0.0</td>\n      <td>0.0</td>\n      <td>0.0</td>\n      <td>0.0</td>\n      <td>0.0</td>\n      <td>0.0</td>\n    </tr>\n    <tr>\n      <th>2005-06-03 18:00:00</th>\n      <td>0.0</td>\n      <td>0.0</td>\n      <td>0.0</td>\n      <td>0.0</td>\n      <td>0.0</td>\n      <td>0.0</td>\n      <td>0.0</td>\n      <td>0.0</td>\n      <td>0.0</td>\n      <td>0.0</td>\n      <td>...</td>\n      <td>0.0</td>\n      <td>0.0</td>\n      <td>0.0</td>\n      <td>0.0</td>\n      <td>0.0</td>\n      <td>0.0</td>\n      <td>0.0</td>\n      <td>0.0</td>\n      <td>0.0</td>\n      <td>0.0</td>\n    </tr>\n    <tr>\n      <th>2005-06-04 00:00:00</th>\n      <td>0.0</td>\n      <td>0.0</td>\n      <td>0.0</td>\n      <td>0.0</td>\n      <td>0.0</td>\n      <td>0.0</td>\n      <td>0.0</td>\n      <td>0.0</td>\n      <td>0.0</td>\n      <td>0.0</td>\n      <td>...</td>\n      <td>0.0</td>\n      <td>0.0</td>\n      <td>0.0</td>\n      <td>0.0</td>\n      <td>0.0</td>\n      <td>0.0</td>\n      <td>0.0</td>\n      <td>0.0</td>\n      <td>0.0</td>\n      <td>0.0</td>\n    </tr>\n    <tr>\n      <th>2005-06-04 06:00:00</th>\n      <td>0.0</td>\n      <td>0.0</td>\n      <td>0.0</td>\n      <td>0.0</td>\n      <td>0.0</td>\n      <td>0.0</td>\n      <td>0.0</td>\n      <td>0.0</td>\n      <td>0.0</td>\n      <td>0.0</td>\n      <td>...</td>\n      <td>0.0</td>\n      <td>0.0</td>\n      <td>0.0</td>\n      <td>0.0</td>\n      <td>0.0</td>\n      <td>0.0</td>\n      <td>0.0</td>\n      <td>0.0</td>\n      <td>0.0</td>\n      <td>0.0</td>\n    </tr>\n    <tr>\n      <th>2005-06-04 12:00:00</th>\n      <td>0.0</td>\n      <td>0.0</td>\n      <td>0.0</td>\n      <td>0.0</td>\n      <td>0.0</td>\n      <td>0.0</td>\n      <td>0.0</td>\n      <td>0.0</td>\n      <td>0.0</td>\n      <td>0.0</td>\n      <td>...</td>\n      <td>0.0</td>\n      <td>0.0</td>\n      <td>0.0</td>\n      <td>0.0</td>\n      <td>0.0</td>\n      <td>0.0</td>\n      <td>0.0</td>\n      <td>0.0</td>\n      <td>0.0</td>\n      <td>0.0</td>\n    </tr>\n    <tr>\n      <th>...</th>\n      <td>...</td>\n      <td>...</td>\n      <td>...</td>\n      <td>...</td>\n      <td>...</td>\n      <td>...</td>\n      <td>...</td>\n      <td>...</td>\n      <td>...</td>\n      <td>...</td>\n      <td>...</td>\n      <td>...</td>\n      <td>...</td>\n      <td>...</td>\n      <td>...</td>\n      <td>...</td>\n      <td>...</td>\n      <td>...</td>\n      <td>...</td>\n      <td>...</td>\n      <td>...</td>\n    </tr>\n    <tr>\n      <th>2006-01-03 06:00:00</th>\n      <td>0.0</td>\n      <td>0.0</td>\n      <td>0.0</td>\n      <td>0.0</td>\n      <td>0.0</td>\n      <td>0.0</td>\n      <td>0.0</td>\n      <td>0.0</td>\n      <td>0.0</td>\n      <td>0.0</td>\n      <td>...</td>\n      <td>0.0</td>\n      <td>0.0</td>\n      <td>0.0</td>\n      <td>3.0</td>\n      <td>0.0</td>\n      <td>0.0</td>\n      <td>0.0</td>\n      <td>0.0</td>\n      <td>0.0</td>\n      <td>0.0</td>\n    </tr>\n    <tr>\n      <th>2006-01-03 12:00:00</th>\n      <td>0.0</td>\n      <td>0.0</td>\n      <td>0.0</td>\n      <td>0.0</td>\n      <td>0.0</td>\n      <td>0.0</td>\n      <td>0.0</td>\n      <td>0.0</td>\n      <td>0.0</td>\n      <td>0.0</td>\n      <td>...</td>\n      <td>0.0</td>\n      <td>0.0</td>\n      <td>0.0</td>\n      <td>1.0</td>\n      <td>0.0</td>\n      <td>0.0</td>\n      <td>0.0</td>\n      <td>0.0</td>\n      <td>0.0</td>\n      <td>0.0</td>\n    </tr>\n    <tr>\n      <th>2006-01-03 18:00:00</th>\n      <td>0.0</td>\n      <td>0.0</td>\n      <td>0.0</td>\n      <td>0.0</td>\n      <td>0.0</td>\n      <td>0.0</td>\n      <td>0.0</td>\n      <td>0.0</td>\n      <td>0.0</td>\n      <td>0.0</td>\n      <td>...</td>\n      <td>0.0</td>\n      <td>0.0</td>\n      <td>0.0</td>\n      <td>0.0</td>\n      <td>0.0</td>\n      <td>0.0</td>\n      <td>0.0</td>\n      <td>0.0</td>\n      <td>0.0</td>\n      <td>0.0</td>\n    </tr>\n    <tr>\n      <th>2006-01-04 00:00:00</th>\n      <td>0.0</td>\n      <td>0.0</td>\n      <td>0.0</td>\n      <td>0.0</td>\n      <td>0.0</td>\n      <td>0.0</td>\n      <td>0.0</td>\n      <td>0.0</td>\n      <td>0.0</td>\n      <td>0.0</td>\n      <td>...</td>\n      <td>0.0</td>\n      <td>0.0</td>\n      <td>0.0</td>\n      <td>0.0</td>\n      <td>0.0</td>\n      <td>0.0</td>\n      <td>0.0</td>\n      <td>0.0</td>\n      <td>0.0</td>\n      <td>0.0</td>\n    </tr>\n    <tr>\n      <th>2006-01-04 06:00:00</th>\n      <td>0.0</td>\n      <td>0.0</td>\n      <td>0.0</td>\n      <td>0.0</td>\n      <td>0.0</td>\n      <td>0.0</td>\n      <td>0.0</td>\n      <td>0.0</td>\n      <td>0.0</td>\n      <td>0.0</td>\n      <td>...</td>\n      <td>0.0</td>\n      <td>0.0</td>\n      <td>0.0</td>\n      <td>0.0</td>\n      <td>0.0</td>\n      <td>0.0</td>\n      <td>0.0</td>\n      <td>0.0</td>\n      <td>0.0</td>\n      <td>0.0</td>\n    </tr>\n  </tbody>\n</table>\n<p>820 rows × 387 columns</p>\n</div>"
     },
     "execution_count": 39,
     "metadata": {},
     "output_type": "execute_result"
    }
   ],
   "source": [
    "g.pivot(index=\"Time\",\n",
    "        columns=\"EventId\").fillna(0)"
   ],
   "metadata": {
    "collapsed": false,
    "ExecuteTime": {
     "end_time": "2023-10-08T14:26:33.649614Z",
     "start_time": "2023-10-08T14:26:33.625444Z"
    }
   },
   "id": "3289959ebf3a344e"
  },
  {
   "cell_type": "code",
   "execution_count": 71,
   "outputs": [],
   "source": [
    "from sklearn.model_selection import train_test_split\n",
    "\n",
    "train, test = train_test_split(g.size(), test_size=0.2)\n"
   ],
   "metadata": {
    "collapsed": false,
    "ExecuteTime": {
     "end_time": "2023-10-07T21:10:42.841274Z",
     "start_time": "2023-10-07T21:10:42.771582Z"
    }
   },
   "id": "caf23759abfd3506"
  }
 ],
 "metadata": {
  "kernelspec": {
   "display_name": "Python 3",
   "language": "python",
   "name": "python3"
  },
  "language_info": {
   "codemirror_mode": {
    "name": "ipython",
    "version": 2
   },
   "file_extension": ".py",
   "mimetype": "text/x-python",
   "name": "python",
   "nbconvert_exporter": "python",
   "pygments_lexer": "ipython2",
   "version": "2.7.6"
  }
 },
 "nbformat": 4,
 "nbformat_minor": 5
}
