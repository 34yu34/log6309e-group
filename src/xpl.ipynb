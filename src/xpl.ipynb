{
 "cells": [
  {
   "cell_type": "code",
   "execution_count": 1,
   "metadata": {},
   "outputs": [
    {
     "ename": "ModuleNotFoundError",
     "evalue": "No module named 'shapash'",
     "output_type": "error",
     "traceback": [
      "\u001b[1;31m---------------------------------------------------------------------------\u001b[0m",
      "\u001b[1;31mModuleNotFoundError\u001b[0m                       Traceback (most recent call last)",
      "\u001b[1;32mg:\\Mon Drive\\Code\\GroupProjectDevops\\log6309e-group\\src\\xpl.ipynb Cell 1\u001b[0m line \u001b[0;36m1\n\u001b[1;32m----> <a href='vscode-notebook-cell:/g%3A/Mon%20Drive/Code/GroupProjectDevops/log6309e-group/src/xpl.ipynb#W0sZmlsZQ%3D%3D?line=0'>1</a>\u001b[0m \u001b[39mimport\u001b[39;00m \u001b[39mshapash\u001b[39;00m\n\u001b[0;32m      <a href='vscode-notebook-cell:/g%3A/Mon%20Drive/Code/GroupProjectDevops/log6309e-group/src/xpl.ipynb#W0sZmlsZQ%3D%3D?line=1'>2</a>\u001b[0m \u001b[39mfrom\u001b[39;00m \u001b[39mshapash\u001b[39;00m \u001b[39mimport\u001b[39;00m SmartExplainer\n\u001b[0;32m      <a href='vscode-notebook-cell:/g%3A/Mon%20Drive/Code/GroupProjectDevops/log6309e-group/src/xpl.ipynb#W0sZmlsZQ%3D%3D?line=3'>4</a>\u001b[0m \u001b[39m# Load SmartExplainer object from file\u001b[39;00m\n",
      "\u001b[1;31mModuleNotFoundError\u001b[0m: No module named 'shapash'"
     ]
    }
   ],
   "source": [
    "import shapash\n",
    "from shapash import SmartExplainer\n",
    "\n",
    "# Load SmartExplainer object from file\n",
    "xpl = SmartExplainer.load(\"./xpl.pkl\")\n"
   ]
  }
 ],
 "metadata": {
  "kernelspec": {
   "display_name": "logpai",
   "language": "python",
   "name": "python3"
  },
  "language_info": {
   "codemirror_mode": {
    "name": "ipython",
    "version": 3
   },
   "file_extension": ".py",
   "mimetype": "text/x-python",
   "name": "python",
   "nbconvert_exporter": "python",
   "pygments_lexer": "ipython3",
   "version": "3.10.13"
  }
 },
 "nbformat": 4,
 "nbformat_minor": 2
}
