{
 "cells": [
  {
   "cell_type": "code",
   "execution_count": null,
   "id": "initial_id",
   "metadata": {
    "collapsed": true
   },
   "outputs": [],
   "source": [
    "import pandas as pd\n",
    "\n",
    "input_file = '../data/BGL/BGL.log_structured.csv'\n",
    "df = pd.read_csv(input_file)\n",
    "\n"
   ]
  },
  {
   "cell_type": "code",
   "execution_count": null,
   "outputs": [],
   "source": [
    "from sklearn.model_selection import train_test_split\n",
    "\n",
    "train, test = train_test_split(event_count_vector, test_size=0.2)\n"
   ],
   "metadata": {
    "collapsed": false
   },
   "id": "6a1532e307f70e80"
  },
  {
   "cell_type": "code",
   "execution_count": null,
   "outputs": [],
   "source": [
    "np.savez('../data/BGL/BGL.log.agg.npz',\n",
    "         x_train=train_x,\n",
    "         y_train=train_y,\n",
    "         x_test=test_x,\n",
    "         y_test=test_y)"
   ],
   "metadata": {
    "collapsed": false
   },
   "id": "8fd56e5c73df23d4"
  }
 ],
 "metadata": {
  "kernelspec": {
   "display_name": "Python 3",
   "language": "python",
   "name": "python3"
  },
  "language_info": {
   "codemirror_mode": {
    "name": "ipython",
    "version": 2
   },
   "file_extension": ".py",
   "mimetype": "text/x-python",
   "name": "python",
   "nbconvert_exporter": "python",
   "pygments_lexer": "ipython2",
   "version": "2.7.6"
  }
 },
 "nbformat": 4,
 "nbformat_minor": 5
}
