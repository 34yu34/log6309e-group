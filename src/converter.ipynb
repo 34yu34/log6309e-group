{
 "cells": [
  {
   "cell_type": "code",
   "execution_count": 9,
   "id": "initial_id",
   "metadata": {
    "collapsed": true,
    "ExecuteTime": {
     "end_time": "2023-10-08T21:12:24.132834Z",
     "start_time": "2023-10-08T21:11:44.388942Z"
    }
   },
   "outputs": [
    {
     "name": "stderr",
     "output_type": "stream",
     "text": [
      "4713494it [00:21, 217942.91it/s]\n"
     ]
    }
   ],
   "source": [
    "from src.logrep.converter import convert_to_pyz\n",
    "\n",
    "convert_to_pyz('../data/BGL/BGL.log_structured.csv', '../data/BGL/BGL.log.structured2')"
   ]
  },
  {
   "cell_type": "code",
   "execution_count": 10,
   "outputs": [
    {
     "name": "stdout",
     "output_type": "stream",
     "text": [
      "# train sessions: 209 (84.21%)\n",
      "# test sessions: 53 (86.79%)\n",
      "Training set - Current:  0\n",
      "Test set - Current:  0\n",
      "Saving to ../data/BGL/text-tfidf-template-BGL.log.structured2.npz\n"
     ]
    }
   ],
   "source": [
    "from src.logrep.ttidfgenerator import generate\n",
    "\n",
    "generate('../data/BGL', 'BGL.log.structured2')"
   ],
   "metadata": {
    "collapsed": false,
    "ExecuteTime": {
     "end_time": "2023-10-08T21:13:25.027313Z",
     "start_time": "2023-10-08T21:12:46.774613Z"
    }
   },
   "id": "df6a160589a37965"
  },
  {
   "cell_type": "code",
   "execution_count": 1,
   "outputs": [
    {
     "name": "stdout",
     "output_type": "stream",
     "text": [
      "# train sessions: 209 (85.17%)\n",
      "# test sessions: 53 (83.02%)\n",
      "209 53\n",
      "Done 🎉\n"
     ]
    }
   ],
   "source": [
    "from src.logrep.mcvgenerator import generate\n",
    "\n",
    "generate('../data/BGL', 'BGL.log.structured')"
   ],
   "metadata": {
    "collapsed": false,
    "ExecuteTime": {
     "end_time": "2023-10-08T21:14:45.816883Z",
     "start_time": "2023-10-08T21:14:31.137545Z"
    }
   },
   "id": "6017066facce3224"
  }
 ],
 "metadata": {
  "kernelspec": {
   "display_name": "Python 3",
   "language": "python",
   "name": "python3"
  },
  "language_info": {
   "codemirror_mode": {
    "name": "ipython",
    "version": 2
   },
   "file_extension": ".py",
   "mimetype": "text/x-python",
   "name": "python",
   "nbconvert_exporter": "python",
   "pygments_lexer": "ipython2",
   "version": "2.7.6"
  }
 },
 "nbformat": 4,
 "nbformat_minor": 5
}
